{
  "nbformat": 4,
  "nbformat_minor": 0,
  "metadata": {
    "colab": {
      "name": "Untitled0.ipynb",
      "version": "0.3.2",
      "provenance": []
    },
    "kernelspec": {
      "name": "python3",
      "display_name": "Python 3"
    }
  },
  "cells": [
    {
      "cell_type": "code",
      "metadata": {
        "id": "l4zGN6QnXI7u",
        "colab_type": "code",
        "colab": {}
      },
      "source": [
        "import numpy as np \n",
        "import pandas as pd\n",
        "import matplotlib.pyplot as plt\n",
        "\n"
      ],
      "execution_count": 0,
      "outputs": []
    },
    {
      "cell_type": "code",
      "metadata": {
        "id": "UqPtHlHlX_Ed",
        "colab_type": "code",
        "colab": {
          "resources": {
            "http://localhost:8080/nbextensions/google.colab/files.js": {
              "data": "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",
              "ok": true,
              "headers": [
                [
                  "content-type",
                  "application/javascript"
                ]
              ],
              "status": 200,
              "status_text": ""
            }
          },
          "base_uri": "https://localhost:8080/",
          "height": 74
        },
        "outputId": "3c5b3b98-d5ff-4ce2-c88f-6ffa10d86e0e"
      },
      "source": [
        "from google.colab import files\n",
        "uploaded = files.upload()"
      ],
      "execution_count": 72,
      "outputs": [
        {
          "output_type": "display_data",
          "data": {
            "text/html": [
              "\n",
              "     <input type=\"file\" id=\"files-287fb025-be9a-43fd-92af-a2c599944e63\" name=\"files[]\" multiple disabled />\n",
              "     <output id=\"result-287fb025-be9a-43fd-92af-a2c599944e63\">\n",
              "      Upload widget is only available when the cell has been executed in the\n",
              "      current browser session. Please rerun this cell to enable.\n",
              "      </output>\n",
              "      <script src=\"/nbextensions/google.colab/files.js\"></script> "
            ],
            "text/plain": [
              "<IPython.core.display.HTML object>"
            ]
          },
          "metadata": {
            "tags": []
          }
        },
        {
          "output_type": "stream",
          "text": [
            "Saving bank.csv to bank (2).csv\n"
          ],
          "name": "stdout"
        }
      ]
    },
    {
      "cell_type": "code",
      "metadata": {
        "id": "9cyOPmK2X_qz",
        "colab_type": "code",
        "colab": {}
      },
      "source": [
        "import io\n",
        "Bank = pd.read_csv(io.BytesIO(uploaded['bank.csv']))"
      ],
      "execution_count": 0,
      "outputs": []
    },
    {
      "cell_type": "code",
      "metadata": {
        "id": "KlTvvGBvZPJ3",
        "colab_type": "code",
        "colab": {
          "base_uri": "https://localhost:8080/",
          "height": 204
        },
        "outputId": "7863985b-59ad-4808-ac4e-8254ddb31e28"
      },
      "source": [
        "Bank.head()"
      ],
      "execution_count": 74,
      "outputs": [
        {
          "output_type": "execute_result",
          "data": {
            "text/html": [
              "<div>\n",
              "<style scoped>\n",
              "    .dataframe tbody tr th:only-of-type {\n",
              "        vertical-align: middle;\n",
              "    }\n",
              "\n",
              "    .dataframe tbody tr th {\n",
              "        vertical-align: top;\n",
              "    }\n",
              "\n",
              "    .dataframe thead th {\n",
              "        text-align: right;\n",
              "    }\n",
              "</style>\n",
              "<table border=\"1\" class=\"dataframe\">\n",
              "  <thead>\n",
              "    <tr style=\"text-align: right;\">\n",
              "      <th></th>\n",
              "      <th>RowNumber</th>\n",
              "      <th>CustomerId</th>\n",
              "      <th>Surname</th>\n",
              "      <th>CreditScore</th>\n",
              "      <th>Geography</th>\n",
              "      <th>Gender</th>\n",
              "      <th>Age</th>\n",
              "      <th>Tenure</th>\n",
              "      <th>Balance</th>\n",
              "      <th>NumOfProducts</th>\n",
              "      <th>HasCrCard</th>\n",
              "      <th>IsActiveMember</th>\n",
              "      <th>EstimatedSalary</th>\n",
              "      <th>Exited</th>\n",
              "    </tr>\n",
              "  </thead>\n",
              "  <tbody>\n",
              "    <tr>\n",
              "      <th>0</th>\n",
              "      <td>1</td>\n",
              "      <td>15634602</td>\n",
              "      <td>Hargrave</td>\n",
              "      <td>619</td>\n",
              "      <td>France</td>\n",
              "      <td>Female</td>\n",
              "      <td>42</td>\n",
              "      <td>2</td>\n",
              "      <td>0.00</td>\n",
              "      <td>1</td>\n",
              "      <td>1</td>\n",
              "      <td>1</td>\n",
              "      <td>101348.88</td>\n",
              "      <td>1</td>\n",
              "    </tr>\n",
              "    <tr>\n",
              "      <th>1</th>\n",
              "      <td>2</td>\n",
              "      <td>15647311</td>\n",
              "      <td>Hill</td>\n",
              "      <td>608</td>\n",
              "      <td>Spain</td>\n",
              "      <td>Female</td>\n",
              "      <td>41</td>\n",
              "      <td>1</td>\n",
              "      <td>83807.86</td>\n",
              "      <td>1</td>\n",
              "      <td>0</td>\n",
              "      <td>1</td>\n",
              "      <td>112542.58</td>\n",
              "      <td>0</td>\n",
              "    </tr>\n",
              "    <tr>\n",
              "      <th>2</th>\n",
              "      <td>3</td>\n",
              "      <td>15619304</td>\n",
              "      <td>Onio</td>\n",
              "      <td>502</td>\n",
              "      <td>France</td>\n",
              "      <td>Female</td>\n",
              "      <td>42</td>\n",
              "      <td>8</td>\n",
              "      <td>159660.80</td>\n",
              "      <td>3</td>\n",
              "      <td>1</td>\n",
              "      <td>0</td>\n",
              "      <td>113931.57</td>\n",
              "      <td>1</td>\n",
              "    </tr>\n",
              "    <tr>\n",
              "      <th>3</th>\n",
              "      <td>4</td>\n",
              "      <td>15701354</td>\n",
              "      <td>Boni</td>\n",
              "      <td>699</td>\n",
              "      <td>France</td>\n",
              "      <td>Female</td>\n",
              "      <td>39</td>\n",
              "      <td>1</td>\n",
              "      <td>0.00</td>\n",
              "      <td>2</td>\n",
              "      <td>0</td>\n",
              "      <td>0</td>\n",
              "      <td>93826.63</td>\n",
              "      <td>0</td>\n",
              "    </tr>\n",
              "    <tr>\n",
              "      <th>4</th>\n",
              "      <td>5</td>\n",
              "      <td>15737888</td>\n",
              "      <td>Mitchell</td>\n",
              "      <td>850</td>\n",
              "      <td>Spain</td>\n",
              "      <td>Female</td>\n",
              "      <td>43</td>\n",
              "      <td>2</td>\n",
              "      <td>125510.82</td>\n",
              "      <td>1</td>\n",
              "      <td>1</td>\n",
              "      <td>1</td>\n",
              "      <td>79084.10</td>\n",
              "      <td>0</td>\n",
              "    </tr>\n",
              "  </tbody>\n",
              "</table>\n",
              "</div>"
            ],
            "text/plain": [
              "   RowNumber  CustomerId   Surname  ...  IsActiveMember EstimatedSalary Exited\n",
              "0          1    15634602  Hargrave  ...               1       101348.88      1\n",
              "1          2    15647311      Hill  ...               1       112542.58      0\n",
              "2          3    15619304      Onio  ...               0       113931.57      1\n",
              "3          4    15701354      Boni  ...               0        93826.63      0\n",
              "4          5    15737888  Mitchell  ...               1        79084.10      0\n",
              "\n",
              "[5 rows x 14 columns]"
            ]
          },
          "metadata": {
            "tags": []
          },
          "execution_count": 74
        }
      ]
    },
    {
      "cell_type": "code",
      "metadata": {
        "id": "u9gDBlaKYAAV",
        "colab_type": "code",
        "colab": {
          "base_uri": "https://localhost:8080/",
          "height": 340
        },
        "outputId": "afeed7f5-3218-44c3-b236-1a20f5e7ce46"
      },
      "source": [
        "Bank.info()"
      ],
      "execution_count": 75,
      "outputs": [
        {
          "output_type": "stream",
          "text": [
            "<class 'pandas.core.frame.DataFrame'>\n",
            "RangeIndex: 10000 entries, 0 to 9999\n",
            "Data columns (total 14 columns):\n",
            "RowNumber          10000 non-null int64\n",
            "CustomerId         10000 non-null int64\n",
            "Surname            10000 non-null object\n",
            "CreditScore        10000 non-null int64\n",
            "Geography          10000 non-null object\n",
            "Gender             10000 non-null object\n",
            "Age                10000 non-null int64\n",
            "Tenure             10000 non-null int64\n",
            "Balance            10000 non-null float64\n",
            "NumOfProducts      10000 non-null int64\n",
            "HasCrCard          10000 non-null int64\n",
            "IsActiveMember     10000 non-null int64\n",
            "EstimatedSalary    10000 non-null float64\n",
            "Exited             10000 non-null int64\n",
            "dtypes: float64(2), int64(9), object(3)\n",
            "memory usage: 1.1+ MB\n"
          ],
          "name": "stdout"
        }
      ]
    },
    {
      "cell_type": "code",
      "metadata": {
        "id": "QyZRL72dZF-l",
        "colab_type": "code",
        "colab": {}
      },
      "source": [
        "X = Bank.iloc[:, 3:13].values\n",
        "y = Bank.iloc[:,13].values"
      ],
      "execution_count": 0,
      "outputs": []
    },
    {
      "cell_type": "code",
      "metadata": {
        "id": "dyJvRhPfaxXE",
        "colab_type": "code",
        "colab": {
          "base_uri": "https://localhost:8080/",
          "height": 139
        },
        "outputId": "dc4319c8-6c3b-4527-98df-1cbe9e0fd5ce"
      },
      "source": [
        "from sklearn.preprocessing import LabelEncoder, OneHotEncoder\n",
        "labelencoder_X_1 = LabelEncoder()\n",
        "X[:, 1] = labelencoder_X_1.fit_transform(X[:, 1])\n",
        "labelencoder_X_2 = LabelEncoder()\n",
        "X[:, 2] = labelencoder_X_2.fit_transform(X[:, 2])\n",
        "onehotencoder = OneHotEncoder(categorical_features = [1])\n",
        "X = onehotencoder.fit_transform(X).toarray()\n",
        "X = X[:,1:]\n"
      ],
      "execution_count": 77,
      "outputs": [
        {
          "output_type": "stream",
          "text": [
            "/usr/local/lib/python3.6/dist-packages/sklearn/preprocessing/_encoders.py:414: FutureWarning: The handling of integer data will change in version 0.22. Currently, the categories are determined based on the range [0, max(values)], while in the future they will be determined based on the unique values.\n",
            "If you want the future behaviour and silence this warning, you can specify \"categories='auto'\".\n",
            "In case you used a LabelEncoder before this OneHotEncoder to convert the categories to integers, then you can now use the OneHotEncoder directly.\n",
            "  warnings.warn(msg, FutureWarning)\n",
            "/usr/local/lib/python3.6/dist-packages/sklearn/preprocessing/_encoders.py:450: DeprecationWarning: The 'categorical_features' keyword is deprecated in version 0.20 and will be removed in 0.22. You can use the ColumnTransformer instead.\n",
            "  \"use the ColumnTransformer instead.\", DeprecationWarning)\n"
          ],
          "name": "stderr"
        }
      ]
    },
    {
      "cell_type": "code",
      "metadata": {
        "id": "zE8cFlUKfSzU",
        "colab_type": "code",
        "colab": {}
      },
      "source": [
        "## Splitting data into training and test set ##\n",
        "from sklearn.model_selection import train_test_split\n",
        "X_train, X_test, y_train, y_test = train_test_split(X,y, test_size = 0.3, random_state = 0)"
      ],
      "execution_count": 0,
      "outputs": []
    },
    {
      "cell_type": "code",
      "metadata": {
        "id": "MmwHaqE_fN3C",
        "colab_type": "code",
        "colab": {}
      },
      "source": [
        "from sklearn.preprocessing import StandardScaler\n",
        "sc_X = StandardScaler()\n",
        "X_train = sc_X.fit_transform(X_train)\n",
        "X_test = sc_X.transform(X_test)"
      ],
      "execution_count": 0,
      "outputs": []
    },
    {
      "cell_type": "code",
      "metadata": {
        "id": "hfVob_ZJgLLB",
        "colab_type": "code",
        "colab": {}
      },
      "source": [
        "import keras\n",
        "from keras.models import Sequential\n",
        "from keras.layers import Dense"
      ],
      "execution_count": 0,
      "outputs": []
    },
    {
      "cell_type": "code",
      "metadata": {
        "id": "EUf5VTxkhZUN",
        "colab_type": "code",
        "colab": {}
      },
      "source": [
        "classifier = Sequential()"
      ],
      "execution_count": 0,
      "outputs": []
    },
    {
      "cell_type": "code",
      "metadata": {
        "id": "r9QTS7gFhZhV",
        "colab_type": "code",
        "colab": {
          "base_uri": "https://localhost:8080/",
          "height": 71
        },
        "outputId": "786a6ca4-2119-4a42-b455-fbd424b816ad"
      },
      "source": [
        "classifier.add(Dense(activation = 'relu', output_dim = 6, input_dim=11, init ='uniform'))"
      ],
      "execution_count": 82,
      "outputs": [
        {
          "output_type": "stream",
          "text": [
            "/usr/local/lib/python3.6/dist-packages/ipykernel_launcher.py:1: UserWarning: Update your `Dense` call to the Keras 2 API: `Dense(activation=\"relu\", input_dim=11, units=6, kernel_initializer=\"uniform\")`\n",
            "  \"\"\"Entry point for launching an IPython kernel.\n"
          ],
          "name": "stderr"
        }
      ]
    },
    {
      "cell_type": "code",
      "metadata": {
        "id": "af4fqUi6hZp7",
        "colab_type": "code",
        "colab": {
          "base_uri": "https://localhost:8080/",
          "height": 71
        },
        "outputId": "a596b314-5beb-48eb-c104-c87a860cdfc8"
      },
      "source": [
        "classifier.add(Dense(activation = 'relu', output_dim =6, init ='uniform')) "
      ],
      "execution_count": 83,
      "outputs": [
        {
          "output_type": "stream",
          "text": [
            "/usr/local/lib/python3.6/dist-packages/ipykernel_launcher.py:1: UserWarning: Update your `Dense` call to the Keras 2 API: `Dense(activation=\"relu\", units=6, kernel_initializer=\"uniform\")`\n",
            "  \"\"\"Entry point for launching an IPython kernel.\n"
          ],
          "name": "stderr"
        }
      ]
    },
    {
      "cell_type": "code",
      "metadata": {
        "id": "yqse93hzhZw8",
        "colab_type": "code",
        "colab": {
          "base_uri": "https://localhost:8080/",
          "height": 71
        },
        "outputId": "be601ec8-6ced-4a0b-82d3-cbe7417b510d"
      },
      "source": [
        "classifier.add(Dense(activation = 'sigmoid', units=1, init ='uniform')) "
      ],
      "execution_count": 84,
      "outputs": [
        {
          "output_type": "stream",
          "text": [
            "/usr/local/lib/python3.6/dist-packages/ipykernel_launcher.py:1: UserWarning: Update your `Dense` call to the Keras 2 API: `Dense(activation=\"sigmoid\", units=1, kernel_initializer=\"uniform\")`\n",
            "  \"\"\"Entry point for launching an IPython kernel.\n"
          ],
          "name": "stderr"
        }
      ]
    },
    {
      "cell_type": "code",
      "metadata": {
        "id": "wQKtf3GbjOy0",
        "colab_type": "code",
        "colab": {}
      },
      "source": [
        "classifier.compile(optimizer='adam', loss = 'binary_crossentropy', metrics=['accuracy'])"
      ],
      "execution_count": 0,
      "outputs": []
    },
    {
      "cell_type": "code",
      "metadata": {
        "id": "DEdYzheCjZ5d",
        "colab_type": "code",
        "colab": {
          "base_uri": "https://localhost:8080/",
          "height": 3505
        },
        "outputId": "1924bce2-1023-40d5-b261-ecf77f92bca6"
      },
      "source": [
        "classifier.fit(X_train, y_train, batch_size=10, epochs=100)"
      ],
      "execution_count": 86,
      "outputs": [
        {
          "output_type": "stream",
          "text": [
            "WARNING:tensorflow:From /usr/local/lib/python3.6/dist-packages/tensorflow/python/ops/math_ops.py:3066: to_int32 (from tensorflow.python.ops.math_ops) is deprecated and will be removed in a future version.\n",
            "Instructions for updating:\n",
            "Use tf.cast instead.\n",
            "Epoch 1/100\n",
            "7000/7000 [==============================] - 2s 215us/step - loss: 0.4870 - acc: 0.7977\n",
            "Epoch 2/100\n",
            "7000/7000 [==============================] - 1s 101us/step - loss: 0.4290 - acc: 0.7977\n",
            "Epoch 3/100\n",
            "7000/7000 [==============================] - 1s 98us/step - loss: 0.4229 - acc: 0.7977\n",
            "Epoch 4/100\n",
            "7000/7000 [==============================] - 1s 96us/step - loss: 0.4188 - acc: 0.8110\n",
            "Epoch 5/100\n",
            "7000/7000 [==============================] - 1s 93us/step - loss: 0.4163 - acc: 0.8236\n",
            "Epoch 6/100\n",
            "7000/7000 [==============================] - 1s 94us/step - loss: 0.4145 - acc: 0.8270\n",
            "Epoch 7/100\n",
            "7000/7000 [==============================] - 1s 96us/step - loss: 0.4130 - acc: 0.8300\n",
            "Epoch 8/100\n",
            "7000/7000 [==============================] - 1s 93us/step - loss: 0.4116 - acc: 0.8303\n",
            "Epoch 9/100\n",
            "7000/7000 [==============================] - 1s 97us/step - loss: 0.4108 - acc: 0.8304\n",
            "Epoch 10/100\n",
            "7000/7000 [==============================] - 1s 96us/step - loss: 0.4102 - acc: 0.8334\n",
            "Epoch 11/100\n",
            "7000/7000 [==============================] - 1s 94us/step - loss: 0.4094 - acc: 0.8333\n",
            "Epoch 12/100\n",
            "7000/7000 [==============================] - 1s 96us/step - loss: 0.4087 - acc: 0.8324\n",
            "Epoch 13/100\n",
            "7000/7000 [==============================] - 1s 95us/step - loss: 0.4085 - acc: 0.8357\n",
            "Epoch 14/100\n",
            "7000/7000 [==============================] - 1s 95us/step - loss: 0.4077 - acc: 0.8336\n",
            "Epoch 15/100\n",
            "7000/7000 [==============================] - 1s 94us/step - loss: 0.4070 - acc: 0.8349\n",
            "Epoch 16/100\n",
            "7000/7000 [==============================] - 1s 97us/step - loss: 0.4067 - acc: 0.8353\n",
            "Epoch 17/100\n",
            "7000/7000 [==============================] - 1s 96us/step - loss: 0.4056 - acc: 0.8343\n",
            "Epoch 18/100\n",
            "7000/7000 [==============================] - 1s 94us/step - loss: 0.4060 - acc: 0.8344\n",
            "Epoch 19/100\n",
            "7000/7000 [==============================] - 1s 95us/step - loss: 0.4055 - acc: 0.8351\n",
            "Epoch 20/100\n",
            "7000/7000 [==============================] - 1s 95us/step - loss: 0.4055 - acc: 0.8354\n",
            "Epoch 21/100\n",
            "7000/7000 [==============================] - 1s 94us/step - loss: 0.4051 - acc: 0.8343\n",
            "Epoch 22/100\n",
            "7000/7000 [==============================] - 1s 96us/step - loss: 0.4048 - acc: 0.8351\n",
            "Epoch 23/100\n",
            "7000/7000 [==============================] - 1s 93us/step - loss: 0.4042 - acc: 0.8344\n",
            "Epoch 24/100\n",
            "7000/7000 [==============================] - 1s 93us/step - loss: 0.4044 - acc: 0.8369\n",
            "Epoch 25/100\n",
            "7000/7000 [==============================] - 1s 97us/step - loss: 0.4041 - acc: 0.8337\n",
            "Epoch 26/100\n",
            "7000/7000 [==============================] - 1s 93us/step - loss: 0.4042 - acc: 0.8357\n",
            "Epoch 27/100\n",
            "7000/7000 [==============================] - 1s 93us/step - loss: 0.4038 - acc: 0.8336\n",
            "Epoch 28/100\n",
            "7000/7000 [==============================] - 1s 95us/step - loss: 0.4035 - acc: 0.8337\n",
            "Epoch 29/100\n",
            "7000/7000 [==============================] - 1s 96us/step - loss: 0.4033 - acc: 0.8336\n",
            "Epoch 30/100\n",
            "7000/7000 [==============================] - 1s 93us/step - loss: 0.4036 - acc: 0.8350\n",
            "Epoch 31/100\n",
            "7000/7000 [==============================] - 1s 95us/step - loss: 0.4035 - acc: 0.8350\n",
            "Epoch 32/100\n",
            "7000/7000 [==============================] - 1s 93us/step - loss: 0.4025 - acc: 0.8336\n",
            "Epoch 33/100\n",
            "7000/7000 [==============================] - 1s 94us/step - loss: 0.4031 - acc: 0.8349\n",
            "Epoch 34/100\n",
            "7000/7000 [==============================] - 1s 94us/step - loss: 0.4027 - acc: 0.8356\n",
            "Epoch 35/100\n",
            "7000/7000 [==============================] - 1s 96us/step - loss: 0.4029 - acc: 0.8343\n",
            "Epoch 36/100\n",
            "7000/7000 [==============================] - 1s 94us/step - loss: 0.4026 - acc: 0.8340\n",
            "Epoch 37/100\n",
            "7000/7000 [==============================] - 1s 94us/step - loss: 0.4023 - acc: 0.8351\n",
            "Epoch 38/100\n",
            "7000/7000 [==============================] - 1s 94us/step - loss: 0.4023 - acc: 0.8341\n",
            "Epoch 39/100\n",
            "7000/7000 [==============================] - 1s 96us/step - loss: 0.4031 - acc: 0.8326\n",
            "Epoch 40/100\n",
            "7000/7000 [==============================] - 1s 96us/step - loss: 0.4022 - acc: 0.8357\n",
            "Epoch 41/100\n",
            "7000/7000 [==============================] - 1s 94us/step - loss: 0.4024 - acc: 0.8340\n",
            "Epoch 42/100\n",
            "7000/7000 [==============================] - 1s 93us/step - loss: 0.4021 - acc: 0.8326\n",
            "Epoch 43/100\n",
            "7000/7000 [==============================] - 1s 96us/step - loss: 0.4023 - acc: 0.8336\n",
            "Epoch 44/100\n",
            "7000/7000 [==============================] - 1s 92us/step - loss: 0.4023 - acc: 0.8350\n",
            "Epoch 45/100\n",
            "7000/7000 [==============================] - 1s 93us/step - loss: 0.4016 - acc: 0.8346\n",
            "Epoch 46/100\n",
            "7000/7000 [==============================] - 1s 96us/step - loss: 0.4017 - acc: 0.8344\n",
            "Epoch 47/100\n",
            "7000/7000 [==============================] - 1s 93us/step - loss: 0.4018 - acc: 0.8354\n",
            "Epoch 48/100\n",
            "7000/7000 [==============================] - 1s 95us/step - loss: 0.4007 - acc: 0.8354\n",
            "Epoch 49/100\n",
            "7000/7000 [==============================] - 1s 96us/step - loss: 0.4012 - acc: 0.8354\n",
            "Epoch 50/100\n",
            "7000/7000 [==============================] - 1s 93us/step - loss: 0.4019 - acc: 0.8341\n",
            "Epoch 51/100\n",
            "7000/7000 [==============================] - 1s 94us/step - loss: 0.4018 - acc: 0.8359\n",
            "Epoch 52/100\n",
            "7000/7000 [==============================] - 1s 95us/step - loss: 0.4011 - acc: 0.8354\n",
            "Epoch 53/100\n",
            "7000/7000 [==============================] - 1s 93us/step - loss: 0.4010 - acc: 0.8356\n",
            "Epoch 54/100\n",
            "7000/7000 [==============================] - 1s 93us/step - loss: 0.4011 - acc: 0.8344\n",
            "Epoch 55/100\n",
            "7000/7000 [==============================] - 1s 96us/step - loss: 0.4009 - acc: 0.8330\n",
            "Epoch 56/100\n",
            "7000/7000 [==============================] - 1s 94us/step - loss: 0.4013 - acc: 0.8351\n",
            "Epoch 57/100\n",
            "7000/7000 [==============================] - 1s 98us/step - loss: 0.4006 - acc: 0.8344\n",
            "Epoch 58/100\n",
            "7000/7000 [==============================] - 1s 97us/step - loss: 0.4012 - acc: 0.8346\n",
            "Epoch 59/100\n",
            "7000/7000 [==============================] - 1s 94us/step - loss: 0.4008 - acc: 0.8327\n",
            "Epoch 60/100\n",
            "7000/7000 [==============================] - 1s 94us/step - loss: 0.4012 - acc: 0.8333\n",
            "Epoch 61/100\n",
            "7000/7000 [==============================] - 1s 98us/step - loss: 0.4011 - acc: 0.8337\n",
            "Epoch 62/100\n",
            "7000/7000 [==============================] - 1s 93us/step - loss: 0.4013 - acc: 0.8336\n",
            "Epoch 63/100\n",
            "7000/7000 [==============================] - 1s 98us/step - loss: 0.4007 - acc: 0.8351\n",
            "Epoch 64/100\n",
            "7000/7000 [==============================] - 1s 94us/step - loss: 0.4011 - acc: 0.8337\n",
            "Epoch 65/100\n",
            "7000/7000 [==============================] - 1s 93us/step - loss: 0.4010 - acc: 0.8317\n",
            "Epoch 66/100\n",
            "7000/7000 [==============================] - 1s 95us/step - loss: 0.4005 - acc: 0.8341\n",
            "Epoch 67/100\n",
            "7000/7000 [==============================] - 1s 94us/step - loss: 0.4010 - acc: 0.8321\n",
            "Epoch 68/100\n",
            "7000/7000 [==============================] - 1s 94us/step - loss: 0.4005 - acc: 0.8346\n",
            "Epoch 69/100\n",
            "7000/7000 [==============================] - 1s 97us/step - loss: 0.4003 - acc: 0.8341\n",
            "Epoch 70/100\n",
            "7000/7000 [==============================] - 1s 94us/step - loss: 0.4000 - acc: 0.8341\n",
            "Epoch 71/100\n",
            "7000/7000 [==============================] - 1s 95us/step - loss: 0.4004 - acc: 0.8351\n",
            "Epoch 72/100\n",
            "7000/7000 [==============================] - 1s 94us/step - loss: 0.4002 - acc: 0.8350\n",
            "Epoch 73/100\n",
            "7000/7000 [==============================] - 1s 99us/step - loss: 0.4003 - acc: 0.8354\n",
            "Epoch 74/100\n",
            "7000/7000 [==============================] - 1s 97us/step - loss: 0.4003 - acc: 0.8334\n",
            "Epoch 75/100\n",
            "7000/7000 [==============================] - 1s 96us/step - loss: 0.3996 - acc: 0.8353\n",
            "Epoch 76/100\n",
            "7000/7000 [==============================] - 1s 94us/step - loss: 0.4001 - acc: 0.8340\n",
            "Epoch 77/100\n",
            "7000/7000 [==============================] - 1s 95us/step - loss: 0.3997 - acc: 0.8360\n",
            "Epoch 78/100\n",
            "7000/7000 [==============================] - 1s 93us/step - loss: 0.3998 - acc: 0.8373\n",
            "Epoch 79/100\n",
            "7000/7000 [==============================] - 1s 96us/step - loss: 0.3999 - acc: 0.8357\n",
            "Epoch 80/100\n",
            "7000/7000 [==============================] - 1s 95us/step - loss: 0.3995 - acc: 0.8340\n",
            "Epoch 81/100\n",
            "7000/7000 [==============================] - 1s 94us/step - loss: 0.4001 - acc: 0.8349\n",
            "Epoch 82/100\n",
            "7000/7000 [==============================] - 1s 94us/step - loss: 0.3995 - acc: 0.8357\n",
            "Epoch 83/100\n",
            "7000/7000 [==============================] - 1s 97us/step - loss: 0.3996 - acc: 0.8334\n",
            "Epoch 84/100\n",
            "7000/7000 [==============================] - 1s 94us/step - loss: 0.3990 - acc: 0.8349\n",
            "Epoch 85/100\n",
            "7000/7000 [==============================] - 1s 97us/step - loss: 0.3994 - acc: 0.8351\n",
            "Epoch 86/100\n",
            "7000/7000 [==============================] - 1s 94us/step - loss: 0.3995 - acc: 0.8350\n",
            "Epoch 87/100\n",
            "7000/7000 [==============================] - 1s 97us/step - loss: 0.3993 - acc: 0.8351\n",
            "Epoch 88/100\n",
            "7000/7000 [==============================] - 1s 94us/step - loss: 0.3996 - acc: 0.8351\n",
            "Epoch 89/100\n",
            "7000/7000 [==============================] - 1s 98us/step - loss: 0.3992 - acc: 0.8351\n",
            "Epoch 90/100\n",
            "7000/7000 [==============================] - 1s 94us/step - loss: 0.3994 - acc: 0.8354\n",
            "Epoch 91/100\n",
            "7000/7000 [==============================] - 1s 97us/step - loss: 0.3991 - acc: 0.8341\n",
            "Epoch 92/100\n",
            "7000/7000 [==============================] - 1s 96us/step - loss: 0.3998 - acc: 0.8344\n",
            "Epoch 93/100\n",
            "7000/7000 [==============================] - 1s 97us/step - loss: 0.3993 - acc: 0.8354\n",
            "Epoch 94/100\n",
            "7000/7000 [==============================] - 1s 99us/step - loss: 0.3989 - acc: 0.8346\n",
            "Epoch 95/100\n",
            "7000/7000 [==============================] - 1s 98us/step - loss: 0.3998 - acc: 0.8361\n",
            "Epoch 96/100\n",
            "7000/7000 [==============================] - 1s 97us/step - loss: 0.3991 - acc: 0.8351\n",
            "Epoch 97/100\n",
            "7000/7000 [==============================] - 1s 98us/step - loss: 0.3995 - acc: 0.8343\n",
            "Epoch 98/100\n",
            "7000/7000 [==============================] - 1s 97us/step - loss: 0.3990 - acc: 0.8354\n",
            "Epoch 99/100\n",
            "7000/7000 [==============================] - 1s 96us/step - loss: 0.3990 - acc: 0.8359\n",
            "Epoch 100/100\n",
            "7000/7000 [==============================] - 1s 99us/step - loss: 0.3991 - acc: 0.8351\n"
          ],
          "name": "stdout"
        },
        {
          "output_type": "execute_result",
          "data": {
            "text/plain": [
              "<keras.callbacks.History at 0x7f89def864e0>"
            ]
          },
          "metadata": {
            "tags": []
          },
          "execution_count": 86
        }
      ]
    },
    {
      "cell_type": "code",
      "metadata": {
        "id": "zS2trxwjsQlE",
        "colab_type": "code",
        "colab": {
          "base_uri": "https://localhost:8080/",
          "height": 136
        },
        "outputId": "43b757d2-2e5e-4919-c640-585c4e53a623"
      },
      "source": [
        "y_pred = classifier.predict(X_test)\n",
        "print(y_pred)"
      ],
      "execution_count": 87,
      "outputs": [
        {
          "output_type": "stream",
          "text": [
            "[[0.30560166]\n",
            " [0.36776456]\n",
            " [0.17240834]\n",
            " ...\n",
            " [0.14415821]\n",
            " [0.10029209]\n",
            " [0.48085833]]\n"
          ],
          "name": "stdout"
        }
      ]
    },
    {
      "cell_type": "code",
      "metadata": {
        "id": "fUHIsipSuGmX",
        "colab_type": "code",
        "colab": {
          "base_uri": "https://localhost:8080/",
          "height": 136
        },
        "outputId": "a13a76e4-6e25-40de-eda2-6fe2a413f4aa"
      },
      "source": [
        "y_pred = (y_pred > 0.5)\n",
        "print(y_pred)"
      ],
      "execution_count": 88,
      "outputs": [
        {
          "output_type": "stream",
          "text": [
            "[[False]\n",
            " [False]\n",
            " [False]\n",
            " ...\n",
            " [False]\n",
            " [False]\n",
            " [False]]\n"
          ],
          "name": "stdout"
        }
      ]
    },
    {
      "cell_type": "code",
      "metadata": {
        "id": "RrKViW7_uG1S",
        "colab_type": "code",
        "colab": {
          "base_uri": "https://localhost:8080/",
          "height": 51
        },
        "outputId": "4fe63f96-a780-4fcf-d96f-cfe3e362ea11"
      },
      "source": [
        "from sklearn.metrics import confusion_matrix\n",
        "cm = confusion_matrix(y_test, y_pred)\n",
        "print(cm)"
      ],
      "execution_count": 89,
      "outputs": [
        {
          "output_type": "stream",
          "text": [
            "[[2299   80]\n",
            " [ 394  227]]\n"
          ],
          "name": "stdout"
        }
      ]
    },
    {
      "cell_type": "code",
      "metadata": {
        "id": "K9zBO7BVumQr",
        "colab_type": "code",
        "colab": {
          "base_uri": "https://localhost:8080/",
          "height": 34
        },
        "outputId": "85125c36-f331-40f1-b9c0-03d981f61c41"
      },
      "source": [
        "print (((cm[0][0]+cm[1][1])*100)/(cm[0][0]+cm[1][1]+cm[0][1]+cm[1][0]), '% of testing data was classified correctly')"
      ],
      "execution_count": 90,
      "outputs": [
        {
          "output_type": "stream",
          "text": [
            "84.2 % of testing data was classified correctly\n"
          ],
          "name": "stdout"
        }
      ]
    }
  ]
}