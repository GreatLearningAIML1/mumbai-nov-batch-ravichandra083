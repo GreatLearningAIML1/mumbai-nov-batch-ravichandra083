{
 "cells": [
  {
   "cell_type": "code",
   "execution_count": 20,
   "metadata": {},
   "outputs": [],
   "source": [
    "import pandas as pd\n",
    "import numpy as np\n",
    "import matplotlib.pyplot as plt\n",
    "%matplotlib inline\n",
    "import seaborn as sns\n",
    "import datetime"
   ]
  },
  {
   "cell_type": "code",
   "execution_count": 2,
   "metadata": {},
   "outputs": [],
   "source": [
    "Housing = pd.read_csv(\"kc_house_data-1.csv\")"
   ]
  },
  {
   "cell_type": "code",
   "execution_count": 3,
   "metadata": {},
   "outputs": [
    {
     "data": {
      "text/html": [
       "<div>\n",
       "<style scoped>\n",
       "    .dataframe tbody tr th:only-of-type {\n",
       "        vertical-align: middle;\n",
       "    }\n",
       "\n",
       "    .dataframe tbody tr th {\n",
       "        vertical-align: top;\n",
       "    }\n",
       "\n",
       "    .dataframe thead th {\n",
       "        text-align: right;\n",
       "    }\n",
       "</style>\n",
       "<table border=\"1\" class=\"dataframe\">\n",
       "  <thead>\n",
       "    <tr style=\"text-align: right;\">\n",
       "      <th></th>\n",
       "      <th>id</th>\n",
       "      <th>date</th>\n",
       "      <th>price</th>\n",
       "      <th>bedrooms</th>\n",
       "      <th>bathrooms</th>\n",
       "      <th>sqft_living</th>\n",
       "      <th>sqft_lot</th>\n",
       "      <th>floors</th>\n",
       "      <th>waterfront</th>\n",
       "      <th>view</th>\n",
       "      <th>...</th>\n",
       "      <th>grade</th>\n",
       "      <th>sqft_above</th>\n",
       "      <th>sqft_basement</th>\n",
       "      <th>yr_built</th>\n",
       "      <th>yr_renovated</th>\n",
       "      <th>zipcode</th>\n",
       "      <th>lat</th>\n",
       "      <th>long</th>\n",
       "      <th>sqft_living15</th>\n",
       "      <th>sqft_lot15</th>\n",
       "    </tr>\n",
       "  </thead>\n",
       "  <tbody>\n",
       "    <tr>\n",
       "      <th>0</th>\n",
       "      <td>7129300520</td>\n",
       "      <td>20141013T000000</td>\n",
       "      <td>221900.0</td>\n",
       "      <td>3</td>\n",
       "      <td>1.00</td>\n",
       "      <td>1180</td>\n",
       "      <td>5650</td>\n",
       "      <td>1.0</td>\n",
       "      <td>0</td>\n",
       "      <td>0</td>\n",
       "      <td>...</td>\n",
       "      <td>7</td>\n",
       "      <td>1180</td>\n",
       "      <td>0</td>\n",
       "      <td>1955</td>\n",
       "      <td>0</td>\n",
       "      <td>98178</td>\n",
       "      <td>47.5112</td>\n",
       "      <td>-122.257</td>\n",
       "      <td>1340</td>\n",
       "      <td>5650</td>\n",
       "    </tr>\n",
       "    <tr>\n",
       "      <th>1</th>\n",
       "      <td>6414100192</td>\n",
       "      <td>20141209T000000</td>\n",
       "      <td>538000.0</td>\n",
       "      <td>3</td>\n",
       "      <td>2.25</td>\n",
       "      <td>2570</td>\n",
       "      <td>7242</td>\n",
       "      <td>2.0</td>\n",
       "      <td>0</td>\n",
       "      <td>0</td>\n",
       "      <td>...</td>\n",
       "      <td>7</td>\n",
       "      <td>2170</td>\n",
       "      <td>400</td>\n",
       "      <td>1951</td>\n",
       "      <td>1991</td>\n",
       "      <td>98125</td>\n",
       "      <td>47.7210</td>\n",
       "      <td>-122.319</td>\n",
       "      <td>1690</td>\n",
       "      <td>7639</td>\n",
       "    </tr>\n",
       "    <tr>\n",
       "      <th>2</th>\n",
       "      <td>5631500400</td>\n",
       "      <td>20150225T000000</td>\n",
       "      <td>180000.0</td>\n",
       "      <td>2</td>\n",
       "      <td>1.00</td>\n",
       "      <td>770</td>\n",
       "      <td>10000</td>\n",
       "      <td>1.0</td>\n",
       "      <td>0</td>\n",
       "      <td>0</td>\n",
       "      <td>...</td>\n",
       "      <td>6</td>\n",
       "      <td>770</td>\n",
       "      <td>0</td>\n",
       "      <td>1933</td>\n",
       "      <td>0</td>\n",
       "      <td>98028</td>\n",
       "      <td>47.7379</td>\n",
       "      <td>-122.233</td>\n",
       "      <td>2720</td>\n",
       "      <td>8062</td>\n",
       "    </tr>\n",
       "    <tr>\n",
       "      <th>3</th>\n",
       "      <td>2487200875</td>\n",
       "      <td>20141209T000000</td>\n",
       "      <td>604000.0</td>\n",
       "      <td>4</td>\n",
       "      <td>3.00</td>\n",
       "      <td>1960</td>\n",
       "      <td>5000</td>\n",
       "      <td>1.0</td>\n",
       "      <td>0</td>\n",
       "      <td>0</td>\n",
       "      <td>...</td>\n",
       "      <td>7</td>\n",
       "      <td>1050</td>\n",
       "      <td>910</td>\n",
       "      <td>1965</td>\n",
       "      <td>0</td>\n",
       "      <td>98136</td>\n",
       "      <td>47.5208</td>\n",
       "      <td>-122.393</td>\n",
       "      <td>1360</td>\n",
       "      <td>5000</td>\n",
       "    </tr>\n",
       "    <tr>\n",
       "      <th>4</th>\n",
       "      <td>1954400510</td>\n",
       "      <td>20150218T000000</td>\n",
       "      <td>510000.0</td>\n",
       "      <td>3</td>\n",
       "      <td>2.00</td>\n",
       "      <td>1680</td>\n",
       "      <td>8080</td>\n",
       "      <td>1.0</td>\n",
       "      <td>0</td>\n",
       "      <td>0</td>\n",
       "      <td>...</td>\n",
       "      <td>8</td>\n",
       "      <td>1680</td>\n",
       "      <td>0</td>\n",
       "      <td>1987</td>\n",
       "      <td>0</td>\n",
       "      <td>98074</td>\n",
       "      <td>47.6168</td>\n",
       "      <td>-122.045</td>\n",
       "      <td>1800</td>\n",
       "      <td>7503</td>\n",
       "    </tr>\n",
       "  </tbody>\n",
       "</table>\n",
       "<p>5 rows × 21 columns</p>\n",
       "</div>"
      ],
      "text/plain": [
       "           id             date     price  bedrooms  bathrooms  sqft_living  \\\n",
       "0  7129300520  20141013T000000  221900.0         3       1.00         1180   \n",
       "1  6414100192  20141209T000000  538000.0         3       2.25         2570   \n",
       "2  5631500400  20150225T000000  180000.0         2       1.00          770   \n",
       "3  2487200875  20141209T000000  604000.0         4       3.00         1960   \n",
       "4  1954400510  20150218T000000  510000.0         3       2.00         1680   \n",
       "\n",
       "   sqft_lot  floors  waterfront  view  ...  grade  sqft_above  sqft_basement  \\\n",
       "0      5650     1.0           0     0  ...      7        1180              0   \n",
       "1      7242     2.0           0     0  ...      7        2170            400   \n",
       "2     10000     1.0           0     0  ...      6         770              0   \n",
       "3      5000     1.0           0     0  ...      7        1050            910   \n",
       "4      8080     1.0           0     0  ...      8        1680              0   \n",
       "\n",
       "   yr_built  yr_renovated  zipcode      lat     long  sqft_living15  \\\n",
       "0      1955             0    98178  47.5112 -122.257           1340   \n",
       "1      1951          1991    98125  47.7210 -122.319           1690   \n",
       "2      1933             0    98028  47.7379 -122.233           2720   \n",
       "3      1965             0    98136  47.5208 -122.393           1360   \n",
       "4      1987             0    98074  47.6168 -122.045           1800   \n",
       "\n",
       "   sqft_lot15  \n",
       "0        5650  \n",
       "1        7639  \n",
       "2        8062  \n",
       "3        5000  \n",
       "4        7503  \n",
       "\n",
       "[5 rows x 21 columns]"
      ]
     },
     "execution_count": 3,
     "metadata": {},
     "output_type": "execute_result"
    }
   ],
   "source": [
    "Housing.head()"
   ]
  },
  {
   "cell_type": "code",
   "execution_count": 4,
   "metadata": {},
   "outputs": [
    {
     "name": "stdout",
     "output_type": "stream",
     "text": [
      "<class 'pandas.core.frame.DataFrame'>\n",
      "RangeIndex: 21613 entries, 0 to 21612\n",
      "Data columns (total 21 columns):\n",
      "id               21613 non-null int64\n",
      "date             21613 non-null object\n",
      "price            21613 non-null float64\n",
      "bedrooms         21613 non-null int64\n",
      "bathrooms        21613 non-null float64\n",
      "sqft_living      21613 non-null int64\n",
      "sqft_lot         21613 non-null int64\n",
      "floors           21613 non-null float64\n",
      "waterfront       21613 non-null int64\n",
      "view             21613 non-null int64\n",
      "condition        21613 non-null int64\n",
      "grade            21613 non-null int64\n",
      "sqft_above       21613 non-null int64\n",
      "sqft_basement    21613 non-null int64\n",
      "yr_built         21613 non-null int64\n",
      "yr_renovated     21613 non-null int64\n",
      "zipcode          21613 non-null int64\n",
      "lat              21613 non-null float64\n",
      "long             21613 non-null float64\n",
      "sqft_living15    21613 non-null int64\n",
      "sqft_lot15       21613 non-null int64\n",
      "dtypes: float64(5), int64(15), object(1)\n",
      "memory usage: 3.5+ MB\n"
     ]
    }
   ],
   "source": [
    "Housing.info()"
   ]
  },
  {
   "cell_type": "code",
   "execution_count": 5,
   "metadata": {},
   "outputs": [],
   "source": [
    "Master_data = Housing"
   ]
  },
  {
   "cell_type": "code",
   "execution_count": 6,
   "metadata": {},
   "outputs": [
    {
     "data": {
      "text/plain": [
       "0    2014\n",
       "1    2014\n",
       "2    2015\n",
       "3    2014\n",
       "4    2015\n",
       "Name: date, dtype: object"
      ]
     },
     "execution_count": 6,
     "metadata": {},
     "output_type": "execute_result"
    }
   ],
   "source": [
    "regex = r'^(\\d{4})'\n",
    "year = Housing['date'].str.extract(r'^(\\d{4})', expand=False)\n",
    "year.head()"
   ]
  },
  {
   "cell_type": "code",
   "execution_count": 7,
   "metadata": {},
   "outputs": [],
   "source": [
    "Master_data[\"sold in year\"] = year"
   ]
  },
  {
   "cell_type": "code",
   "execution_count": 8,
   "metadata": {},
   "outputs": [],
   "source": [
    "Master_data[['bathrooms']] = Master_data[['bathrooms']].astype('int')\n",
    "Master_data[['floors']] = Master_data[['floors']].astype('int')\n",
    "Master_data[['sold in year']] = Master_data[['sold in year']].astype('int')"
   ]
  },
  {
   "cell_type": "code",
   "execution_count": 9,
   "metadata": {},
   "outputs": [
    {
     "name": "stdout",
     "output_type": "stream",
     "text": [
      "<class 'pandas.core.frame.DataFrame'>\n",
      "RangeIndex: 21613 entries, 0 to 21612\n",
      "Data columns (total 22 columns):\n",
      "id               21613 non-null int64\n",
      "date             21613 non-null object\n",
      "price            21613 non-null float64\n",
      "bedrooms         21613 non-null int64\n",
      "bathrooms        21613 non-null int32\n",
      "sqft_living      21613 non-null int64\n",
      "sqft_lot         21613 non-null int64\n",
      "floors           21613 non-null int32\n",
      "waterfront       21613 non-null int64\n",
      "view             21613 non-null int64\n",
      "condition        21613 non-null int64\n",
      "grade            21613 non-null int64\n",
      "sqft_above       21613 non-null int64\n",
      "sqft_basement    21613 non-null int64\n",
      "yr_built         21613 non-null int64\n",
      "yr_renovated     21613 non-null int64\n",
      "zipcode          21613 non-null int64\n",
      "lat              21613 non-null float64\n",
      "long             21613 non-null float64\n",
      "sqft_living15    21613 non-null int64\n",
      "sqft_lot15       21613 non-null int64\n",
      "sold in year     21613 non-null int32\n",
      "dtypes: float64(3), int32(3), int64(15), object(1)\n",
      "memory usage: 3.4+ MB\n"
     ]
    }
   ],
   "source": [
    " Master_data.info()"
   ]
  },
  {
   "cell_type": "code",
   "execution_count": 10,
   "metadata": {},
   "outputs": [],
   "source": [
    "Master_data[\"age of house in years\"] = Master_data[\"sold in year\"] - Master_data[\"yr_built\"]\n",
    "Master_data[\"age of house in yrs after renovation\"] = Master_data[\"sold in year\"] - Master_data[\"yr_renovated\"]\n"
   ]
  },
  {
   "cell_type": "code",
   "execution_count": 11,
   "metadata": {},
   "outputs": [],
   "source": [
    "Master_data[['age of house in years']] = Master_data[['age of house in years']].astype('int')\n",
    "Master_data[['age of house in yrs after renovation']] = Master_data[['age of house in yrs after renovation']].astype('int')"
   ]
  },
  {
   "cell_type": "code",
   "execution_count": 12,
   "metadata": {},
   "outputs": [],
   "source": [
    "Master_data.loc[Master_data['age of house in yrs after renovation'] > 2000, 'age of house in yrs after renovation'] = 0"
   ]
  },
  {
   "cell_type": "code",
   "execution_count": 13,
   "metadata": {},
   "outputs": [],
   "source": [
    "Master_data = Master_data.drop(['id'], axis=1)\n",
    "Master_data = Master_data.drop(['date'], axis=1)\n",
    "Master_data = Master_data.drop(['zipcode'], axis=1)\n",
    "Master_data = Master_data.drop(['yr_built'], axis=1)\n",
    "Master_data = Master_data.drop(['yr_renovated'], axis=1)\n",
    "Master_data = Master_data.drop(['sold in year'], axis=1)"
   ]
  },
  {
   "cell_type": "code",
   "execution_count": 14,
   "metadata": {},
   "outputs": [
    {
     "data": {
      "text/html": [
       "<div>\n",
       "<style scoped>\n",
       "    .dataframe tbody tr th:only-of-type {\n",
       "        vertical-align: middle;\n",
       "    }\n",
       "\n",
       "    .dataframe tbody tr th {\n",
       "        vertical-align: top;\n",
       "    }\n",
       "\n",
       "    .dataframe thead th {\n",
       "        text-align: right;\n",
       "    }\n",
       "</style>\n",
       "<table border=\"1\" class=\"dataframe\">\n",
       "  <thead>\n",
       "    <tr style=\"text-align: right;\">\n",
       "      <th></th>\n",
       "      <th>price</th>\n",
       "      <th>bedrooms</th>\n",
       "      <th>bathrooms</th>\n",
       "      <th>sqft_living</th>\n",
       "      <th>sqft_lot</th>\n",
       "      <th>floors</th>\n",
       "      <th>waterfront</th>\n",
       "      <th>view</th>\n",
       "      <th>condition</th>\n",
       "      <th>grade</th>\n",
       "      <th>sqft_above</th>\n",
       "      <th>sqft_basement</th>\n",
       "      <th>lat</th>\n",
       "      <th>long</th>\n",
       "      <th>sqft_living15</th>\n",
       "      <th>sqft_lot15</th>\n",
       "      <th>age of house in years</th>\n",
       "      <th>age of house in yrs after renovation</th>\n",
       "    </tr>\n",
       "  </thead>\n",
       "  <tbody>\n",
       "    <tr>\n",
       "      <th>0</th>\n",
       "      <td>221900.0</td>\n",
       "      <td>3</td>\n",
       "      <td>1</td>\n",
       "      <td>1180</td>\n",
       "      <td>5650</td>\n",
       "      <td>1</td>\n",
       "      <td>0</td>\n",
       "      <td>0</td>\n",
       "      <td>3</td>\n",
       "      <td>7</td>\n",
       "      <td>1180</td>\n",
       "      <td>0</td>\n",
       "      <td>47.5112</td>\n",
       "      <td>-122.257</td>\n",
       "      <td>1340</td>\n",
       "      <td>5650</td>\n",
       "      <td>59</td>\n",
       "      <td>0</td>\n",
       "    </tr>\n",
       "    <tr>\n",
       "      <th>1</th>\n",
       "      <td>538000.0</td>\n",
       "      <td>3</td>\n",
       "      <td>2</td>\n",
       "      <td>2570</td>\n",
       "      <td>7242</td>\n",
       "      <td>2</td>\n",
       "      <td>0</td>\n",
       "      <td>0</td>\n",
       "      <td>3</td>\n",
       "      <td>7</td>\n",
       "      <td>2170</td>\n",
       "      <td>400</td>\n",
       "      <td>47.7210</td>\n",
       "      <td>-122.319</td>\n",
       "      <td>1690</td>\n",
       "      <td>7639</td>\n",
       "      <td>63</td>\n",
       "      <td>23</td>\n",
       "    </tr>\n",
       "    <tr>\n",
       "      <th>2</th>\n",
       "      <td>180000.0</td>\n",
       "      <td>2</td>\n",
       "      <td>1</td>\n",
       "      <td>770</td>\n",
       "      <td>10000</td>\n",
       "      <td>1</td>\n",
       "      <td>0</td>\n",
       "      <td>0</td>\n",
       "      <td>3</td>\n",
       "      <td>6</td>\n",
       "      <td>770</td>\n",
       "      <td>0</td>\n",
       "      <td>47.7379</td>\n",
       "      <td>-122.233</td>\n",
       "      <td>2720</td>\n",
       "      <td>8062</td>\n",
       "      <td>82</td>\n",
       "      <td>0</td>\n",
       "    </tr>\n",
       "    <tr>\n",
       "      <th>3</th>\n",
       "      <td>604000.0</td>\n",
       "      <td>4</td>\n",
       "      <td>3</td>\n",
       "      <td>1960</td>\n",
       "      <td>5000</td>\n",
       "      <td>1</td>\n",
       "      <td>0</td>\n",
       "      <td>0</td>\n",
       "      <td>5</td>\n",
       "      <td>7</td>\n",
       "      <td>1050</td>\n",
       "      <td>910</td>\n",
       "      <td>47.5208</td>\n",
       "      <td>-122.393</td>\n",
       "      <td>1360</td>\n",
       "      <td>5000</td>\n",
       "      <td>49</td>\n",
       "      <td>0</td>\n",
       "    </tr>\n",
       "    <tr>\n",
       "      <th>4</th>\n",
       "      <td>510000.0</td>\n",
       "      <td>3</td>\n",
       "      <td>2</td>\n",
       "      <td>1680</td>\n",
       "      <td>8080</td>\n",
       "      <td>1</td>\n",
       "      <td>0</td>\n",
       "      <td>0</td>\n",
       "      <td>3</td>\n",
       "      <td>8</td>\n",
       "      <td>1680</td>\n",
       "      <td>0</td>\n",
       "      <td>47.6168</td>\n",
       "      <td>-122.045</td>\n",
       "      <td>1800</td>\n",
       "      <td>7503</td>\n",
       "      <td>28</td>\n",
       "      <td>0</td>\n",
       "    </tr>\n",
       "  </tbody>\n",
       "</table>\n",
       "</div>"
      ],
      "text/plain": [
       "      price  bedrooms  bathrooms  sqft_living  sqft_lot  floors  waterfront  \\\n",
       "0  221900.0         3          1         1180      5650       1           0   \n",
       "1  538000.0         3          2         2570      7242       2           0   \n",
       "2  180000.0         2          1          770     10000       1           0   \n",
       "3  604000.0         4          3         1960      5000       1           0   \n",
       "4  510000.0         3          2         1680      8080       1           0   \n",
       "\n",
       "   view  condition  grade  sqft_above  sqft_basement      lat     long  \\\n",
       "0     0          3      7        1180              0  47.5112 -122.257   \n",
       "1     0          3      7        2170            400  47.7210 -122.319   \n",
       "2     0          3      6         770              0  47.7379 -122.233   \n",
       "3     0          5      7        1050            910  47.5208 -122.393   \n",
       "4     0          3      8        1680              0  47.6168 -122.045   \n",
       "\n",
       "   sqft_living15  sqft_lot15  age of house in years  \\\n",
       "0           1340        5650                     59   \n",
       "1           1690        7639                     63   \n",
       "2           2720        8062                     82   \n",
       "3           1360        5000                     49   \n",
       "4           1800        7503                     28   \n",
       "\n",
       "   age of house in yrs after renovation  \n",
       "0                                     0  \n",
       "1                                    23  \n",
       "2                                     0  \n",
       "3                                     0  \n",
       "4                                     0  "
      ]
     },
     "execution_count": 14,
     "metadata": {},
     "output_type": "execute_result"
    }
   ],
   "source": [
    "Master_data.head()"
   ]
  },
  {
   "cell_type": "code",
   "execution_count": 15,
   "metadata": {},
   "outputs": [
    {
     "data": {
      "text/html": [
       "<div>\n",
       "<style scoped>\n",
       "    .dataframe tbody tr th:only-of-type {\n",
       "        vertical-align: middle;\n",
       "    }\n",
       "\n",
       "    .dataframe tbody tr th {\n",
       "        vertical-align: top;\n",
       "    }\n",
       "\n",
       "    .dataframe thead th {\n",
       "        text-align: right;\n",
       "    }\n",
       "</style>\n",
       "<table border=\"1\" class=\"dataframe\">\n",
       "  <thead>\n",
       "    <tr style=\"text-align: right;\">\n",
       "      <th></th>\n",
       "      <th>price</th>\n",
       "      <th>bedrooms</th>\n",
       "      <th>bathrooms</th>\n",
       "      <th>sqft_living</th>\n",
       "      <th>sqft_lot</th>\n",
       "      <th>floors</th>\n",
       "      <th>waterfront</th>\n",
       "      <th>view</th>\n",
       "      <th>condition</th>\n",
       "      <th>grade</th>\n",
       "      <th>sqft_above</th>\n",
       "      <th>sqft_basement</th>\n",
       "      <th>lat</th>\n",
       "      <th>long</th>\n",
       "      <th>sqft_living15</th>\n",
       "      <th>sqft_lot15</th>\n",
       "      <th>age of house in years</th>\n",
       "      <th>age of house in yrs after renovation</th>\n",
       "    </tr>\n",
       "  </thead>\n",
       "  <tbody>\n",
       "    <tr>\n",
       "      <th>count</th>\n",
       "      <td>2.161300e+04</td>\n",
       "      <td>21613.000000</td>\n",
       "      <td>21613.000000</td>\n",
       "      <td>21613.000000</td>\n",
       "      <td>2.161300e+04</td>\n",
       "      <td>21613.000000</td>\n",
       "      <td>21613.000000</td>\n",
       "      <td>21613.000000</td>\n",
       "      <td>21613.000000</td>\n",
       "      <td>21613.000000</td>\n",
       "      <td>21613.000000</td>\n",
       "      <td>21613.000000</td>\n",
       "      <td>21613.000000</td>\n",
       "      <td>21613.000000</td>\n",
       "      <td>21613.000000</td>\n",
       "      <td>21613.000000</td>\n",
       "      <td>21613.000000</td>\n",
       "      <td>21613.000000</td>\n",
       "    </tr>\n",
       "    <tr>\n",
       "      <th>mean</th>\n",
       "      <td>5.400881e+05</td>\n",
       "      <td>3.370842</td>\n",
       "      <td>1.749734</td>\n",
       "      <td>2079.899736</td>\n",
       "      <td>1.510697e+04</td>\n",
       "      <td>1.446213</td>\n",
       "      <td>0.007542</td>\n",
       "      <td>0.234303</td>\n",
       "      <td>3.409430</td>\n",
       "      <td>7.656873</td>\n",
       "      <td>1788.390691</td>\n",
       "      <td>291.509045</td>\n",
       "      <td>47.560053</td>\n",
       "      <td>-122.213896</td>\n",
       "      <td>1986.552492</td>\n",
       "      <td>12768.455652</td>\n",
       "      <td>43.317818</td>\n",
       "      <td>0.779947</td>\n",
       "    </tr>\n",
       "    <tr>\n",
       "      <th>std</th>\n",
       "      <td>3.671272e+05</td>\n",
       "      <td>0.930062</td>\n",
       "      <td>0.734873</td>\n",
       "      <td>918.440897</td>\n",
       "      <td>4.142051e+04</td>\n",
       "      <td>0.551894</td>\n",
       "      <td>0.086517</td>\n",
       "      <td>0.766318</td>\n",
       "      <td>0.650743</td>\n",
       "      <td>1.175459</td>\n",
       "      <td>828.090978</td>\n",
       "      <td>442.575043</td>\n",
       "      <td>0.138564</td>\n",
       "      <td>0.140828</td>\n",
       "      <td>685.391304</td>\n",
       "      <td>27304.179631</td>\n",
       "      <td>29.375493</td>\n",
       "      <td>4.895330</td>\n",
       "    </tr>\n",
       "    <tr>\n",
       "      <th>min</th>\n",
       "      <td>7.500000e+04</td>\n",
       "      <td>0.000000</td>\n",
       "      <td>0.000000</td>\n",
       "      <td>290.000000</td>\n",
       "      <td>5.200000e+02</td>\n",
       "      <td>1.000000</td>\n",
       "      <td>0.000000</td>\n",
       "      <td>0.000000</td>\n",
       "      <td>1.000000</td>\n",
       "      <td>1.000000</td>\n",
       "      <td>290.000000</td>\n",
       "      <td>0.000000</td>\n",
       "      <td>47.155900</td>\n",
       "      <td>-122.519000</td>\n",
       "      <td>399.000000</td>\n",
       "      <td>651.000000</td>\n",
       "      <td>-1.000000</td>\n",
       "      <td>-1.000000</td>\n",
       "    </tr>\n",
       "    <tr>\n",
       "      <th>25%</th>\n",
       "      <td>3.219500e+05</td>\n",
       "      <td>3.000000</td>\n",
       "      <td>1.000000</td>\n",
       "      <td>1427.000000</td>\n",
       "      <td>5.040000e+03</td>\n",
       "      <td>1.000000</td>\n",
       "      <td>0.000000</td>\n",
       "      <td>0.000000</td>\n",
       "      <td>3.000000</td>\n",
       "      <td>7.000000</td>\n",
       "      <td>1190.000000</td>\n",
       "      <td>0.000000</td>\n",
       "      <td>47.471000</td>\n",
       "      <td>-122.328000</td>\n",
       "      <td>1490.000000</td>\n",
       "      <td>5100.000000</td>\n",
       "      <td>18.000000</td>\n",
       "      <td>0.000000</td>\n",
       "    </tr>\n",
       "    <tr>\n",
       "      <th>50%</th>\n",
       "      <td>4.500000e+05</td>\n",
       "      <td>3.000000</td>\n",
       "      <td>2.000000</td>\n",
       "      <td>1910.000000</td>\n",
       "      <td>7.618000e+03</td>\n",
       "      <td>1.000000</td>\n",
       "      <td>0.000000</td>\n",
       "      <td>0.000000</td>\n",
       "      <td>3.000000</td>\n",
       "      <td>7.000000</td>\n",
       "      <td>1560.000000</td>\n",
       "      <td>0.000000</td>\n",
       "      <td>47.571800</td>\n",
       "      <td>-122.230000</td>\n",
       "      <td>1840.000000</td>\n",
       "      <td>7620.000000</td>\n",
       "      <td>40.000000</td>\n",
       "      <td>0.000000</td>\n",
       "    </tr>\n",
       "    <tr>\n",
       "      <th>75%</th>\n",
       "      <td>6.450000e+05</td>\n",
       "      <td>4.000000</td>\n",
       "      <td>2.000000</td>\n",
       "      <td>2550.000000</td>\n",
       "      <td>1.068800e+04</td>\n",
       "      <td>2.000000</td>\n",
       "      <td>0.000000</td>\n",
       "      <td>0.000000</td>\n",
       "      <td>4.000000</td>\n",
       "      <td>8.000000</td>\n",
       "      <td>2210.000000</td>\n",
       "      <td>560.000000</td>\n",
       "      <td>47.678000</td>\n",
       "      <td>-122.125000</td>\n",
       "      <td>2360.000000</td>\n",
       "      <td>10083.000000</td>\n",
       "      <td>63.000000</td>\n",
       "      <td>0.000000</td>\n",
       "    </tr>\n",
       "    <tr>\n",
       "      <th>max</th>\n",
       "      <td>7.700000e+06</td>\n",
       "      <td>33.000000</td>\n",
       "      <td>8.000000</td>\n",
       "      <td>13540.000000</td>\n",
       "      <td>1.651359e+06</td>\n",
       "      <td>3.000000</td>\n",
       "      <td>1.000000</td>\n",
       "      <td>4.000000</td>\n",
       "      <td>5.000000</td>\n",
       "      <td>13.000000</td>\n",
       "      <td>9410.000000</td>\n",
       "      <td>4820.000000</td>\n",
       "      <td>47.777600</td>\n",
       "      <td>-121.315000</td>\n",
       "      <td>6210.000000</td>\n",
       "      <td>871200.000000</td>\n",
       "      <td>115.000000</td>\n",
       "      <td>80.000000</td>\n",
       "    </tr>\n",
       "  </tbody>\n",
       "</table>\n",
       "</div>"
      ],
      "text/plain": [
       "              price      bedrooms     bathrooms   sqft_living      sqft_lot  \\\n",
       "count  2.161300e+04  21613.000000  21613.000000  21613.000000  2.161300e+04   \n",
       "mean   5.400881e+05      3.370842      1.749734   2079.899736  1.510697e+04   \n",
       "std    3.671272e+05      0.930062      0.734873    918.440897  4.142051e+04   \n",
       "min    7.500000e+04      0.000000      0.000000    290.000000  5.200000e+02   \n",
       "25%    3.219500e+05      3.000000      1.000000   1427.000000  5.040000e+03   \n",
       "50%    4.500000e+05      3.000000      2.000000   1910.000000  7.618000e+03   \n",
       "75%    6.450000e+05      4.000000      2.000000   2550.000000  1.068800e+04   \n",
       "max    7.700000e+06     33.000000      8.000000  13540.000000  1.651359e+06   \n",
       "\n",
       "             floors    waterfront          view     condition         grade  \\\n",
       "count  21613.000000  21613.000000  21613.000000  21613.000000  21613.000000   \n",
       "mean       1.446213      0.007542      0.234303      3.409430      7.656873   \n",
       "std        0.551894      0.086517      0.766318      0.650743      1.175459   \n",
       "min        1.000000      0.000000      0.000000      1.000000      1.000000   \n",
       "25%        1.000000      0.000000      0.000000      3.000000      7.000000   \n",
       "50%        1.000000      0.000000      0.000000      3.000000      7.000000   \n",
       "75%        2.000000      0.000000      0.000000      4.000000      8.000000   \n",
       "max        3.000000      1.000000      4.000000      5.000000     13.000000   \n",
       "\n",
       "         sqft_above  sqft_basement           lat          long  sqft_living15  \\\n",
       "count  21613.000000   21613.000000  21613.000000  21613.000000   21613.000000   \n",
       "mean    1788.390691     291.509045     47.560053   -122.213896    1986.552492   \n",
       "std      828.090978     442.575043      0.138564      0.140828     685.391304   \n",
       "min      290.000000       0.000000     47.155900   -122.519000     399.000000   \n",
       "25%     1190.000000       0.000000     47.471000   -122.328000    1490.000000   \n",
       "50%     1560.000000       0.000000     47.571800   -122.230000    1840.000000   \n",
       "75%     2210.000000     560.000000     47.678000   -122.125000    2360.000000   \n",
       "max     9410.000000    4820.000000     47.777600   -121.315000    6210.000000   \n",
       "\n",
       "          sqft_lot15  age of house in years  \\\n",
       "count   21613.000000           21613.000000   \n",
       "mean    12768.455652              43.317818   \n",
       "std     27304.179631              29.375493   \n",
       "min       651.000000              -1.000000   \n",
       "25%      5100.000000              18.000000   \n",
       "50%      7620.000000              40.000000   \n",
       "75%     10083.000000              63.000000   \n",
       "max    871200.000000             115.000000   \n",
       "\n",
       "       age of house in yrs after renovation  \n",
       "count                          21613.000000  \n",
       "mean                               0.779947  \n",
       "std                                4.895330  \n",
       "min                               -1.000000  \n",
       "25%                                0.000000  \n",
       "50%                                0.000000  \n",
       "75%                                0.000000  \n",
       "max                               80.000000  "
      ]
     },
     "execution_count": 15,
     "metadata": {},
     "output_type": "execute_result"
    }
   ],
   "source": [
    "Master_data.describe()"
   ]
  },
  {
   "cell_type": "code",
   "execution_count": 25,
   "metadata": {},
   "outputs": [
    {
     "data": {
      "text/plain": [
       "<matplotlib.axes._subplots.AxesSubplot at 0x12808ca2860>"
      ]
     },
     "execution_count": 25,
     "metadata": {},
     "output_type": "execute_result"
    },
    {
     "data": {
      "image/png": "[encoded data removed]",
      "text/plain": [
       "<Figure size 432x288 with 2 Axes>"
      ]
     },
     "metadata": {
      "needs_background": "light"
     },
     "output_type": "display_data"
    }
   ],
   "source": [
    "sns.heatmap(Master_data.corr())"
   ]
  },
  {
   "cell_type": "code",
   "execution_count": null,
   "metadata": {},
   "outputs": [],
   "source": [
    "### Features having positive correlation have been considered for model. \n",
    "### From correlations plot it is evident that there is considerabale degree of muliticollinearit among features. \n",
    "### This multicollinearity can dealt by using PCA technique"
   ]
  },
  {
   "cell_type": "code",
   "execution_count": null,
   "metadata": {},
   "outputs": [],
   "source": [
    "sns.pairplot(data=Master_data, hue =\"price\", diag_kind= \"kde\")\n",
    "### Some problem with pair plot not displaying the figure"
   ]
  },
  {
   "cell_type": "code",
   "execution_count": 17,
   "metadata": {},
   "outputs": [
    {
     "name": "stderr",
     "output_type": "stream",
     "text": [
      "C:\\Users\\Ravichandra\\Anaconda3\\lib\\site-packages\\scipy\\stats\\stats.py:1713: FutureWarning: Using a non-tuple sequence for multidimensional indexing is deprecated; use `arr[tuple(seq)]` instead of `arr[seq]`. In the future this will be interpreted as an array index, `arr[np.array(seq)]`, which will result either in an error or a different result.\n",
      "  return np.add.reduce(sorted[indexer] * weights, axis=axis) / sumval\n"
     ]
    },
    {
     "data": {
      "text/plain": [
       "<matplotlib.axes._subplots.AxesSubplot at 0x12805d40048>"
      ]
     },
     "execution_count": 17,
     "metadata": {},
     "output_type": "execute_result"
    },
    {
     "data": {
      "image/png": "[encoded data removed]",
      "text/plain": [
       "<Figure size 432x288 with 1 Axes>"
      ]
     },
     "metadata": {
      "needs_background": "light"
     },
     "output_type": "display_data"
    }
   ],
   "source": [
    "sns.distplot(Master_data[\"sqft_living\"], bins = \"auto\")"
   ]
  },
  {
   "cell_type": "code",
   "execution_count": null,
   "metadata": {},
   "outputs": [],
   "source": [
    "### distribution looks almost normal with slight skewness towards right side "
   ]
  },
  {
   "cell_type": "code",
   "execution_count": 23,
   "metadata": {},
   "outputs": [
    {
     "data": {
      "text/plain": [
       "<matplotlib.axes._subplots.AxesSubplot at 0x22463fb6978>"
      ]
     },
     "execution_count": 23,
     "metadata": {},
     "output_type": "execute_result"
    },
    {
     "data": {
      "image/png": "[encoded data removed]",
      "text/plain": [
       "<Figure size 432x288 with 1 Axes>"
      ]
     },
     "metadata": {
      "needs_background": "light"
     },
     "output_type": "display_data"
    }
   ],
   "source": [
    "sns.distplot(Master_data[\"sqft_living15\"], bins = \"auto\")"
   ]
  },
  {
   "cell_type": "code",
   "execution_count": null,
   "metadata": {},
   "outputs": [],
   "source": [
    "### distribution looks almost normal with some skewness towards right side "
   ]
  },
  {
   "cell_type": "code",
   "execution_count": 25,
   "metadata": {},
   "outputs": [
    {
     "data": {
      "text/plain": [
       "<matplotlib.axes._subplots.AxesSubplot at 0x22466418748>"
      ]
     },
     "execution_count": 25,
     "metadata": {},
     "output_type": "execute_result"
    },
    {
     "data": {
      "image/png": "[encoded data removed]",
      "text/plain": [
       "<Figure size 432x288 with 1 Axes>"
      ]
     },
     "metadata": {
      "needs_background": "light"
     },
     "output_type": "display_data"
    }
   ],
   "source": [
    "sns.distplot(Master_data[\"sqft_above\"], bins = \"auto\")"
   ]
  },
  {
   "cell_type": "code",
   "execution_count": 26,
   "metadata": {},
   "outputs": [
    {
     "data": {
      "text/plain": [
       "<matplotlib.axes._subplots.AxesSubplot at 0x22466d5f6d8>"
      ]
     },
     "execution_count": 26,
     "metadata": {},
     "output_type": "execute_result"
    },
    {
     "data": {
      "image/png": "[encoded data removed]",
      "text/plain": [
       "<Figure size 432x288 with 1 Axes>"
      ]
     },
     "metadata": {
      "needs_background": "light"
     },
     "output_type": "display_data"
    }
   ],
   "source": [
    "sns.distplot(Master_data[\"lat\"], bins = \"auto\")"
   ]
  },
  {
   "cell_type": "code",
   "execution_count": null,
   "metadata": {},
   "outputs": [],
   "source": [
    "### 3 peaks are observed (trimodel) distribution. "
   ]
  },
  {
   "cell_type": "code",
   "execution_count": 59,
   "metadata": {},
   "outputs": [
    {
     "data": {
      "text/plain": [
       "<matplotlib.axes._subplots.AxesSubplot at 0x2246f2a9e80>"
      ]
     },
     "execution_count": 59,
     "metadata": {},
     "output_type": "execute_result"
    },
    {
     "data": {
      "image/png": "[encoded data removed]",
      "text/plain": [
       "<Figure size 1440x360 with 1 Axes>"
      ]
     },
     "metadata": {
      "needs_background": "light"
     },
     "output_type": "display_data"
    }
   ],
   "source": [
    "### visualization  using box plot###\n",
    "from matplotlib import pyplot as plt\n",
    "plt.figure(figsize=(20,5))\n",
    "sns.boxplot(data=Master_data)"
   ]
  },
  {
   "cell_type": "code",
   "execution_count": 60,
   "metadata": {},
   "outputs": [
    {
     "data": {
      "text/html": [
       "<div>\n",
       "<style scoped>\n",
       "    .dataframe tbody tr th:only-of-type {\n",
       "        vertical-align: middle;\n",
       "    }\n",
       "\n",
       "    .dataframe tbody tr th {\n",
       "        vertical-align: top;\n",
       "    }\n",
       "\n",
       "    .dataframe thead th {\n",
       "        text-align: right;\n",
       "    }\n",
       "</style>\n",
       "<table border=\"1\" class=\"dataframe\">\n",
       "  <thead>\n",
       "    <tr style=\"text-align: right;\">\n",
       "      <th></th>\n",
       "      <th>bedrooms</th>\n",
       "      <th>bathrooms</th>\n",
       "      <th>sqft_living</th>\n",
       "      <th>sqft_lot</th>\n",
       "      <th>floors</th>\n",
       "      <th>waterfront</th>\n",
       "      <th>view</th>\n",
       "      <th>condition</th>\n",
       "      <th>grade</th>\n",
       "      <th>sqft_above</th>\n",
       "      <th>sqft_basement</th>\n",
       "      <th>lat</th>\n",
       "      <th>long</th>\n",
       "      <th>sqft_living15</th>\n",
       "      <th>sqft_lot15</th>\n",
       "      <th>age of house in years</th>\n",
       "      <th>age of house in yrs after renovation</th>\n",
       "    </tr>\n",
       "  </thead>\n",
       "  <tbody>\n",
       "    <tr>\n",
       "      <th>0</th>\n",
       "      <td>3</td>\n",
       "      <td>1</td>\n",
       "      <td>1180</td>\n",
       "      <td>5650</td>\n",
       "      <td>1</td>\n",
       "      <td>0</td>\n",
       "      <td>0</td>\n",
       "      <td>3</td>\n",
       "      <td>7</td>\n",
       "      <td>1180</td>\n",
       "      <td>0</td>\n",
       "      <td>47.5112</td>\n",
       "      <td>-122.257</td>\n",
       "      <td>1340</td>\n",
       "      <td>5650</td>\n",
       "      <td>59</td>\n",
       "      <td>0</td>\n",
       "    </tr>\n",
       "    <tr>\n",
       "      <th>1</th>\n",
       "      <td>3</td>\n",
       "      <td>2</td>\n",
       "      <td>2570</td>\n",
       "      <td>7242</td>\n",
       "      <td>2</td>\n",
       "      <td>0</td>\n",
       "      <td>0</td>\n",
       "      <td>3</td>\n",
       "      <td>7</td>\n",
       "      <td>2170</td>\n",
       "      <td>400</td>\n",
       "      <td>47.7210</td>\n",
       "      <td>-122.319</td>\n",
       "      <td>1690</td>\n",
       "      <td>7639</td>\n",
       "      <td>63</td>\n",
       "      <td>23</td>\n",
       "    </tr>\n",
       "    <tr>\n",
       "      <th>2</th>\n",
       "      <td>2</td>\n",
       "      <td>1</td>\n",
       "      <td>770</td>\n",
       "      <td>10000</td>\n",
       "      <td>1</td>\n",
       "      <td>0</td>\n",
       "      <td>0</td>\n",
       "      <td>3</td>\n",
       "      <td>6</td>\n",
       "      <td>770</td>\n",
       "      <td>0</td>\n",
       "      <td>47.7379</td>\n",
       "      <td>-122.233</td>\n",
       "      <td>2720</td>\n",
       "      <td>8062</td>\n",
       "      <td>82</td>\n",
       "      <td>0</td>\n",
       "    </tr>\n",
       "  </tbody>\n",
       "</table>\n",
       "</div>"
      ],
      "text/plain": [
       "   bedrooms  bathrooms  sqft_living  sqft_lot  floors  waterfront  view  \\\n",
       "0         3          1         1180      5650       1           0     0   \n",
       "1         3          2         2570      7242       2           0     0   \n",
       "2         2          1          770     10000       1           0     0   \n",
       "\n",
       "   condition  grade  sqft_above  sqft_basement      lat     long  \\\n",
       "0          3      7        1180              0  47.5112 -122.257   \n",
       "1          3      7        2170            400  47.7210 -122.319   \n",
       "2          3      6         770              0  47.7379 -122.233   \n",
       "\n",
       "   sqft_living15  sqft_lot15  age of house in years  \\\n",
       "0           1340        5650                     59   \n",
       "1           1690        7639                     63   \n",
       "2           2720        8062                     82   \n",
       "\n",
       "   age of house in yrs after renovation  \n",
       "0                                     0  \n",
       "1                                    23  \n",
       "2                                     0  "
      ]
     },
     "execution_count": 60,
     "metadata": {},
     "output_type": "execute_result"
    }
   ],
   "source": [
    "### Using Feature Extraction method ####\n",
    "\n",
    "Master_PCA = Master_data.drop(['price'], axis=1)\n",
    "Master_PCA.head(3)"
   ]
  },
  {
   "cell_type": "code",
   "execution_count": 62,
   "metadata": {},
   "outputs": [
    {
     "name": "stdout",
     "output_type": "stream",
     "text": [
      "Covariance Matrix \n",
      "%s [[  8.65015010e-01   3.19492983e-01   4.92596040e+02   1.22132422e+03\n",
      "    7.98909581e-02  -5.29667988e-04   5.66841579e-02   1.72322079e-02\n",
      "    3.90253631e-01   3.67836092e+02   1.24759948e+02  -1.15096439e-03\n",
      "    1.69582494e-02   2.49651804e+02   7.42644640e+02  -4.21628313e+00\n",
      "   -4.37385360e-02]\n",
      " [  3.19492983e-01   5.40038449e-01   4.71021686e+02   2.59672504e+03\n",
      "    1.96629915e-01   3.73835670e-03   9.98217307e-02  -6.02626217e-02\n",
      "    5.24015687e-01   3.89426210e+02   8.15954760e+01   3.19241519e-03\n",
      "    1.85612320e-02   2.56899057e+02   1.62084567e+03  -9.36803269e+00\n",
      "    3.10352904e-02]\n",
      " [  4.92596040e+02   4.71021686e+02   8.43533681e+05   6.57468423e+06\n",
      "    1.79091706e+02   8.24946062e+00   2.00314304e+02  -3.51146014e+01\n",
      "    8.23407664e+02   6.66697840e+05   1.76835841e+05   6.68503480e+00\n",
      "    3.10710841e+01   4.76160051e+05   4.59630222e+06  -8.59270888e+03\n",
      "    8.69153316e+01]\n",
      " [  1.22132422e+03   2.59672504e+03   6.57468423e+06   1.71565877e+09\n",
      "   -2.04608421e+02   7.74186696e+01   2.37139331e+03  -2.41461641e+02\n",
      "    5.53199697e+03   6.29446240e+06   2.80221828e+05  -4.91766060e+02\n",
      "    1.33883694e+03   4.10531881e+06   8.12653977e+08  -6.44749321e+04\n",
      "    2.89096714e+03]\n",
      " [  7.98909581e-02   1.96629915e-01   1.79091706e+02  -2.04608421e+02\n",
      "    3.04586458e-01   9.37779605e-04   1.04283609e-02  -1.05290496e-01\n",
      "    3.06594256e-01   2.36695594e+02  -5.76038883e+01   2.26108198e-03\n",
      "    1.23579460e-02   1.12177900e+02  -1.99692037e+02  -9.38501928e+00\n",
      "   -3.26120358e-02]\n",
      " [ -5.29667988e-04   3.73835670e-03   8.24946062e+00   7.74186696e+01\n",
      "    9.37779605e-04   7.48522550e-03   2.66430012e-02   9.37580505e-04\n",
      "    8.41799334e-03   5.16372004e+00   3.08574059e+00  -1.71116077e-04\n",
      "   -5.10636961e-04   5.12710271e+00   7.25297857e+01   6.63148098e-02\n",
      "    4.41360632e-02]\n",
      " [  5.66841579e-02   9.98217307e-02   2.00314304e+02   2.37139331e+03\n",
      "    1.04283609e-02   2.66430012e-02   5.87242617e-01   2.29339701e-02\n",
      "    2.26383223e-01   1.06387032e+02   9.39272716e+01   6.53745242e-04\n",
      "   -8.46083682e-03   1.47294289e+02   1.51852649e+03   1.20338561e+00\n",
      "    3.39873547e-01]\n",
      " [  1.72322079e-02  -6.02626217e-02  -3.51146014e+01  -2.41461641e+02\n",
      "   -1.05290496e-01   9.37580505e-04   2.29339701e-02   4.23466512e-01\n",
      "   -1.10664018e-01  -8.52572748e+01   5.01426734e+01  -1.34722115e-03\n",
      "   -9.76002742e-03  -4.14008883e+01  -6.05093495e+01   6.89443960e+00\n",
      "   -2.03476425e-02]\n",
      " [  3.90253631e-01   5.24015687e-01   8.23407664e+02   5.53199697e+03\n",
      "    3.06594256e-01   8.41799334e-03   2.26383223e-01  -1.10664018e-01\n",
      "    1.38170329e+00   7.35805403e+02   8.76022618e+01   1.85815465e-02\n",
      "    3.28381113e-02   5.74590703e+02   3.82725375e+03  -1.54491052e+01\n",
      "   -1.31635719e-01]\n",
      " [  3.67836092e+02   3.89426210e+02   6.66697840e+05   6.29446240e+06\n",
      "    2.36695594e+02   5.16372004e+00   1.06387032e+02  -8.52572748e+01\n",
      "    7.35805403e+02   6.85734667e+05  -1.90368272e+04  -9.36877879e-02\n",
      "    4.00938540e+01   4.15384954e+05   4.38753429e+06  -1.03200675e+04\n",
      "    3.49429079e+01]\n",
      " [  1.24759948e+02   8.15954760e+01   1.76835841e+05   2.80221828e+05\n",
      "   -5.76038883e+01   3.08574059e+00   9.39272716e+01   5.01426734e+01\n",
      "    8.76022618e+01  -1.90368272e+04   1.95872668e+05   6.77872258e+00\n",
      "   -9.02276993e+00   6.07750968e+04   2.08767931e+05   1.72735866e+03\n",
      "    5.19724237e+01]\n",
      " [ -1.15096439e-03   3.19241519e-03   6.68503480e+00  -4.91766060e+02\n",
      "    2.26108198e-03  -1.71116077e-04   6.53745242e-04  -1.34722115e-03\n",
      "    1.85815465e-02  -9.36877879e-02   6.77872258e+00   1.91999018e-02\n",
      "   -2.64433597e-03   4.64005550e+00  -3.26954187e+02   6.00978519e-01\n",
      "    1.23130752e-02]\n",
      " [  1.69582494e-02   1.85612320e-02   3.10710841e+01   1.33883694e+03\n",
      "    1.23579460e-02  -5.10636961e-04  -8.46083682e-03  -9.76002742e-03\n",
      "    3.28381113e-02   4.00938540e+01  -9.02276993e+00  -2.64433597e-03\n",
      "    1.98326220e-02   3.22969167e+01   9.78416692e+02  -1.69332869e+00\n",
      "   -3.57600084e-02]\n",
      " [  2.49651804e+02   2.56899057e+02   4.76160051e+05   4.10531881e+06\n",
      "    1.12177900e+02   5.12710271e+00   1.47294289e+02  -4.14008883e+01\n",
      "    5.74590703e+02   4.15384954e+05   6.07750968e+04   4.64005550e+00\n",
      "    3.22969167e+01   4.69761240e+05   3.42825905e+06  -6.57469744e+03\n",
      "   -3.01416505e+01]\n",
      " [  7.42644640e+02   1.62084567e+03   4.59630222e+06   8.12653977e+08\n",
      "   -1.99692037e+02   7.25297857e+01   1.51852649e+03  -6.05093495e+01\n",
      "    3.82725375e+03   4.38753429e+06   2.08767931e+05  -3.26954187e+02\n",
      "    9.78416692e+02   3.42825905e+06   7.45518225e+08  -5.69105396e+04\n",
      "    1.54048779e+03]\n",
      " [ -4.21628313e+00  -9.36803269e+00  -8.59270888e+03  -6.44749321e+04\n",
      "   -9.38501928e+00   6.63148098e-02   1.20338561e+00   6.89443960e+00\n",
      "   -1.54491052e+01  -1.03200675e+04   1.72735866e+03   6.00978519e-01\n",
      "   -1.69332869e+00  -6.57469744e+03  -5.69105396e+04   8.62919577e+02\n",
      "    2.82237434e+01]\n",
      " [ -4.37385360e-02   3.10352904e-02   8.69153316e+01   2.89096714e+03\n",
      "   -3.26120358e-02   4.41360632e-02   3.39873547e-01  -2.03476425e-02\n",
      "   -1.31635719e-01   3.49429079e+01   5.19724237e+01   1.23130752e-02\n",
      "   -3.57600084e-02  -3.01416505e+01   1.54048779e+03   2.82237434e+01\n",
      "    2.39642527e+01]]\n"
     ]
    }
   ],
   "source": [
    "from sklearn.preprocessing import StandardScaler\n",
    "sc = StandardScaler()\n",
    "X_train_std =  sc.fit_transform(Master_PCA)          \n",
    "train_cov_matrix = np.cov(Master_PCA.T)\n",
    "print('Covariance Matrix \\n%s', train_cov_matrix)"
   ]
  },
  {
   "cell_type": "code",
   "execution_count": 63,
   "metadata": {},
   "outputs": [
    {
     "name": "stdout",
     "output_type": "stream",
     "text": [
      "Eigen Vectors \n",
      "%s [[ -6.57970227e-07   1.61596138e-07  -3.92021985e-04   2.82888607e-04\n",
      "    3.19219627e-04   3.61804170e-04   5.17609379e-03   7.61231381e-01\n",
      "   -5.91912411e-01   1.53974324e-01  -1.06207912e-01  -1.79827266e-01\n",
      "    5.22422117e-02  -7.83986362e-03  -7.43430023e-04   4.67988955e-03\n",
      "    1.68588460e-09]\n",
      " [ -1.40651800e-06   4.59482551e-07  -3.84855274e-04   9.58728302e-05\n",
      "    2.60858205e-04  -6.09683973e-03  -7.13173440e-03   3.11323184e-02\n",
      "   -1.98832704e-01   1.84315785e-01  -7.68332720e-02   8.75419647e-01\n",
      "   -3.91301780e-01   3.37522677e-03   6.52367371e-03   1.35044335e-03\n",
      "   -1.82268231e-08]\n",
      " [ -3.67155652e-03   2.66215095e-03  -6.74508455e-01   3.20307976e-01\n",
      "    3.30280959e-01   1.06356360e-03   2.73120735e-04  -1.33197430e-04\n",
      "    5.66512074e-04  -3.89185556e-04  -5.35265851e-06  -1.55837526e-04\n",
      "    1.11177715e-04   7.38851634e-07  -2.89165852e-09  -3.54209969e-06\n",
      "   -5.77350269e-01]\n",
      " [ -8.69620641e-01  -4.93713396e-01   2.52927730e-03   2.38984556e-04\n",
      "   -7.53991960e-04  -2.07984372e-05   2.43200997e-07   8.11344033e-07\n",
      "    2.09407724e-09   4.45632160e-07   8.13754027e-08   1.50318112e-07\n",
      "    5.21537003e-07  -1.88333851e-07  -2.82857745e-07   4.76876417e-08\n",
      "    3.86524489e-15]\n",
      " [  1.26208984e-07  -2.50530199e-07  -1.81388774e-04  -3.82036576e-04\n",
      "    1.55766474e-04  -7.87393695e-03  -8.75402021e-03  -8.24737352e-02\n",
      "   -8.20057878e-02   1.33084581e-01  -9.71479721e-02   3.54294852e-01\n",
      "    9.10886351e-01   4.65886434e-02   4.21383359e-02   3.71851474e-04\n",
      "    5.37846860e-09]\n",
      " [ -4.74000520e-08   8.76295805e-08  -6.18648825e-06   9.55225402e-06\n",
      "   -1.45763992e-06   1.80645478e-04  -1.68460455e-03  -2.43727126e-02\n",
      "   -2.98587374e-02  -2.68485871e-02  -6.96795752e-04  -1.94743424e-03\n",
      "   -3.69049758e-04   8.84888298e-03  -1.71833646e-02   9.98705524e-01\n",
      "   -9.05310969e-10]\n",
      " [ -1.29227351e-06   5.31523266e-07  -1.50850218e-04   3.20859299e-04\n",
      "   -2.00126517e-04   3.30314458e-03  -1.02938663e-02  -4.71740267e-01\n",
      "   -7.15917438e-01  -5.06642078e-01  -4.87409818e-02  -5.17344566e-02\n",
      "   -1.83977448e-02  -1.48998403e-02   1.92340184e-02  -4.62335445e-02\n",
      "    2.54572243e-10]\n",
      " [  1.10411418e-07   2.32786849e-07   5.12753692e-05   2.57182641e-04\n",
      "    1.97241320e-05   7.51608710e-03   1.12024504e-02   8.53940982e-02\n",
      "   -1.01739753e-01  -4.30542433e-02   9.82084373e-01   1.01427323e-01\n",
      "    7.16611620e-02  -1.81889153e-02  -8.73985545e-03  -1.17743943e-03\n",
      "    1.79130415e-10]\n",
      " [ -3.08084570e-06   2.12184258e-06  -7.16244062e-04  -8.93971635e-05\n",
      "   -1.72373631e-04  -6.85482684e-03  -1.68901236e-03  -4.25665090e-01\n",
      "   -2.81049667e-01   8.14196789e-01   7.62853178e-02  -2.49884368e-01\n",
      "   -8.06621299e-02   3.76558707e-02   2.56906747e-02   2.74056245e-03\n",
      "    8.37865003e-10]\n",
      " [ -3.51193217e-03   2.50782844e-03  -5.85357420e-01  -4.90198882e-01\n",
      "    2.89110076e-01   1.11639479e-02   5.15526139e-04  -2.70788077e-05\n",
      "    1.88368030e-04  -4.19410269e-04   8.71960879e-05  -1.26993522e-04\n",
      "   -1.32522549e-04  -3.05067958e-05  -3.41305600e-05  -6.52147657e-06\n",
      "    5.77350269e-01]\n",
      " [ -1.59624350e-04   1.54322508e-04  -8.91510348e-02   8.10506858e-01\n",
      "    4.11708828e-02  -1.01003843e-02  -2.42405406e-04  -1.06118237e-04\n",
      "    3.78140791e-04   3.02280848e-05  -9.25504233e-05  -2.88162872e-05\n",
      "    2.43677205e-04   3.12471435e-05   3.41314466e-05   2.98280482e-06\n",
      "    5.77350269e-01]\n",
      " [  2.70559279e-07  -1.46023154e-07  -6.29293517e-06   2.67448585e-05\n",
      "   -1.10054641e-05   8.16326376e-04   4.98952958e-04  -1.81001219e-02\n",
      "    4.11383842e-03   4.24545971e-02  -1.70334840e-02   9.15202727e-03\n",
      "    3.33850708e-02  -9.93207313e-01   9.88648822e-02   1.13427881e-02\n",
      "    6.33961032e-10]\n",
      " [ -7.56817047e-07   6.69046329e-07  -2.83214878e-05  -5.90790115e-05\n",
      "   -4.68198976e-05  -1.43600500e-03  -3.53067698e-04   2.61512089e-02\n",
      "    2.36550427e-02  -2.30703007e-02   1.38668821e-02  -1.35188157e-02\n",
      "   -3.62936979e-02   9.61369166e-02   9.93479084e-01   1.69364196e-02\n",
      "   -2.15326094e-09]\n",
      " [ -2.41926602e-03   3.37214954e-03  -4.40820482e-01  -2.83976130e-03\n",
      "   -8.97569854e-01   4.47686242e-03  -1.84987919e-04   3.92857588e-04\n",
      "    2.16257077e-04  -1.79128394e-04  -3.99244179e-05   2.16721361e-04\n",
      "    9.68286776e-05   2.19960617e-06  -6.15464663e-05   5.45370551e-06\n",
      "   -1.23061773e-12]\n",
      " [ -4.93688411e-01   8.69610434e-01   6.91476211e-03   4.36913555e-04\n",
      "    1.20040753e-03   8.86201336e-06   1.21279754e-06   3.22241866e-07\n",
      "   -1.89891432e-06   2.30414117e-06  -1.01390386e-06   8.34528667e-07\n",
      "    8.73557558e-07  -2.10940051e-07  -4.99851254e-07  -5.13381522e-08\n",
      "   -8.79418762e-15]\n",
      " [  3.86979754e-05  -6.23847154e-05   8.32733501e-03   1.33312850e-02\n",
      "    8.40103197e-04   9.98895426e-01   4.15743156e-02  -3.13971465e-03\n",
      "   -6.47641333e-04   9.55830585e-03  -8.36538597e-03   6.19916181e-03\n",
      "    3.81549999e-03   1.82829826e-03   1.94200900e-03   7.52224665e-05\n",
      "   -7.26457101e-11]\n",
      " [ -1.50428763e-06  -3.07765838e-07  -3.09950744e-05   1.97147456e-04\n",
      "    4.31709928e-04   4.17570263e-02  -9.98939104e-01   1.08754654e-02\n",
      "    5.79997745e-03   2.14919443e-03   1.18759517e-02  -7.92292805e-03\n",
      "   -3.59965627e-03  -1.05602073e-03  -9.51320410e-04  -1.21146782e-03\n",
      "    8.74041817e-11]]\n",
      "\n",
      " Eigen Values \n",
      "%s [  2.17707155e+09   2.84181397e+08   1.68501132e+06   2.77281599e+05\n",
      "   1.56832765e+05   6.93809483e+02   2.27560089e+01   6.49189094e-01\n",
      "   4.78293473e-01   4.25355066e-01   3.57532531e-01   2.47210396e-01\n",
      "   1.33091419e-01   1.71247627e-02   1.31453390e-02   6.19180367e-03\n",
      "   1.43835682e-08]\n"
     ]
    }
   ],
   "source": [
    "eigenvalues, eigenvectors = np.linalg.eig(train_cov_matrix)\n",
    "print('Eigen Vectors \\n%s', eigenvectors)\n",
    "print('\\n Eigen Values \\n%s', eigenvalues)"
   ]
  },
  {
   "cell_type": "code",
   "execution_count": 64,
   "metadata": {},
   "outputs": [
    {
     "name": "stdout",
     "output_type": "stream",
     "text": [
      "[(2177071550.9636903, array([ -6.57970227e-07,  -1.40651800e-06,  -3.67155652e-03,\n",
      "        -8.69620641e-01,   1.26208984e-07,  -4.74000520e-08,\n",
      "        -1.29227351e-06,   1.10411418e-07,  -3.08084570e-06,\n",
      "        -3.51193217e-03,  -1.59624350e-04,   2.70559279e-07,\n",
      "        -7.56817047e-07,  -2.41926602e-03,  -4.93688411e-01,\n",
      "         3.86979754e-05,  -1.50428763e-06])), (284181397.26799375, array([  1.61596138e-07,   4.59482551e-07,   2.66215095e-03,\n",
      "        -4.93713396e-01,  -2.50530199e-07,   8.76295805e-08,\n",
      "         5.31523266e-07,   2.32786849e-07,   2.12184258e-06,\n",
      "         2.50782844e-03,   1.54322508e-04,  -1.46023154e-07,\n",
      "         6.69046329e-07,   3.37214954e-03,   8.69610434e-01,\n",
      "        -6.23847154e-05,  -3.07765838e-07])), (1685011.3173742653, array([ -3.92021985e-04,  -3.84855274e-04,  -6.74508455e-01,\n",
      "         2.52927730e-03,  -1.81388774e-04,  -6.18648825e-06,\n",
      "        -1.50850218e-04,   5.12753692e-05,  -7.16244062e-04,\n",
      "        -5.85357420e-01,  -8.91510348e-02,  -6.29293517e-06,\n",
      "        -2.83214878e-05,  -4.40820482e-01,   6.91476211e-03,\n",
      "         8.32733501e-03,  -3.09950744e-05])), (277281.59890447551, array([  2.82888607e-04,   9.58728302e-05,   3.20307976e-01,\n",
      "         2.38984556e-04,  -3.82036576e-04,   9.55225402e-06,\n",
      "         3.20859299e-04,   2.57182641e-04,  -8.93971635e-05,\n",
      "        -4.90198882e-01,   8.10506858e-01,   2.67448585e-05,\n",
      "        -5.90790115e-05,  -2.83976130e-03,   4.36913555e-04,\n",
      "         1.33312850e-02,   1.97147456e-04])), (156832.76466343261, array([  3.19219627e-04,   2.60858205e-04,   3.30280959e-01,\n",
      "        -7.53991960e-04,   1.55766474e-04,  -1.45763992e-06,\n",
      "        -2.00126517e-04,   1.97241320e-05,  -1.72373631e-04,\n",
      "         2.89110076e-01,   4.11708828e-02,  -1.10054641e-05,\n",
      "        -4.68198976e-05,  -8.97569854e-01,   1.20040753e-03,\n",
      "         8.40103197e-04,   4.31709928e-04])), (693.80948340900227, array([  3.61804170e-04,  -6.09683973e-03,   1.06356360e-03,\n",
      "        -2.07984372e-05,  -7.87393695e-03,   1.80645478e-04,\n",
      "         3.30314458e-03,   7.51608710e-03,  -6.85482684e-03,\n",
      "         1.11639479e-02,  -1.01003843e-02,   8.16326376e-04,\n",
      "        -1.43600500e-03,   4.47686242e-03,   8.86201336e-06,\n",
      "         9.98895426e-01,   4.17570263e-02])), (22.756008910417595, array([  5.17609379e-03,  -7.13173440e-03,   2.73120735e-04,\n",
      "         2.43200997e-07,  -8.75402021e-03,  -1.68460455e-03,\n",
      "        -1.02938663e-02,   1.12024504e-02,  -1.68901236e-03,\n",
      "         5.15526139e-04,  -2.42405406e-04,   4.98952958e-04,\n",
      "        -3.53067698e-04,  -1.84987919e-04,   1.21279754e-06,\n",
      "         4.15743156e-02,  -9.98939104e-01])), (0.64918909355261212, array([  7.61231381e-01,   3.11323184e-02,  -1.33197430e-04,\n",
      "         8.11344033e-07,  -8.24737352e-02,  -2.43727126e-02,\n",
      "        -4.71740267e-01,   8.53940982e-02,  -4.25665090e-01,\n",
      "        -2.70788077e-05,  -1.06118237e-04,  -1.81001219e-02,\n",
      "         2.61512089e-02,   3.92857588e-04,   3.22241866e-07,\n",
      "        -3.13971465e-03,   1.08754654e-02])), (0.4782934731370978, array([ -5.91912411e-01,  -1.98832704e-01,   5.66512074e-04,\n",
      "         2.09407724e-09,  -8.20057878e-02,  -2.98587374e-02,\n",
      "        -7.15917438e-01,  -1.01739753e-01,  -2.81049667e-01,\n",
      "         1.88368030e-04,   3.78140791e-04,   4.11383842e-03,\n",
      "         2.36550427e-02,   2.16257077e-04,  -1.89891432e-06,\n",
      "        -6.47641333e-04,   5.79997745e-03])), (0.42535506581694343, array([  1.53974324e-01,   1.84315785e-01,  -3.89185556e-04,\n",
      "         4.45632160e-07,   1.33084581e-01,  -2.68485871e-02,\n",
      "        -5.06642078e-01,  -4.30542433e-02,   8.14196789e-01,\n",
      "        -4.19410269e-04,   3.02280848e-05,   4.24545971e-02,\n",
      "        -2.30703007e-02,  -1.79128394e-04,   2.30414117e-06,\n",
      "         9.55830585e-03,   2.14919443e-03])), (0.35753253093515547, array([ -1.06207912e-01,  -7.68332720e-02,  -5.35265851e-06,\n",
      "         8.13754027e-08,  -9.71479721e-02,  -6.96795752e-04,\n",
      "        -4.87409818e-02,   9.82084373e-01,   7.62853178e-02,\n",
      "         8.71960879e-05,  -9.25504233e-05,  -1.70334840e-02,\n",
      "         1.38668821e-02,  -3.99244179e-05,  -1.01390386e-06,\n",
      "        -8.36538597e-03,   1.18759517e-02])), (0.24721039585593219, array([ -1.79827266e-01,   8.75419647e-01,  -1.55837526e-04,\n",
      "         1.50318112e-07,   3.54294852e-01,  -1.94743424e-03,\n",
      "        -5.17344566e-02,   1.01427323e-01,  -2.49884368e-01,\n",
      "        -1.26993522e-04,  -2.88162872e-05,   9.15202727e-03,\n",
      "        -1.35188157e-02,   2.16721361e-04,   8.34528667e-07,\n",
      "         6.19916181e-03,  -7.92292805e-03])), (0.1330914192814189, array([  5.22422117e-02,  -3.91301780e-01,   1.11177715e-04,\n",
      "         5.21537003e-07,   9.10886351e-01,  -3.69049758e-04,\n",
      "        -1.83977448e-02,   7.16611620e-02,  -8.06621299e-02,\n",
      "        -1.32522549e-04,   2.43677205e-04,   3.33850708e-02,\n",
      "        -3.62936979e-02,   9.68286776e-05,   8.73557558e-07,\n",
      "         3.81549999e-03,  -3.59965627e-03])), (0.017124762722873086, array([ -7.83986362e-03,   3.37522677e-03,   7.38851634e-07,\n",
      "        -1.88333851e-07,   4.65886434e-02,   8.84888298e-03,\n",
      "        -1.48998403e-02,  -1.81889153e-02,   3.76558707e-02,\n",
      "        -3.05067958e-05,   3.12471435e-05,  -9.93207313e-01,\n",
      "         9.61369166e-02,   2.19960617e-06,  -2.10940051e-07,\n",
      "         1.82829826e-03,  -1.05602073e-03])), (0.01314533895835562, array([ -7.43430023e-04,   6.52367371e-03,  -2.89165852e-09,\n",
      "        -2.82857745e-07,   4.21383359e-02,  -1.71833646e-02,\n",
      "         1.92340184e-02,  -8.73985545e-03,   2.56906747e-02,\n",
      "        -3.41305600e-05,   3.41314466e-05,   9.88648822e-02,\n",
      "         9.93479084e-01,  -6.15464663e-05,  -4.99851254e-07,\n",
      "         1.94200900e-03,  -9.51320410e-04])), (0.0061918036728448884, array([  4.67988955e-03,   1.35044335e-03,  -3.54209969e-06,\n",
      "         4.76876417e-08,   3.71851474e-04,   9.98705524e-01,\n",
      "        -4.62335445e-02,  -1.17743943e-03,   2.74056245e-03,\n",
      "        -6.52147657e-06,   2.98280482e-06,   1.13427881e-02,\n",
      "         1.69364196e-02,   5.45370551e-06,  -5.13381522e-08,\n",
      "         7.52224665e-05,  -1.21146782e-03])), (1.4383568218770529e-08, array([  1.68588460e-09,  -1.82268231e-08,  -5.77350269e-01,\n",
      "         3.86524489e-15,   5.37846860e-09,  -9.05310969e-10,\n",
      "         2.54572243e-10,   1.79130415e-10,   8.37865003e-10,\n",
      "         5.77350269e-01,   5.77350269e-01,   6.33961032e-10,\n",
      "        -2.15326094e-09,  -1.23061773e-12,  -8.79418762e-15,\n",
      "        -7.26457101e-11,   8.74041817e-11]))]\n",
      "Eigenvalues in descending order: \n",
      "[2177071550.9636903, 284181397.26799375, 1685011.3173742653, 277281.59890447551, 156832.76466343261, 693.80948340900227, 22.756008910417595, 0.64918909355261212, 0.4782934731370978, 0.42535506581694343, 0.35753253093515547, 0.24721039585593219, 0.1330914192814189, 0.017124762722873086, 0.01314533895835562, 0.0061918036728448884, 1.4383568218770529e-08]\n"
     ]
    }
   ],
   "source": [
    "# Make a set of (eigenvalue, eigenvector) pairs\n",
    "train_eig_pairs = [(eigenvalues[index], eigenvectors[:,index]) for index in range(len(eigenvalues))]\n",
    "\n",
    "# Sort the (eigenvalue, eigenvector) pairs from highest to lowest with respect to eigenvalue\n",
    "train_eig_pairs.sort()\n",
    "\n",
    "train_eig_pairs.reverse()\n",
    "print(train_eig_pairs)\n",
    "\n",
    "# Extract the descending ordered eigenvalues and eigenvectors\n",
    "train_eigvalues_sorted = [train_eig_pairs[index][0] for index in range(len(eigenvalues))]\n",
    "train_eigvectors_sorted = [train_eig_pairs[index][1] for index in range(len(eigenvalues))]\n",
    "\n",
    "# Let's confirm our sorting worked, print out eigenvalues\n",
    "print('Eigenvalues in descending order: \\n%s' %train_eigvalues_sorted)"
   ]
  },
  {
   "cell_type": "code",
   "execution_count": 65,
   "metadata": {},
   "outputs": [
    {
     "name": "stdout",
     "output_type": "stream",
     "text": [
      "Varience of eigen vector: [0.88377672974315569, 0.11536272467488454, 0.00068402611342288926, 0.00011256176885379631, 6.3665867026498158e-05, 2.8165021771589115e-07, 9.2377446795226586e-09, 2.6353668249023938e-10, 1.9416203448136011e-10, 1.7267182095185656e-10, 1.4513943321100122e-10, 1.0035443948149344e-10, 5.4028127480395026e-11, 6.951754429085684e-12, 5.3363173437447533e-12, 2.5135471541007619e-12, 5.8389734029621778e-18]\n"
     ]
    }
   ],
   "source": [
    "tot = sum(eigenvalues)\n",
    "var_explained = [(i / tot) for i in sorted(train_eigvalues_sorted, reverse=True)] \n",
    "print ('Varience of eigen vector:',var_explained)"
   ]
  },
  {
   "cell_type": "code",
   "execution_count": 66,
   "metadata": {},
   "outputs": [
    {
     "name": "stdout",
     "output_type": "stream",
     "text": [
      "Cummulative varience [ 0.88377673  0.99913945  0.99982348  0.99993604  0.99999971  0.99999999\n",
      "  1.          1.          1.          1.          1.          1.          1.\n",
      "  1.          1.          1.          1.        ]\n"
     ]
    }
   ],
   "source": [
    "cum_var_exp = np.cumsum(var_explained)\n",
    "print('Cummulative varience',cum_var_exp)"
   ]
  },
  {
   "cell_type": "code",
   "execution_count": 114,
   "metadata": {},
   "outputs": [
    {
     "data": {
      "image/png": "[encoded data removed]",
      "text/plain": [
       "<Figure size 432x288 with 1 Axes>"
      ]
     },
     "metadata": {
      "needs_background": "light"
     },
     "output_type": "display_data"
    }
   ],
   "source": [
    "plt.bar(range(1,18), var_explained, alpha=0.5, align='center', label='individual explained variance')\n",
    "plt.step(range(1,18),cum_var_exp, where= 'mid', label='cumulative explained variance')\n",
    "plt.ylabel('Explained variance ratio')\n",
    "plt.xlabel('Principal components')\n",
    "plt.legend(loc = 'best')\n",
    "plt.show()"
   ]
  },
  {
   "cell_type": "code",
   "execution_count": 78,
   "metadata": {},
   "outputs": [
    {
     "data": {
      "text/html": [
       "<div>\n",
       "<style scoped>\n",
       "    .dataframe tbody tr th:only-of-type {\n",
       "        vertical-align: middle;\n",
       "    }\n",
       "\n",
       "    .dataframe tbody tr th {\n",
       "        vertical-align: top;\n",
       "    }\n",
       "\n",
       "    .dataframe thead th {\n",
       "        text-align: right;\n",
       "    }\n",
       "</style>\n",
       "<table border=\"1\" class=\"dataframe\">\n",
       "  <thead>\n",
       "    <tr style=\"text-align: right;\">\n",
       "      <th></th>\n",
       "      <th>0</th>\n",
       "      <th>1</th>\n",
       "      <th>price</th>\n",
       "    </tr>\n",
       "  </thead>\n",
       "  <tbody>\n",
       "    <tr>\n",
       "      <th>0</th>\n",
       "      <td>-2.190254</td>\n",
       "      <td>-0.552100</td>\n",
       "      <td>221900.0</td>\n",
       "    </tr>\n",
       "    <tr>\n",
       "      <th>1</th>\n",
       "      <td>-0.030327</td>\n",
       "      <td>0.780925</td>\n",
       "      <td>538000.0</td>\n",
       "    </tr>\n",
       "    <tr>\n",
       "      <th>2</th>\n",
       "      <td>-2.566487</td>\n",
       "      <td>-0.145539</td>\n",
       "      <td>180000.0</td>\n",
       "    </tr>\n",
       "    <tr>\n",
       "      <th>3</th>\n",
       "      <td>-0.869032</td>\n",
       "      <td>2.091132</td>\n",
       "      <td>604000.0</td>\n",
       "    </tr>\n",
       "    <tr>\n",
       "      <th>4</th>\n",
       "      <td>-0.137588</td>\n",
       "      <td>-1.054646</td>\n",
       "      <td>510000.0</td>\n",
       "    </tr>\n",
       "  </tbody>\n",
       "</table>\n",
       "</div>"
      ],
      "text/plain": [
       "          0         1     price\n",
       "0 -2.190254 -0.552100  221900.0\n",
       "1 -0.030327  0.780925  538000.0\n",
       "2 -2.566487 -0.145539  180000.0\n",
       "3 -0.869032  2.091132  604000.0\n",
       "4 -0.137588 -1.054646  510000.0"
      ]
     },
     "execution_count": 78,
     "metadata": {},
     "output_type": "execute_result"
    }
   ],
   "source": [
    "from sklearn.decomposition import PCA\n",
    "X_reduced = PCA(n_components=2)\n",
    "X_std_4D= X_reduced.fit_transform(X_train_std)\n",
    "\n",
    "Proj_data_df = pd.DataFrame(X_std_4D)\n",
    "Proj_data_df = Proj_data_df.join(pd.DataFrame(Master_data['price']))\n",
    "Proj_data_df.head(5)"
   ]
  },
  {
   "cell_type": "code",
   "execution_count": 79,
   "metadata": {},
   "outputs": [
    {
     "data": {
      "text/plain": [
       "<seaborn.axisgrid.PairGrid at 0x224703af2e8>"
      ]
     },
     "execution_count": 79,
     "metadata": {},
     "output_type": "execute_result"
    },
    {
     "data": {
      "image/png": "[encoded data removed]",
      "text/plain": [
       "<Figure size 540x540 with 12 Axes>"
      ]
     },
     "metadata": {
      "needs_background": "light"
     },
     "output_type": "display_data"
    }
   ],
   "source": [
    "sns.pairplot(Proj_data_df, diag_kind='kde')"
   ]
  },
  {
   "cell_type": "code",
   "execution_count": 115,
   "metadata": {},
   "outputs": [],
   "source": [
    "from sklearn.model_selection import train_test_split\n",
    "array = Proj_data_df.values\n",
    "X = array[:,0:2] \n",
    "y = array[:,2]   \n",
    "X_train, X_test, y_train, y_test = train_test_split(X, y, test_size=0.30, random_state=1)"
   ]
  },
  {
   "cell_type": "code",
   "execution_count": 116,
   "metadata": {},
   "outputs": [],
   "source": [
    "#### Multiple linear Regression on PCA dataset ####\n",
    "from sklearn.linear_model import LinearRegression\n",
    "from sklearn.metrics import mean_squared_error, r2_score\n",
    "regression_model = LinearRegression()\n",
    "regression_model.fit(X_train, y_train)\n",
    "y_predicted = regression_model.predict(X_test)\n",
    "rmse = mean_squared_error(y_test, y_predicted)\n",
    "r2 = r2_score(y_test, y_predicted)"
   ]
  },
  {
   "cell_type": "code",
   "execution_count": 117,
   "metadata": {},
   "outputs": [
    {
     "name": "stdout",
     "output_type": "stream",
     "text": [
      "Slope: [ 101946.84029666  100682.6238936 ]\n",
      "Intercept: 538097.284642\n",
      "Root mean squared error:  65670611020.4\n",
      "R2 score:  0.579224218423\n"
     ]
    }
   ],
   "source": [
    "print('Slope:' ,regression_model.coef_)\n",
    "print('Intercept:', regression_model.intercept_)\n",
    "print('Root mean squared error: ', rmse)\n",
    "print('R2 score: ', r2)"
   ]
  },
  {
   "cell_type": "code",
   "execution_count": 122,
   "metadata": {},
   "outputs": [],
   "source": [
    "##### Using polynomial regression#####\n",
    "from sklearn.preprocessing import PolynomialFeatures\n",
    "polynomial_features= PolynomialFeatures(degree= 3)\n",
    "x_poly = polynomial_features.fit_transform(X_train)\n",
    "x_test = polynomial_features.fit_transform(X_test)\n",
    "regression_model = LinearRegression()\n",
    "regression_model.fit(x_poly, y_train)\n",
    "y_predicted = regression_model.predict(x_test)\n",
    "rmse = mean_squared_error(y_test, y_predicted)\n",
    "r2 = r2_score(y_test, y_predicted)"
   ]
  },
  {
   "cell_type": "code",
   "execution_count": 123,
   "metadata": {},
   "outputs": [
    {
     "name": "stdout",
     "output_type": "stream",
     "text": [
      "Slope: [     0.          89044.04739135  80525.62857362  10137.70035108\n",
      "   7503.0099114    4187.24584814   -645.73554684    975.51180972\n",
      "    703.91559213   -917.46183901]\n",
      "Intercept: 484816.422962\n",
      "Root mean squared error:  54155557771.8\n",
      "R2 score:  0.653005403877\n"
     ]
    }
   ],
   "source": [
    "print('Slope:' ,regression_model.coef_)\n",
    "print('Intercept:', regression_model.intercept_)\n",
    "print('Root mean squared error: ', rmse)\n",
    "print('R2 score: ', r2)"
   ]
  },
  {
   "cell_type": "code",
   "execution_count": 156,
   "metadata": {},
   "outputs": [],
   "source": [
    "#### Using Mulitple linear Regression on original data ####\n",
    "from sklearn.model_selection import train_test_split\n",
    "array = Master_data.values\n",
    "X = array[:,1:] \n",
    "y = array[:,0]   \n",
    "X_train, X_test, y_train, y_test = train_test_split(X, y, test_size=0.30, random_state=1)"
   ]
  },
  {
   "cell_type": "code",
   "execution_count": 157,
   "metadata": {},
   "outputs": [],
   "source": [
    "regression_model = LinearRegression()\n",
    "regression_model.fit(X_train, y_train)\n",
    "y_predicted = regression_model.predict(X_test)\n",
    "rmse = mean_squared_error(y_test, y_predicted)\n",
    "r2 = r2_score(y_test, y_predicted)"
   ]
  },
  {
   "cell_type": "code",
   "execution_count": 158,
   "metadata": {},
   "outputs": [
    {
     "name": "stdout",
     "output_type": "stream",
     "text": [
      "Slope: [ -3.05098198e+04   4.72696803e+04   1.04253302e+02   8.45079545e-02\n",
      "   3.45289784e+03   5.79040129e+05   4.84567626e+04   2.95037197e+04\n",
      "   9.72773482e+04   6.86134215e+01   3.56398801e+01   5.71710134e+05\n",
      "  -1.03196041e+05   2.49625239e+01  -3.20650295e-01   2.50224626e+03\n",
      "  -2.01671912e+02]\n",
      "Intercept: -40615125.7758\n",
      "Root mean squared error:  48596910039.6\n",
      "R2 score:  0.688621706325\n"
     ]
    }
   ],
   "source": [
    "print('Slope:' ,regression_model.coef_)\n",
    "print('Intercept:', regression_model.intercept_)\n",
    "print('Root mean squared error: ', rmse)\n",
    "print('R2 score: ', r2)"
   ]
  },
  {
   "cell_type": "code",
   "execution_count": 166,
   "metadata": {},
   "outputs": [
    {
     "name": "stdout",
     "output_type": "stream",
     "text": [
      "R2 score:  0.688621706325\n"
     ]
    },
    {
     "data": {
      "text/plain": [
       "193771.25919962025"
      ]
     },
     "execution_count": 166,
     "metadata": {},
     "output_type": "execute_result"
    }
   ],
   "source": [
    "### K-Fold Cross-validation####\n",
    "from sklearn.model_selection import cross_val_score\n",
    "scores = cross_val_score(regression_model, X_train, y_train, scoring=\"neg_mean_squared_error\", cv=10)\n",
    "rmse_scores = np.sqrt(-scores)\n",
    "print('R2 score: ', r2)\n",
    "rmse_scores.mean()"
   ]
  },
  {
   "cell_type": "code",
   "execution_count": 138,
   "metadata": {},
   "outputs": [],
   "source": [
    "#### Feature importance using RandomForest Regression#####\n",
    "\n",
    "from sklearn.model_selection import train_test_split\n",
    "X = Master_data.iloc[:,1:] \n",
    "y = Master_data.iloc[:,0]   \n",
    "X_train, X_test, y_train, y_test = train_test_split(X, y, test_size=0.30, random_state=1)\n",
    "\n",
    "from sklearn.ensemble import RandomForestRegressor\n",
    "rf = RandomForestRegressor()\n",
    "rf.fit(X_train, y_train) \n",
    "feature_importances = pd.DataFrame(rf.feature_importances_,\n",
    "                                   index = X_train.columns,\n",
    "                                    columns=['importance']).sort_values('importance', ascending=False)"
   ]
  },
  {
   "cell_type": "code",
   "execution_count": 139,
   "metadata": {},
   "outputs": [
    {
     "data": {
      "text/html": [
       "<div>\n",
       "<style scoped>\n",
       "    .dataframe tbody tr th:only-of-type {\n",
       "        vertical-align: middle;\n",
       "    }\n",
       "\n",
       "    .dataframe tbody tr th {\n",
       "        vertical-align: top;\n",
       "    }\n",
       "\n",
       "    .dataframe thead th {\n",
       "        text-align: right;\n",
       "    }\n",
       "</style>\n",
       "<table border=\"1\" class=\"dataframe\">\n",
       "  <thead>\n",
       "    <tr style=\"text-align: right;\">\n",
       "      <th></th>\n",
       "      <th>importance</th>\n",
       "    </tr>\n",
       "  </thead>\n",
       "  <tbody>\n",
       "    <tr>\n",
       "      <th>grade</th>\n",
       "      <td>0.350779</td>\n",
       "    </tr>\n",
       "    <tr>\n",
       "      <th>sqft_living</th>\n",
       "      <td>0.224411</td>\n",
       "    </tr>\n",
       "    <tr>\n",
       "      <th>lat</th>\n",
       "      <td>0.168836</td>\n",
       "    </tr>\n",
       "    <tr>\n",
       "      <th>long</th>\n",
       "      <td>0.070825</td>\n",
       "    </tr>\n",
       "    <tr>\n",
       "      <th>age of house in years</th>\n",
       "      <td>0.037533</td>\n",
       "    </tr>\n",
       "    <tr>\n",
       "      <th>sqft_living15</th>\n",
       "      <td>0.033066</td>\n",
       "    </tr>\n",
       "    <tr>\n",
       "      <th>waterfront</th>\n",
       "      <td>0.030971</td>\n",
       "    </tr>\n",
       "    <tr>\n",
       "      <th>sqft_above</th>\n",
       "      <td>0.024601</td>\n",
       "    </tr>\n",
       "    <tr>\n",
       "      <th>sqft_lot15</th>\n",
       "      <td>0.013827</td>\n",
       "    </tr>\n",
       "    <tr>\n",
       "      <th>sqft_lot</th>\n",
       "      <td>0.013625</td>\n",
       "    </tr>\n",
       "    <tr>\n",
       "      <th>view</th>\n",
       "      <td>0.010488</td>\n",
       "    </tr>\n",
       "    <tr>\n",
       "      <th>sqft_basement</th>\n",
       "      <td>0.006192</td>\n",
       "    </tr>\n",
       "    <tr>\n",
       "      <th>bathrooms</th>\n",
       "      <td>0.004865</td>\n",
       "    </tr>\n",
       "    <tr>\n",
       "      <th>condition</th>\n",
       "      <td>0.003160</td>\n",
       "    </tr>\n",
       "    <tr>\n",
       "      <th>bedrooms</th>\n",
       "      <td>0.002898</td>\n",
       "    </tr>\n",
       "    <tr>\n",
       "      <th>age of house in yrs after renovation</th>\n",
       "      <td>0.002400</td>\n",
       "    </tr>\n",
       "    <tr>\n",
       "      <th>floors</th>\n",
       "      <td>0.001521</td>\n",
       "    </tr>\n",
       "  </tbody>\n",
       "</table>\n",
       "</div>"
      ],
      "text/plain": [
       "                                      importance\n",
       "grade                                   0.350779\n",
       "sqft_living                             0.224411\n",
       "lat                                     0.168836\n",
       "long                                    0.070825\n",
       "age of house in years                   0.037533\n",
       "sqft_living15                           0.033066\n",
       "waterfront                              0.030971\n",
       "sqft_above                              0.024601\n",
       "sqft_lot15                              0.013827\n",
       "sqft_lot                                0.013625\n",
       "view                                    0.010488\n",
       "sqft_basement                           0.006192\n",
       "bathrooms                               0.004865\n",
       "condition                               0.003160\n",
       "bedrooms                                0.002898\n",
       "age of house in yrs after renovation    0.002400\n",
       "floors                                  0.001521"
      ]
     },
     "execution_count": 139,
     "metadata": {},
     "output_type": "execute_result"
    }
   ],
   "source": [
    "### Feature Importance ####\n",
    "feature_importances"
   ]
  },
  {
   "cell_type": "code",
   "execution_count": 140,
   "metadata": {},
   "outputs": [],
   "source": [
    "selected_features = Master_data[['price', 'grade', 'sqft_living','lat']]"
   ]
  },
  {
   "cell_type": "code",
   "execution_count": 171,
   "metadata": {},
   "outputs": [],
   "source": [
    "from sklearn.model_selection import train_test_split\n",
    "X = selected_features.iloc[:,1:] \n",
    "y = selected_features.iloc[:,0]   \n",
    "X_train, X_test, y_train, y_test = train_test_split(X, y, test_size=0.30, random_state=1)\n",
    "\n",
    "regression_model = LinearRegression()\n",
    "regression_model.fit(X_train, y_train)\n",
    "y_predicted = regression_model.predict(X_test)\n",
    "rmse = mean_squared_error(y_test, y_predicted)\n",
    "r2 = r2_score(y_test, y_predicted)\n"
   ]
  },
  {
   "cell_type": "code",
   "execution_count": 172,
   "metadata": {},
   "outputs": [
    {
     "name": "stdout",
     "output_type": "stream",
     "text": [
      "Slope: [  8.45983265e+04   1.85186335e+02   6.71850187e+05]\n",
      "Intercept: -32447833.5525\n",
      "Root mean squared error:  64146110148.8\n",
      "R2 score:  0.588992256756\n"
     ]
    }
   ],
   "source": [
    "print('Slope:' ,regression_model.coef_)\n",
    "print('Intercept:', regression_model.intercept_)\n",
    "print('Root mean squared error: ', rmse)\n",
    "print('R2 score: ', r2)"
   ]
  },
  {
   "cell_type": "code",
   "execution_count": 173,
   "metadata": {},
   "outputs": [
    {
     "name": "stdout",
     "output_type": "stream",
     "text": [
      "R2 score:  0.588992256756\n"
     ]
    },
    {
     "data": {
      "text/plain": [
       "223707.6227267292"
      ]
     },
     "execution_count": 173,
     "metadata": {},
     "output_type": "execute_result"
    }
   ],
   "source": [
    "#### K-fold cross-validation####\n",
    "from sklearn.model_selection import cross_val_score\n",
    "scores = cross_val_score(regression_model, X_train, y_train, scoring=\"neg_mean_squared_error\", cv=10)\n",
    "rmse_scores = np.sqrt(-scores)\n",
    "print('R2 score: ', r2)\n",
    "rmse_scores.mean()"
   ]
  },
  {
   "cell_type": "code",
   "execution_count": 174,
   "metadata": {},
   "outputs": [],
   "source": [
    "##### Using polynomial regression selected feature dataset#####\n",
    "from sklearn.preprocessing import PolynomialFeatures\n",
    "polynomial_features= PolynomialFeatures(degree=4)\n",
    "x_poly = polynomial_features.fit_transform(X_train)\n",
    "x_test = polynomial_features.fit_transform(X_test)\n",
    "regression_model = LinearRegression()\n",
    "regression_model.fit(x_poly, y_train)\n",
    "y_predicted = regression_model.predict(x_test)\n",
    "rmse = mean_squared_error(y_test, y_predicted)\n",
    "r2 = r2_score(y_test, y_predicted)"
   ]
  },
  {
   "cell_type": "code",
   "execution_count": 175,
   "metadata": {},
   "outputs": [
    {
     "name": "stdout",
     "output_type": "stream",
     "text": [
      "Slope: [ -2.47174459e-02   1.76098794e+02  -1.05652694e+03   3.27145895e-01\n",
      "  -2.10637160e+02  -2.52315298e+03  -2.34679978e+02  -6.18307755e+02\n",
      "  -1.90001345e+04   1.48323647e+01  -1.46937406e+03  -2.38414698e+02\n",
      "  -4.82396977e+03  -2.08518084e+00   4.01941135e+02  -5.02635680e+03\n",
      "   2.07495485e-03   2.59691836e+01   7.77348134e+02   7.18123005e+02\n",
      "   3.46067418e+02  -5.16256920e-01  -1.44386656e+02  -6.60549187e-04\n",
      "   5.24147848e+00   1.35234826e+02   1.94694110e-06   4.38118396e-02\n",
      "  -7.34635219e+00   1.02794394e+02  -6.27359249e-10  -4.37932720e-05\n",
      "  -2.72665061e-01  -7.93533167e+00  -1.35811170e+01]\n",
      "Intercept: -7043128.85879\n",
      "Root mean squared error:  45427119460.3\n",
      "R2 score:  0.708931721532\n"
     ]
    }
   ],
   "source": [
    "print('Slope:' ,regression_model.coef_)\n",
    "print('Intercept:', regression_model.intercept_)\n",
    "print('Root mean squared error: ', rmse)\n",
    "print('R2 score: ', r2)"
   ]
  },
  {
   "cell_type": "code",
   "execution_count": 176,
   "metadata": {},
   "outputs": [
    {
     "name": "stdout",
     "output_type": "stream",
     "text": [
      "R2 score:  0.708931721532\n"
     ]
    },
    {
     "data": {
      "text/plain": [
       "203361.16577243234"
      ]
     },
     "execution_count": 176,
     "metadata": {},
     "output_type": "execute_result"
    }
   ],
   "source": [
    "#### K-fold cross-validation####\n",
    "from sklearn.model_selection import cross_val_score\n",
    "scores = cross_val_score(regression_model, x_poly, y_train, scoring=\"neg_mean_squared_error\", cv=10)\n",
    "rmse_scores = np.sqrt(-scores)\n",
    "print('R2 score: ', r2)\n",
    "rmse_scores.mean()"
   ]
  },
  {
   "cell_type": "code",
   "execution_count": 178,
   "metadata": {},
   "outputs": [],
   "source": [
    "#### Ridge Regression #####\n",
    "from sklearn.linear_model import Ridge\n",
    "\n",
    "array = Master_data.values\n",
    "X = array[:,1:] \n",
    "y = array[:,0]   \n",
    "X_train, X_test, y_train, y_test = train_test_split(X, y, test_size=0.30, random_state=1)\n",
    "lr = LinearRegression()\n",
    "lr.fit(X_train, y_train)\n",
    "rr = Ridge(alpha=0.01)\n",
    "rr.fit(X_train, y_train)\n",
    "rr100 = Ridge(alpha=100)\n",
    "rr100.fit(X_train, y_train)\n",
    "train_score=lr.score(X_train, y_train)\n",
    "test_score=lr.score(X_test, y_test)\n",
    "Ridge_train_score = rr.score(X_train,y_train)\n",
    "Ridge_test_score = rr.score(X_test, y_test)\n",
    "Ridge_train_score100 = rr100.score(X_train,y_train)\n",
    "Ridge_test_score100 = rr100.score(X_test, y_test)\n",
    "              "
   ]
  },
  {
   "cell_type": "code",
   "execution_count": 182,
   "metadata": {},
   "outputs": [
    {
     "name": "stdout",
     "output_type": "stream",
     "text": [
      "linear regression train score: 0.700795660351\n",
      "linear regression test score: 0.688621706325\n",
      "ridge regression train score low alpha: 0.700795660098\n",
      "ridge regression test score low alpha: 0.688621615258\n",
      "ridge regression train score high alpha: 0.692900741112\n",
      "ridge regression test score high alpha: 0.682539196641\n"
     ]
    }
   ],
   "source": [
    "print(\"linear regression train score:\", train_score)\n",
    "print(\"linear regression test score:\", test_score)\n",
    "print(\"ridge regression train score low alpha:\", Ridge_train_score)\n",
    "print(\"ridge regression test score low alpha:\", Ridge_test_score)\n",
    "print(\"ridge regression train score high alpha:\", Ridge_train_score100)\n",
    "print(\"ridge regression test score high alpha:\", Ridge_test_score100)"
   ]
  },
  {
   "cell_type": "code",
   "execution_count": 183,
   "metadata": {},
   "outputs": [],
   "source": [
    "from sklearn.linear_model import Lasso\n",
    "\n",
    "array = Master_data.values\n",
    "X = array[:,1:] \n",
    "y = array[:,0]   \n",
    "X_train, X_test, y_train, y_test = train_test_split(X, y, test_size=0.30, random_state=1)"
   ]
  },
  {
   "cell_type": "code",
   "execution_count": 184,
   "metadata": {},
   "outputs": [
    {
     "name": "stderr",
     "output_type": "stream",
     "text": [
      "C:\\Users\\Ravichandra\\Anaconda3\\lib\\site-packages\\sklearn\\linear_model\\coordinate_descent.py:491: ConvergenceWarning: Objective did not converge. You might want to increase the number of iterations. Fitting data with very small alpha may cause precision problems.\n",
      "  ConvergenceWarning)\n"
     ]
    },
    {
     "name": "stdout",
     "output_type": "stream",
     "text": [
      "training score: 0.700795658203\n",
      "test score:  0.68862102461\n",
      "number of features used:  17\n"
     ]
    },
    {
     "name": "stderr",
     "output_type": "stream",
     "text": [
      "C:\\Users\\Ravichandra\\Anaconda3\\lib\\site-packages\\sklearn\\linear_model\\coordinate_descent.py:491: ConvergenceWarning: Objective did not converge. You might want to increase the number of iterations. Fitting data with very small alpha may cause precision problems.\n",
      "  ConvergenceWarning)\n"
     ]
    },
    {
     "name": "stdout",
     "output_type": "stream",
     "text": [
      "training score for alpha=0.01: 0.700795660351\n",
      "test score for alpha =0.01:  0.688621699524\n",
      "number of features used: for alpha =0.01: 17\n",
      "training score for alpha=0.0001: 0.700795660351\n",
      "test score for alpha =0.0001:  0.688621706257\n",
      "number of features used: for alpha =0.0001: 17\n",
      "LR training score: 0.700795660351\n",
      "LR test score:  0.688621706325\n"
     ]
    },
    {
     "name": "stderr",
     "output_type": "stream",
     "text": [
      "C:\\Users\\Ravichandra\\Anaconda3\\lib\\site-packages\\sklearn\\linear_model\\coordinate_descent.py:491: ConvergenceWarning: Objective did not converge. You might want to increase the number of iterations. Fitting data with very small alpha may cause precision problems.\n",
      "  ConvergenceWarning)\n"
     ]
    }
   ],
   "source": [
    "#### Lasso Regression ####\n",
    "lasso = Lasso()\n",
    "lasso.fit(X_train,y_train)\n",
    "train_score=lasso.score(X_train,y_train)\n",
    "test_score=lasso.score(X_test,y_test)\n",
    "coeff_used = np.sum(lasso.coef_!=0)\n",
    "\n",
    "print(\"training score:\", train_score) \n",
    "print(\"test score: \", test_score)\n",
    "print(\"number of features used: \", coeff_used)\n",
    "lasso001 = Lasso(alpha=0.01, max_iter=10e5)\n",
    "lasso001.fit(X_train,y_train)\n",
    "train_score001=lasso001.score(X_train,y_train)\n",
    "test_score001=lasso001.score(X_test,y_test)\n",
    "coeff_used001 = np.sum(lasso001.coef_!=0)\n",
    "print(\"training score for alpha=0.01:\", train_score001) \n",
    "print(\"test score for alpha =0.01: \", test_score001)\n",
    "print(\"number of features used: for alpha =0.01:\", coeff_used001)\n",
    "lasso00001 = Lasso(alpha=0.0001, max_iter=10e5)\n",
    "lasso00001.fit(X_train,y_train)\n",
    "train_score00001=lasso00001.score(X_train,y_train)\n",
    "test_score00001=lasso00001.score(X_test,y_test)\n",
    "coeff_used00001 = np.sum(lasso00001.coef_!=0)\n",
    "print(\"training score for alpha=0.0001:\", train_score00001) \n",
    "print(\"test score for alpha =0.0001: \", test_score00001)\n",
    "print(\"number of features used: for alpha =0.0001:\", coeff_used00001)\n",
    "lr = LinearRegression()\n",
    "lr.fit(X_train,y_train)\n",
    "lr_train_score=lr.score(X_train,y_train)\n",
    "lr_test_score=lr.score(X_test,y_test)\n",
    "print(\"LR training score:\", lr_train_score) \n",
    "print(\"LR test score: \", lr_test_score)"
   ]
  },
  {
   "cell_type": "code",
   "execution_count": null,
   "metadata": {},
   "outputs": [],
   "source": [
    "### polynomial regression gives better result in comparision with other models ###"
   ]
  }
 ],
 "metadata": {
  "kernelspec": {
   "display_name": "Python 3",
   "language": "python",
   "name": "python3"
  },
  "language_info": {
   "codemirror_mode": {
    "name": "ipython",
    "version": 3
   },
   "file_extension": ".py",
   "mimetype": "text/x-python",
   "name": "python",
   "nbconvert_exporter": "python",
   "pygments_lexer": "ipython3",
   "version": "3.6.8"
  }
 },
 "nbformat": 4,
 "nbformat_minor": 2
}
