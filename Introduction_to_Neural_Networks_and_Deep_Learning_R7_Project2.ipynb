{
  "nbformat": 4,
  "nbformat_minor": 0,
  "metadata": {
    "colab": {
      "name": "Introduction to Neural Networks and Deep Learning_R7_Project2.ipynb",
      "version": "0.3.2",
      "provenance": [],
      "collapsed_sections": []
    },
    "kernelspec": {
      "name": "python3",
      "display_name": "Python 3"
    },
    "accelerator": "GPU"
  },
  "cells": [
    {
      "cell_type": "code",
      "metadata": {
        "id": "Dn5_WIQIyY8U",
        "colab_type": "code",
        "colab": {
          "base_uri": "https://localhost:8080/",
          "height": 34
        },
        "outputId": "6881865f-1cce-4af5-9c64-5d33a51f6baf"
      },
      "source": [
        "from keras.preprocessing.image import ImageDataGenerator\n",
        "from sklearn.model_selection import train_test_split\n",
        "from keras.preprocessing.image import img_to_array\n",
        "from keras.utils import to_categorical\n",
        "from imutils import paths\n",
        "import glob\n",
        "import matplotlib.pyplot as plt\n",
        "import numpy as np\n",
        "import random\n",
        "import cv2\n",
        "import os\n",
        "import keras\n",
        "from keras.models import Sequential\n",
        "from keras.layers import Dense, Activation, Dropout, Flatten, Reshape\n",
        "import pandas as pd\n",
        "import numpy as np\n",
        "from sklearn.metrics import classification_report"
      ],
      "execution_count": 1,
      "outputs": [
        {
          "output_type": "stream",
          "text": [
            "Using TensorFlow backend.\n"
          ],
          "name": "stderr"
        }
      ]
    },
    {
      "cell_type": "code",
      "metadata": {
        "id": "dPA694EDyccM",
        "colab_type": "code",
        "colab": {
          "base_uri": "https://localhost:8080/",
          "height": 125
        },
        "outputId": "f4fbb23b-5323-43b8-a72c-c7be37660494"
      },
      "source": [
        "from google.colab import drive\n",
        "drive.mount('/content/drive')"
      ],
      "execution_count": 2,
      "outputs": [
        {
          "output_type": "stream",
          "text": [
            "Go to this URL in a browser: https://accounts.google.com/o/oauth2/auth?client_id=947318989803-6bn6qk8qdgf4n4g3pfee6491hc0brc4i.apps.googleusercontent.com&redirect_uri=urn%3Aietf%3Awg%3Aoauth%3A2.0%3Aoob&scope=email%20https%3A%2F%2Fwww.googleapis.com%2Fauth%2Fdocs.test%20https%3A%2F%2Fwww.googleapis.com%2Fauth%2Fdrive%20https%3A%2F%2Fwww.googleapis.com%2Fauth%2Fdrive.photos.readonly%20https%3A%2F%2Fwww.googleapis.com%2Fauth%2Fpeopleapi.readonly&response_type=code\n",
            "\n",
            "Enter your authorization code:\n",
            "··········\n",
            "Mounted at /content/drive\n"
          ],
          "name": "stdout"
        }
      ]
    },
    {
      "cell_type": "code",
      "metadata": {
        "id": "LvOHnZZ20QQF",
        "colab_type": "code",
        "colab": {}
      },
      "source": [
        "import h5py\n",
        "filename='/content/drive/My Drive/Colab Notebooks/SVHN_single_grey1.h5'\n",
        "f=h5py.File(filename,'r')"
      ],
      "execution_count": 0,
      "outputs": []
    },
    {
      "cell_type": "code",
      "metadata": {
        "id": "vHfLdOMR0g-s",
        "colab_type": "code",
        "colab": {}
      },
      "source": [
        "X_train=f['X_train']\n",
        "X_test=f['X_test']\n",
        "X_val=f['X_val']\n",
        "y_test=f['y_test']\n",
        "y_train=f['y_train']\n",
        "y_val=f['y_val']"
      ],
      "execution_count": 0,
      "outputs": []
    },
    {
      "cell_type": "code",
      "metadata": {
        "id": "YwS5u4H50hLc",
        "colab_type": "code",
        "colab": {}
      },
      "source": [
        "X_train=np.array(X_train)\n",
        "X_train = X_train.reshape(X_train.shape[0], 32, 32, 1).astype('float32')\n",
        "X_test=np.array(X_test)\n",
        "X_test = X_test.reshape(X_test.shape[0], 32, 32, 1).astype('float32')\n",
        "X_val=np.array(X_val)\n",
        "X_val = X_val.reshape(X_val.shape[0], 32, 32, 1).astype('float32')\n",
        "X_train /= 255 #normalizing data\n",
        "X_test /= 255\n",
        "X_val /= 255"
      ],
      "execution_count": 0,
      "outputs": []
    },
    {
      "cell_type": "code",
      "metadata": {
        "id": "lT4iwU7d0hcm",
        "colab_type": "code",
        "colab": {}
      },
      "source": [
        "y_train=np.array(y_train)\n",
        "y_test=np.array(y_test)\n",
        "y_val=np.array(y_val)"
      ],
      "execution_count": 0,
      "outputs": []
    },
    {
      "cell_type": "code",
      "metadata": {
        "id": "2FrmBV4Z0wJd",
        "colab_type": "code",
        "colab": {}
      },
      "source": [
        "from keras.utils import np_utils\n",
        "y_train_cat = np_utils.to_categorical(y_train, 10)\n",
        "y_test_cat = np_utils.to_categorical(y_test, 10)\n",
        "y_val_cat = np_utils.to_categorical(y_val, 10)"
      ],
      "execution_count": 0,
      "outputs": []
    },
    {
      "cell_type": "code",
      "metadata": {
        "id": "WGzmcVeY0wTM",
        "colab_type": "code",
        "colab": {
          "base_uri": "https://localhost:8080/",
          "height": 34
        },
        "outputId": "770b4fa6-1039-465e-d28d-bf4bd40f6136"
      },
      "source": [
        "#KNN\n",
        "X_train_knn=X_train.reshape(X_train.shape[0],32*32)\n",
        "X_test_knn=X_test.reshape(X_test.shape[0],32*32)\n",
        "X_val_knn=X_val.reshape(X_val.shape[0],32*32)\n",
        "from sklearn.neighbors import KNeighborsClassifier\n",
        "from sklearn.model_selection  import GridSearchCV\n",
        "knn = KNeighborsClassifier(n_neighbors = 500, weights = 'uniform', \n",
        "                           metric = 'euclidean')\n",
        "knn.fit(X_train_knn, y_train_cat)\n",
        "knn.score(X_test_knn,y_test_cat)"
      ],
      "execution_count": 8,
      "outputs": [
        {
          "output_type": "execute_result",
          "data": {
            "text/plain": [
              "0.00011111111111111112"
            ]
          },
          "metadata": {
            "tags": []
          },
          "execution_count": 8
        }
      ]
    },
    {
      "cell_type": "code",
      "metadata": {
        "id": "5DcCOHuT2uCR",
        "colab_type": "code",
        "colab": {
          "base_uri": "https://localhost:8080/",
          "height": 1000
        },
        "outputId": "fa195e19-b58a-4dcf-94bb-5e48e8f9e327"
      },
      "source": [
        "#model using DNN\n",
        "model = Sequential()\n",
        "model.add(Reshape((1024,), input_shape=(32, 32, 1)))\n",
        "model.add(Dense(output_dim=784, init='he_normal', bias=True))\n",
        "model.add(Activation(\"relu\"))\n",
        "model.add(Dense(output_dim=128, init='he_normal', bias=True))\n",
        "model.add(Activation(\"relu\"))\n",
        "model.add(Dense(output_dim=10, init='he_normal', bias=True))\n",
        "model.add(Activation(\"softmax\"))\n",
        "model.compile(loss='categorical_crossentropy', optimizer='sgd', metrics=['accuracy'])\n",
        "result=model.fit(X_train, y_train_cat, epochs=50,validation_data = (X_val, y_val_cat))"
      ],
      "execution_count": 9,
      "outputs": [
        {
          "output_type": "stream",
          "text": [
            "WARNING: Logging before flag parsing goes to stderr.\n",
            "W0726 15:51:07.982280 140593104615296 deprecation_wrapper.py:119] From /usr/local/lib/python3.6/dist-packages/keras/backend/tensorflow_backend.py:74: The name tf.get_default_graph is deprecated. Please use tf.compat.v1.get_default_graph instead.\n",
            "\n",
            "W0726 15:51:08.024615 140593104615296 deprecation_wrapper.py:119] From /usr/local/lib/python3.6/dist-packages/keras/backend/tensorflow_backend.py:517: The name tf.placeholder is deprecated. Please use tf.compat.v1.placeholder instead.\n",
            "\n",
            "/usr/local/lib/python3.6/dist-packages/ipykernel_launcher.py:3: UserWarning: Update your `Dense` call to the Keras 2 API: `Dense(units=784, kernel_initializer=\"he_normal\", use_bias=True)`\n",
            "  This is separate from the ipykernel package so we can avoid doing imports until\n",
            "W0726 15:51:08.042562 140593104615296 deprecation_wrapper.py:119] From /usr/local/lib/python3.6/dist-packages/keras/backend/tensorflow_backend.py:4185: The name tf.truncated_normal is deprecated. Please use tf.random.truncated_normal instead.\n",
            "\n",
            "/usr/local/lib/python3.6/dist-packages/ipykernel_launcher.py:5: UserWarning: Update your `Dense` call to the Keras 2 API: `Dense(units=128, kernel_initializer=\"he_normal\", use_bias=True)`\n",
            "  \"\"\"\n",
            "/usr/local/lib/python3.6/dist-packages/ipykernel_launcher.py:7: UserWarning: Update your `Dense` call to the Keras 2 API: `Dense(units=10, kernel_initializer=\"he_normal\", use_bias=True)`\n",
            "  import sys\n",
            "W0726 15:51:08.081255 140593104615296 deprecation_wrapper.py:119] From /usr/local/lib/python3.6/dist-packages/keras/optimizers.py:790: The name tf.train.Optimizer is deprecated. Please use tf.compat.v1.train.Optimizer instead.\n",
            "\n",
            "W0726 15:51:08.107139 140593104615296 deprecation_wrapper.py:119] From /usr/local/lib/python3.6/dist-packages/keras/backend/tensorflow_backend.py:3295: The name tf.log is deprecated. Please use tf.math.log instead.\n",
            "\n",
            "W0726 15:51:08.227767 140593104615296 deprecation.py:323] From /usr/local/lib/python3.6/dist-packages/tensorflow/python/ops/math_grad.py:1250: add_dispatch_support.<locals>.wrapper (from tensorflow.python.ops.array_ops) is deprecated and will be removed in a future version.\n",
            "Instructions for updating:\n",
            "Use tf.where in 2.0, which has the same broadcast rule as np.where\n",
            "W0726 15:51:08.277828 140593104615296 deprecation_wrapper.py:119] From /usr/local/lib/python3.6/dist-packages/keras/backend/tensorflow_backend.py:986: The name tf.assign_add is deprecated. Please use tf.compat.v1.assign_add instead.\n",
            "\n"
          ],
          "name": "stderr"
        },
        {
          "output_type": "stream",
          "text": [
            "Train on 42000 samples, validate on 60000 samples\n",
            "Epoch 1/50\n",
            "42000/42000 [==============================] - 10s 231us/step - loss: 2.2279 - acc: 0.2003 - val_loss: 2.1098 - val_acc: 0.2526\n",
            "Epoch 2/50\n",
            "42000/42000 [==============================] - 6s 137us/step - loss: 1.8785 - acc: 0.4151 - val_loss: 1.6949 - val_acc: 0.4667\n",
            "Epoch 3/50\n",
            "42000/42000 [==============================] - 6s 136us/step - loss: 1.4969 - acc: 0.5574 - val_loss: 1.3879 - val_acc: 0.5805\n",
            "Epoch 4/50\n",
            "42000/42000 [==============================] - 6s 134us/step - loss: 1.2738 - acc: 0.6200 - val_loss: 1.1810 - val_acc: 0.6550\n",
            "Epoch 5/50\n",
            "42000/42000 [==============================] - 6s 137us/step - loss: 1.1529 - acc: 0.6527 - val_loss: 1.0960 - val_acc: 0.6764\n",
            "Epoch 6/50\n",
            "42000/42000 [==============================] - 6s 138us/step - loss: 1.0776 - acc: 0.6749 - val_loss: 1.0534 - val_acc: 0.6816\n",
            "Epoch 7/50\n",
            "42000/42000 [==============================] - 6s 137us/step - loss: 1.0212 - acc: 0.6911 - val_loss: 1.0005 - val_acc: 0.6970\n",
            "Epoch 8/50\n",
            "42000/42000 [==============================] - 6s 135us/step - loss: 0.9798 - acc: 0.7040 - val_loss: 0.9790 - val_acc: 0.7047\n",
            "Epoch 9/50\n",
            "42000/42000 [==============================] - 6s 135us/step - loss: 0.9370 - acc: 0.7165 - val_loss: 0.9261 - val_acc: 0.7202\n",
            "Epoch 10/50\n",
            "42000/42000 [==============================] - 6s 139us/step - loss: 0.9012 - acc: 0.7274 - val_loss: 0.9071 - val_acc: 0.7306\n",
            "Epoch 11/50\n",
            "42000/42000 [==============================] - 6s 139us/step - loss: 0.8698 - acc: 0.7373 - val_loss: 0.8748 - val_acc: 0.7336\n",
            "Epoch 12/50\n",
            "42000/42000 [==============================] - 6s 136us/step - loss: 0.8395 - acc: 0.7475 - val_loss: 0.8468 - val_acc: 0.7420\n",
            "Epoch 13/50\n",
            "42000/42000 [==============================] - 6s 136us/step - loss: 0.8103 - acc: 0.7556 - val_loss: 0.7888 - val_acc: 0.7639\n",
            "Epoch 14/50\n",
            "42000/42000 [==============================] - 6s 136us/step - loss: 0.7880 - acc: 0.7623 - val_loss: 0.7898 - val_acc: 0.7609\n",
            "Epoch 15/50\n",
            "42000/42000 [==============================] - 6s 136us/step - loss: 0.7627 - acc: 0.7703 - val_loss: 0.8141 - val_acc: 0.7540\n",
            "Epoch 16/50\n",
            "42000/42000 [==============================] - 6s 135us/step - loss: 0.7426 - acc: 0.7770 - val_loss: 0.8326 - val_acc: 0.7397\n",
            "Epoch 17/50\n",
            "42000/42000 [==============================] - 6s 137us/step - loss: 0.7224 - acc: 0.7837 - val_loss: 0.7552 - val_acc: 0.7693\n",
            "Epoch 18/50\n",
            "42000/42000 [==============================] - 6s 134us/step - loss: 0.7047 - acc: 0.7874 - val_loss: 0.8980 - val_acc: 0.7219\n",
            "Epoch 19/50\n",
            "42000/42000 [==============================] - 6s 135us/step - loss: 0.6882 - acc: 0.7921 - val_loss: 0.6929 - val_acc: 0.7933\n",
            "Epoch 20/50\n",
            "42000/42000 [==============================] - 6s 133us/step - loss: 0.6728 - acc: 0.7990 - val_loss: 0.7774 - val_acc: 0.7562\n",
            "Epoch 21/50\n",
            "42000/42000 [==============================] - 6s 133us/step - loss: 0.6573 - acc: 0.8039 - val_loss: 0.6901 - val_acc: 0.7923\n",
            "Epoch 22/50\n",
            "42000/42000 [==============================] - 6s 133us/step - loss: 0.6444 - acc: 0.8073 - val_loss: 0.6486 - val_acc: 0.8064\n",
            "Epoch 23/50\n",
            "42000/42000 [==============================] - 6s 134us/step - loss: 0.6309 - acc: 0.8116 - val_loss: 0.6379 - val_acc: 0.8095\n",
            "Epoch 24/50\n",
            "42000/42000 [==============================] - 6s 133us/step - loss: 0.6162 - acc: 0.8150 - val_loss: 0.6605 - val_acc: 0.8002\n",
            "Epoch 25/50\n",
            "42000/42000 [==============================] - 6s 133us/step - loss: 0.6066 - acc: 0.8178 - val_loss: 0.7004 - val_acc: 0.7860\n",
            "Epoch 26/50\n",
            "42000/42000 [==============================] - 6s 133us/step - loss: 0.5971 - acc: 0.8209 - val_loss: 0.6684 - val_acc: 0.7980\n",
            "Epoch 27/50\n",
            "42000/42000 [==============================] - 6s 132us/step - loss: 0.5850 - acc: 0.8249 - val_loss: 0.6707 - val_acc: 0.7969\n",
            "Epoch 28/50\n",
            "42000/42000 [==============================] - 6s 133us/step - loss: 0.5774 - acc: 0.8272 - val_loss: 0.6471 - val_acc: 0.8058\n",
            "Epoch 29/50\n",
            "42000/42000 [==============================] - 6s 132us/step - loss: 0.5660 - acc: 0.8303 - val_loss: 0.6166 - val_acc: 0.8152\n",
            "Epoch 30/50\n",
            "42000/42000 [==============================] - 6s 132us/step - loss: 0.5536 - acc: 0.8353 - val_loss: 0.5724 - val_acc: 0.8330\n",
            "Epoch 31/50\n",
            "42000/42000 [==============================] - 6s 132us/step - loss: 0.5459 - acc: 0.8364 - val_loss: 0.9074 - val_acc: 0.7320\n",
            "Epoch 32/50\n",
            "42000/42000 [==============================] - 6s 132us/step - loss: 0.5381 - acc: 0.8395 - val_loss: 0.5742 - val_acc: 0.8285\n",
            "Epoch 33/50\n",
            "42000/42000 [==============================] - 6s 133us/step - loss: 0.5284 - acc: 0.8430 - val_loss: 0.5643 - val_acc: 0.8335\n",
            "Epoch 34/50\n",
            "42000/42000 [==============================] - 6s 134us/step - loss: 0.5212 - acc: 0.8461 - val_loss: 0.5524 - val_acc: 0.8373\n",
            "Epoch 35/50\n",
            "42000/42000 [==============================] - 6s 134us/step - loss: 0.5158 - acc: 0.8444 - val_loss: 0.5368 - val_acc: 0.8421\n",
            "Epoch 36/50\n",
            "42000/42000 [==============================] - 6s 132us/step - loss: 0.5075 - acc: 0.8490 - val_loss: 0.6111 - val_acc: 0.8183\n",
            "Epoch 37/50\n",
            "42000/42000 [==============================] - 6s 133us/step - loss: 0.4994 - acc: 0.8508 - val_loss: 0.5916 - val_acc: 0.8244\n",
            "Epoch 38/50\n",
            "42000/42000 [==============================] - 6s 134us/step - loss: 0.4931 - acc: 0.8531 - val_loss: 0.5209 - val_acc: 0.8481\n",
            "Epoch 39/50\n",
            "42000/42000 [==============================] - 6s 134us/step - loss: 0.4845 - acc: 0.8546 - val_loss: 0.6358 - val_acc: 0.8029\n",
            "Epoch 40/50\n",
            "42000/42000 [==============================] - 6s 133us/step - loss: 0.4791 - acc: 0.8557 - val_loss: 0.5352 - val_acc: 0.8410\n",
            "Epoch 41/50\n",
            "42000/42000 [==============================] - 6s 135us/step - loss: 0.4729 - acc: 0.8585 - val_loss: 0.5193 - val_acc: 0.8468\n",
            "Epoch 42/50\n",
            "42000/42000 [==============================] - 6s 132us/step - loss: 0.4664 - acc: 0.8618 - val_loss: 0.7031 - val_acc: 0.7850\n",
            "Epoch 43/50\n",
            "42000/42000 [==============================] - 6s 131us/step - loss: 0.4609 - acc: 0.8608 - val_loss: 0.5549 - val_acc: 0.8341\n",
            "Epoch 44/50\n",
            "42000/42000 [==============================] - 6s 132us/step - loss: 0.4540 - acc: 0.8647 - val_loss: 0.4850 - val_acc: 0.8593\n",
            "Epoch 45/50\n",
            "42000/42000 [==============================] - 6s 131us/step - loss: 0.4506 - acc: 0.8649 - val_loss: 0.4708 - val_acc: 0.8628\n",
            "Epoch 46/50\n",
            "42000/42000 [==============================] - 6s 131us/step - loss: 0.4437 - acc: 0.8677 - val_loss: 0.4756 - val_acc: 0.8616\n",
            "Epoch 47/50\n",
            "42000/42000 [==============================] - 6s 131us/step - loss: 0.4370 - acc: 0.8700 - val_loss: 0.4868 - val_acc: 0.8562\n",
            "Epoch 48/50\n",
            "42000/42000 [==============================] - 6s 132us/step - loss: 0.4320 - acc: 0.8712 - val_loss: 0.4727 - val_acc: 0.8607\n",
            "Epoch 49/50\n",
            "42000/42000 [==============================] - 6s 133us/step - loss: 0.4270 - acc: 0.8713 - val_loss: 0.4614 - val_acc: 0.8656\n",
            "Epoch 50/50\n",
            "42000/42000 [==============================] - 6s 131us/step - loss: 0.4215 - acc: 0.8736 - val_loss: 0.5024 - val_acc: 0.8517\n"
          ],
          "name": "stdout"
        }
      ]
    },
    {
      "cell_type": "code",
      "metadata": {
        "id": "HtQheTVs2uYw",
        "colab_type": "code",
        "colab": {
          "base_uri": "https://localhost:8080/",
          "height": 52
        },
        "outputId": "f876f63a-b735-4c02-e653-d4ddf74d170c"
      },
      "source": [
        "print(model.evaluate(X_test, y_test_cat)[1])"
      ],
      "execution_count": 10,
      "outputs": [
        {
          "output_type": "stream",
          "text": [
            "18000/18000 [==============================] - 1s 39us/step\n",
            "0.8181666666666667\n"
          ],
          "name": "stdout"
        }
      ]
    },
    {
      "cell_type": "code",
      "metadata": {
        "id": "ScvDB6DW2uio",
        "colab_type": "code",
        "colab": {}
      },
      "source": [
        "y_pred=model.predict_classes(X_test)"
      ],
      "execution_count": 0,
      "outputs": []
    },
    {
      "cell_type": "code",
      "metadata": {
        "id": "9V9pGis42uzQ",
        "colab_type": "code",
        "colab": {
          "base_uri": "https://localhost:8080/",
          "height": 318
        },
        "outputId": "10f16841-eee4-4e6a-f373-4d8ac9510f87"
      },
      "source": [
        "print(classification_report(y_test,y_pred))"
      ],
      "execution_count": 12,
      "outputs": [
        {
          "output_type": "stream",
          "text": [
            "              precision    recall  f1-score   support\n",
            "\n",
            "           0       0.89      0.80      0.85      1814\n",
            "           1       0.85      0.81      0.83      1828\n",
            "           2       0.88      0.82      0.85      1803\n",
            "           3       0.70      0.80      0.74      1719\n",
            "           4       0.84      0.87      0.86      1812\n",
            "           5       0.72      0.86      0.79      1768\n",
            "           6       0.83      0.80      0.82      1832\n",
            "           7       0.89      0.86      0.87      1808\n",
            "           8       0.84      0.76      0.80      1812\n",
            "           9       0.78      0.80      0.79      1804\n",
            "\n",
            "    accuracy                           0.82     18000\n",
            "   macro avg       0.82      0.82      0.82     18000\n",
            "weighted avg       0.82      0.82      0.82     18000\n",
            "\n"
          ],
          "name": "stdout"
        }
      ]
    }
  ]
}