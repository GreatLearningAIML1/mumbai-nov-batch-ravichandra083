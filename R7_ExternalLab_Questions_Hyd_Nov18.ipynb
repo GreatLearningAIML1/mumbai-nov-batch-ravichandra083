{
  "nbformat": 4,
  "nbformat_minor": 0,
  "metadata": {
    "colab": {
      "name": "R7_ExternalLab_Questions_Hyd_Nov18.ipynb",
      "version": "0.3.2",
      "provenance": [],
      "collapsed_sections": []
    },
    "language_info": {
      "codemirror_mode": {
        "name": "ipython",
        "version": 3
      },
      "file_extension": ".py",
      "mimetype": "text/x-python",
      "name": "python",
      "nbconvert_exporter": "python",
      "pygments_lexer": "ipython3",
      "version": "3.6.5"
    },
    "kernelspec": {
      "name": "python3",
      "display_name": "Python 3"
    },
    "accelerator": "GPU"
  },
  "cells": [
    {
      "cell_type": "markdown",
      "metadata": {
        "colab_type": "text",
        "id": "4WH1Pr4KQlCh"
      },
      "source": [
        "### Build a DNN using Keras with `RELU` and `ADAM`"
      ]
    },
    {
      "cell_type": "markdown",
      "metadata": {
        "colab_type": "text",
        "id": "TbvI8LqlQlCl",
        "slideshow": {
          "slide_type": "slide"
        }
      },
      "source": [
        "#### Load tensorflow"
      ]
    },
    {
      "cell_type": "code",
      "metadata": {
        "colab_type": "code",
        "id": "SPW-a-qYQlCp",
        "colab": {}
      },
      "source": [
        "import tensorflow as tf\n",
        "tf.reset_default_graph()\n",
        "tf.set_random_seed(42)"
      ],
      "execution_count": 0,
      "outputs": []
    },
    {
      "cell_type": "markdown",
      "metadata": {
        "colab_type": "text",
        "id": "74cQBsi5QlCw",
        "slideshow": {
          "slide_type": "slide"
        }
      },
      "source": [
        "#### Collect Fashion mnist data from tf.keras.datasets "
      ]
    },
    {
      "cell_type": "code",
      "metadata": {
        "colab_type": "code",
        "id": "8H4gOaeJQlCx",
        "colab": {}
      },
      "source": [
        "(trainX, trainY),(testX,testY) = tf.keras.datasets.fashion_mnist.load_data()"
      ],
      "execution_count": 0,
      "outputs": []
    },
    {
      "cell_type": "markdown",
      "metadata": {
        "colab_type": "text",
        "id": "no7aWYZyQlC1",
        "slideshow": {
          "slide_type": "slide"
        }
      },
      "source": [
        "#### Change train and test labels into one-hot vectors"
      ]
    },
    {
      "cell_type": "code",
      "metadata": {
        "colab_type": "code",
        "id": "UX6otc4wQlC2",
        "colab": {}
      },
      "source": [
        "trainY = tf.keras.utils.to_categorical(trainY, num_classes=10)"
      ],
      "execution_count": 0,
      "outputs": []
    },
    {
      "cell_type": "code",
      "metadata": {
        "id": "LU-WIesdoKZ6",
        "colab_type": "code",
        "outputId": "e2a5b6d5-a752-4848-ba9f-c78d343fb318",
        "colab": {
          "base_uri": "https://localhost:8080/",
          "height": 34
        }
      },
      "source": [
        "trainY.shape"
      ],
      "execution_count": 0,
      "outputs": [
        {
          "output_type": "execute_result",
          "data": {
            "text/plain": [
              "(60000, 10)"
            ]
          },
          "metadata": {
            "tags": []
          },
          "execution_count": 14
        }
      ]
    },
    {
      "cell_type": "code",
      "metadata": {
        "id": "s4twSzW5pANa",
        "colab_type": "code",
        "colab": {}
      },
      "source": [
        "testY = tf.keras.utils.to_categorical(testY, num_classes=10)"
      ],
      "execution_count": 0,
      "outputs": []
    },
    {
      "cell_type": "code",
      "metadata": {
        "id": "qj7k0baXpN-y",
        "colab_type": "code",
        "outputId": "14249992-2f9b-491b-b3bf-56203121365b",
        "colab": {
          "base_uri": "https://localhost:8080/",
          "height": 34
        }
      },
      "source": [
        "testY.shape"
      ],
      "execution_count": 0,
      "outputs": [
        {
          "output_type": "execute_result",
          "data": {
            "text/plain": [
              "(10000, 10)"
            ]
          },
          "metadata": {
            "tags": []
          },
          "execution_count": 16
        }
      ]
    },
    {
      "cell_type": "markdown",
      "metadata": {
        "colab_type": "text",
        "id": "QjNrRTdoQlC5",
        "slideshow": {
          "slide_type": "slide"
        }
      },
      "source": [
        "#### Build the Graph"
      ]
    },
    {
      "cell_type": "markdown",
      "metadata": {
        "colab_type": "text",
        "id": "CDJ9DHVNQlC7"
      },
      "source": [
        "#### Initialize model, reshape & normalize data"
      ]
    },
    {
      "cell_type": "code",
      "metadata": {
        "id": "PKNLGIbpqIua",
        "colab_type": "code",
        "outputId": "be76e70a-9259-4dca-e77d-6f4e8593f21e",
        "colab": {
          "base_uri": "https://localhost:8080/",
          "height": 34
        }
      },
      "source": [
        "trainX.shape"
      ],
      "execution_count": 0,
      "outputs": [
        {
          "output_type": "execute_result",
          "data": {
            "text/plain": [
              "(60000, 28, 28)"
            ]
          },
          "metadata": {
            "tags": []
          },
          "execution_count": 17
        }
      ]
    },
    {
      "cell_type": "code",
      "metadata": {
        "colab_type": "code",
        "id": "pCDQs_g1QlC8",
        "colab": {}
      },
      "source": [
        "model = tf.keras.models.Sequential()\n",
        "model.add(tf.keras.layers.Reshape((784,),input_shape=(28,28,)))\n",
        "model.add(tf.keras.layers.BatchNormalization())"
      ],
      "execution_count": 0,
      "outputs": []
    },
    {
      "cell_type": "markdown",
      "metadata": {
        "colab_type": "text",
        "id": "kBGwTTilQlDD",
        "slideshow": {
          "slide_type": "slide"
        }
      },
      "source": [
        "#### Add two fully connected layers with 200 and 100 neurons respectively with `relu` activations. Add a dropout layer with `p=0.25`"
      ]
    },
    {
      "cell_type": "code",
      "metadata": {
        "colab_type": "code",
        "id": "IXbfpfOzQlDF",
        "colab": {}
      },
      "source": [
        "model.add(tf.keras.layers.Dense(200, activation = 'relu'))\n",
        "model.add(tf.keras.layers.Dropout(0.25))\n",
        "model.add(tf.keras.layers.Dense(100, activation='relu'))"
      ],
      "execution_count": 0,
      "outputs": []
    },
    {
      "cell_type": "markdown",
      "metadata": {
        "colab_type": "text",
        "id": "5I8f5otcQlDJ"
      },
      "source": [
        "### Add the output layer with a fully connected layer with 10 neurons with `softmax` activation. Use `categorical_crossentropy` loss and `adam` optimizer and train the network. And, report the final validation."
      ]
    },
    {
      "cell_type": "code",
      "metadata": {
        "colab_type": "code",
        "id": "E25kuP_NQlDM",
        "colab": {}
      },
      "source": [
        "model.add(tf.keras.layers.Dense(10, activation = 'relu'))\n",
        "model.compile(optimizer=\"adam\",loss='categorical_crossentropy',metrics=['accuracy'])"
      ],
      "execution_count": 0,
      "outputs": []
    },
    {
      "cell_type": "code",
      "metadata": {
        "id": "dD6kxB2NtEXk",
        "colab_type": "code",
        "outputId": "e46e6b96-44c0-4966-f6b6-33902f5fa9be",
        "colab": {
          "base_uri": "https://localhost:8080/",
          "height": 391
        }
      },
      "source": [
        "model.summary()\n",
        "# This is to check that the model is built with the requested layers, neurons and hyperparameters"
      ],
      "execution_count": 0,
      "outputs": [
        {
          "output_type": "stream",
          "text": [
            "Model: \"sequential_1\"\n",
            "_________________________________________________________________\n",
            "Layer (type)                 Output Shape              Param #   \n",
            "=================================================================\n",
            "reshape (Reshape)            (None, 784)               0         \n",
            "_________________________________________________________________\n",
            "batch_normalization (BatchNo (None, 784)               3136      \n",
            "_________________________________________________________________\n",
            "dense (Dense)                (None, 200)               157000    \n",
            "_________________________________________________________________\n",
            "dense_1 (Dense)              (None, 200)               40200     \n",
            "_________________________________________________________________\n",
            "dropout (Dropout)            (None, 200)               0         \n",
            "_________________________________________________________________\n",
            "dense_2 (Dense)              (None, 100)               20100     \n",
            "_________________________________________________________________\n",
            "dense_3 (Dense)              (None, 10)                1010      \n",
            "=================================================================\n",
            "Total params: 221,446\n",
            "Trainable params: 219,878\n",
            "Non-trainable params: 1,568\n",
            "_________________________________________________________________\n"
          ],
          "name": "stdout"
        }
      ]
    },
    {
      "cell_type": "code",
      "metadata": {
        "id": "FupiaDwftWhJ",
        "colab_type": "code",
        "outputId": "0faa0848-51a5-4ce5-bc3c-7e1c57b8acd7",
        "colab": {
          "base_uri": "https://localhost:8080/",
          "height": 731
        }
      },
      "source": [
        "model.fit(trainX,trainY,\n",
        "         validation_data = (testX, testY),\n",
        "         epochs = 20,\n",
        "         batch_size = 32)"
      ],
      "execution_count": 0,
      "outputs": [
        {
          "output_type": "stream",
          "text": [
            "Train on 60000 samples, validate on 10000 samples\n",
            "Epoch 1/20\n",
            "60000/60000 [==============================] - 8s 127us/sample - loss: 0.5878 - acc: 0.8335 - val_loss: 0.5537 - val_acc: 0.8383\n",
            "Epoch 2/20\n",
            "60000/60000 [==============================] - 8s 127us/sample - loss: 0.6084 - acc: 0.8296 - val_loss: 0.5468 - val_acc: 0.8359\n",
            "Epoch 3/20\n",
            "60000/60000 [==============================] - 8s 126us/sample - loss: 0.5749 - acc: 0.8301 - val_loss: 0.5632 - val_acc: 0.8387\n",
            "Epoch 4/20\n",
            "60000/60000 [==============================] - 8s 126us/sample - loss: 0.5635 - acc: 0.8447 - val_loss: 0.5187 - val_acc: 0.8486\n",
            "Epoch 5/20\n",
            "60000/60000 [==============================] - 8s 126us/sample - loss: 0.5398 - acc: 0.8430 - val_loss: 0.5352 - val_acc: 0.8395\n",
            "Epoch 6/20\n",
            "60000/60000 [==============================] - 8s 125us/sample - loss: 0.5262 - acc: 0.8445 - val_loss: 0.4918 - val_acc: 0.8523\n",
            "Epoch 7/20\n",
            "60000/60000 [==============================] - 8s 126us/sample - loss: 0.4924 - acc: 0.8540 - val_loss: 0.4940 - val_acc: 0.8557\n",
            "Epoch 8/20\n",
            "60000/60000 [==============================] - 8s 126us/sample - loss: 0.5273 - acc: 0.8436 - val_loss: 0.5362 - val_acc: 0.8361\n",
            "Epoch 9/20\n",
            "60000/60000 [==============================] - 8s 127us/sample - loss: 0.5129 - acc: 0.8469 - val_loss: 0.4869 - val_acc: 0.8597\n",
            "Epoch 10/20\n",
            "60000/60000 [==============================] - 8s 127us/sample - loss: 0.4777 - acc: 0.8547 - val_loss: 0.4473 - val_acc: 0.8608\n",
            "Epoch 11/20\n",
            "60000/60000 [==============================] - 8s 126us/sample - loss: 0.4502 - acc: 0.8639 - val_loss: 0.4733 - val_acc: 0.8616\n",
            "Epoch 12/20\n",
            "60000/60000 [==============================] - 8s 126us/sample - loss: 0.4503 - acc: 0.8636 - val_loss: 0.4591 - val_acc: 0.8630\n",
            "Epoch 13/20\n",
            "60000/60000 [==============================] - 8s 125us/sample - loss: 0.4532 - acc: 0.8640 - val_loss: 0.4690 - val_acc: 0.8518\n",
            "Epoch 14/20\n",
            "60000/60000 [==============================] - 8s 126us/sample - loss: 0.4177 - acc: 0.8677 - val_loss: 0.4493 - val_acc: 0.8574\n",
            "Epoch 15/20\n",
            "60000/60000 [==============================] - 8s 126us/sample - loss: 0.4330 - acc: 0.8660 - val_loss: 0.4549 - val_acc: 0.8705\n",
            "Epoch 16/20\n",
            "60000/60000 [==============================] - 8s 125us/sample - loss: 0.4181 - acc: 0.8757 - val_loss: 0.4285 - val_acc: 0.8704\n",
            "Epoch 17/20\n",
            "60000/60000 [==============================] - 8s 125us/sample - loss: 0.4072 - acc: 0.8736 - val_loss: 0.4146 - val_acc: 0.8715\n",
            "Epoch 18/20\n",
            "60000/60000 [==============================] - 7s 125us/sample - loss: 0.4214 - acc: 0.8685 - val_loss: 0.4203 - val_acc: 0.8647\n",
            "Epoch 19/20\n",
            "60000/60000 [==============================] - 7s 125us/sample - loss: 0.4031 - acc: 0.8740 - val_loss: 0.4097 - val_acc: 0.8722\n",
            "Epoch 20/20\n",
            "60000/60000 [==============================] - 8s 126us/sample - loss: 0.4135 - acc: 0.8714 - val_loss: 0.4374 - val_acc: 0.8594\n"
          ],
          "name": "stdout"
        },
        {
          "output_type": "execute_result",
          "data": {
            "text/plain": [
              "<tensorflow.python.keras.callbacks.History at 0x7fef7aa5b0f0>"
            ]
          },
          "metadata": {
            "tags": []
          },
          "execution_count": 26
        }
      ]
    },
    {
      "cell_type": "markdown",
      "metadata": {
        "id": "-V89EfIYub5K",
        "colab_type": "text"
      },
      "source": [
        "Epochs 10 & batch size 35 gave me validation accuracy of 83%. \n",
        "Increase in Epoch to 20 has further improved the accuracy to 87%. Though i am not allowed to play with the hidden layers and neurons to improve the accuracy further."
      ]
    },
    {
      "cell_type": "markdown",
      "metadata": {
        "colab_type": "text",
        "id": "8KXqmUDW2rM1"
      },
      "source": [
        "## **DATA AUGMENTATION ON CIFAR10 DATASET**"
      ]
    },
    {
      "cell_type": "markdown",
      "metadata": {
        "colab_type": "text",
        "id": "8mja6OgQ3L18"
      },
      "source": [
        "One of the best ways to improve the performance of a Deep Learning model is to add more data to the training set. Aside from gathering more instances from the wild that are representative of the distinction task, we want to develop a set of methods that enhance the data we already have. There are many ways to augment existing datasets and produce more robust models. In the image domain, these are done to utilize the full power of the convolutional neural network, which is able to capture translational invariance. This translational invariance is what makes image recognition such a difficult task in the first place. You want the dataset to be representative of the many different positions, angles, lightings, and miscellaneous distortions that are of interest to the vision task."
      ]
    },
    {
      "cell_type": "markdown",
      "metadata": {
        "colab_type": "text",
        "id": "6HzVTPUM3WZJ"
      },
      "source": [
        "### **Import neessary libraries for data augmentation**"
      ]
    },
    {
      "cell_type": "code",
      "metadata": {
        "colab_type": "code",
        "id": "PPM558TX4KMb",
        "colab": {}
      },
      "source": [
        "from keras.preprocessing.image import ImageDataGenerator"
      ],
      "execution_count": 0,
      "outputs": []
    },
    {
      "cell_type": "markdown",
      "metadata": {
        "colab_type": "text",
        "id": "W6hicLwP4SqY"
      },
      "source": [
        "### **Load CIFAR10 dataset**"
      ]
    },
    {
      "cell_type": "code",
      "metadata": {
        "colab_type": "code",
        "id": "NQ1WzrXd4WNk",
        "colab": {}
      },
      "source": [
        "(X_train, Y_train),(X_test,Y_test) = tf.keras.datasets.cifar10.load_data()"
      ],
      "execution_count": 0,
      "outputs": []
    },
    {
      "cell_type": "code",
      "metadata": {
        "id": "JfwuOzK52oKj",
        "colab_type": "code",
        "outputId": "7c31ef83-6612-4633-a53d-9f67f236fb1c",
        "colab": {
          "base_uri": "https://localhost:8080/",
          "height": 34
        }
      },
      "source": [
        "X_train.shape"
      ],
      "execution_count": 0,
      "outputs": [
        {
          "output_type": "execute_result",
          "data": {
            "text/plain": [
              "(50000, 32, 32, 3)"
            ]
          },
          "metadata": {
            "tags": []
          },
          "execution_count": 64
        }
      ]
    },
    {
      "cell_type": "code",
      "metadata": {
        "colab_type": "code",
        "id": "R9Pht1ggHuiT",
        "colab": {}
      },
      "source": [
        "# Coverting labels to one hot vector\n",
        "Y_train = tf.keras.utils.to_categorical(Y_train, num_classes=10)\n",
        "Y_test = tf.keras.utils.to_categorical(Y_test, num_classes=10)"
      ],
      "execution_count": 0,
      "outputs": []
    },
    {
      "cell_type": "markdown",
      "metadata": {
        "colab_type": "text",
        "id": "JN3vYYhK4W0u"
      },
      "source": [
        "### **Create a data_gen funtion to genererator with image rotation,shifting image horizontally and vertically with random flip horizontally.**"
      ]
    },
    {
      "cell_type": "code",
      "metadata": {
        "colab_type": "code",
        "id": "JJbekTKi4cmM",
        "colab": {}
      },
      "source": [
        "datagen = ImageDataGenerator(\n",
        "    featurewise_center=False,  # set input mean to 0 over the dataset\n",
        "    samplewise_center=False,  # set each sample mean to 0\n",
        "    featurewise_std_normalization=False,  # divide inputs by std of the dataset\n",
        "    samplewise_std_normalization=False,  # divide each input by its std\n",
        "    zca_whitening=False,  # apply ZCA whitening\n",
        "    rotation_range=50,  # randomly rotate images in the range (degrees, 0 to 180)\n",
        "    width_shift_range=0.1,  # randomly shift images horizontally (fraction of total width)\n",
        "    height_shift_range=0.1,  # randomly shift images vertically (fraction of total height)\n",
        "    horizontal_flip=True,  # randomly flip images horizantally\n",
        "    vertical_flip=False)  # randomly flip images"
      ],
      "execution_count": 0,
      "outputs": []
    },
    {
      "cell_type": "markdown",
      "metadata": {
        "colab_type": "text",
        "id": "e-SLtUhC4dK2"
      },
      "source": [
        "### **Prepare/fit the generator.**"
      ]
    },
    {
      "cell_type": "code",
      "metadata": {
        "colab_type": "code",
        "id": "CSw8Bv2_4hb0",
        "colab": {}
      },
      "source": [
        "datagen.fit(X_train)"
      ],
      "execution_count": 0,
      "outputs": []
    },
    {
      "cell_type": "code",
      "metadata": {
        "id": "5E10arbQ4R2L",
        "colab_type": "code",
        "outputId": "6da5ecd9-9ee4-4386-c5ab-fa9a80ccadd1",
        "colab": {
          "base_uri": "https://localhost:8080/",
          "height": 34
        }
      },
      "source": [
        "X_train.shape"
      ],
      "execution_count": 0,
      "outputs": [
        {
          "output_type": "execute_result",
          "data": {
            "text/plain": [
              "(50000, 32, 32, 3)"
            ]
          },
          "metadata": {
            "tags": []
          },
          "execution_count": 77
        }
      ]
    },
    {
      "cell_type": "markdown",
      "metadata": {
        "colab_type": "text",
        "id": "gYyF-P8O4jQ8"
      },
      "source": [
        "### **Generate 5 images for 1 of the image of CIFAR10 train dataset.**"
      ]
    },
    {
      "cell_type": "code",
      "metadata": {
        "colab_type": "code",
        "id": "mXug4z234mwQ",
        "colab": {}
      },
      "source": [
        "from matplotlib import pyplot as plt"
      ],
      "execution_count": 0,
      "outputs": []
    },
    {
      "cell_type": "code",
      "metadata": {
        "id": "1ExJt2FQi1p9",
        "colab_type": "code",
        "outputId": "01f02ca0-758a-4ad3-a263-404cb57aa7d3",
        "colab": {
          "base_uri": "https://localhost:8080/",
          "height": 214
        }
      },
      "source": [
        "gen = datagen.flow(X_train[0:1], batch_size=1)\n",
        "for i in range(1, 6):\n",
        "    plt.subplot(1,5,i)\n",
        "    plt.axis(\"off\")\n",
        "    plt.imshow(gen.next().squeeze(), cmap='gray')\n",
        "    plt.plot()\n",
        "plt.show()"
      ],
      "execution_count": 0,
      "outputs": [
        {
          "output_type": "stream",
          "text": [
            "W0615 06:47:53.454629 140667683145600 image.py:648] Clipping input data to the valid range for imshow with RGB data ([0..1] for floats or [0..255] for integers).\n",
            "W0615 06:47:53.471518 140667683145600 image.py:648] Clipping input data to the valid range for imshow with RGB data ([0..1] for floats or [0..255] for integers).\n",
            "W0615 06:47:53.487818 140667683145600 image.py:648] Clipping input data to the valid range for imshow with RGB data ([0..1] for floats or [0..255] for integers).\n",
            "W0615 06:47:53.502156 140667683145600 image.py:648] Clipping input data to the valid range for imshow with RGB data ([0..1] for floats or [0..255] for integers).\n",
            "W0615 06:47:53.516501 140667683145600 image.py:648] Clipping input data to the valid range for imshow with RGB data ([0..1] for floats or [0..255] for integers).\n"
          ],
          "name": "stderr"
        },
        {
          "output_type": "display_data",
          "data": {
            "image/png": "[encoded data removed]",
            "text/plain": [
              "<Figure size 432x288 with 5 Axes>"
            ]
          },
          "metadata": {
            "tags": []
          }
        }
      ]
    },
    {
      "cell_type": "code",
      "metadata": {
        "id": "QxVKSxeBi1p_",
        "colab_type": "code",
        "colab": {}
      },
      "source": [
        "#Running the model again\n",
        "model1 = tf.keras.models.Sequential()\n",
        "model1.add(tf.keras.layers.Reshape((3072,),input_shape=(32,32,3)))\n",
        "model1.add(tf.keras.layers.BatchNormalization())"
      ],
      "execution_count": 0,
      "outputs": []
    },
    {
      "cell_type": "code",
      "metadata": {
        "id": "AI2WGKC-i1qD",
        "colab_type": "code",
        "colab": {}
      },
      "source": [
        "model1.add(tf.keras.layers.Dense(200, activation = 'relu'))\n",
        "model1.add(tf.keras.layers.Dropout(0.25))\n",
        "model1.add(tf.keras.layers.Dense(100, activation='relu'))"
      ],
      "execution_count": 0,
      "outputs": []
    },
    {
      "cell_type": "code",
      "metadata": {
        "id": "qdwF-uvAi1qJ",
        "colab_type": "code",
        "colab": {}
      },
      "source": [
        "model1.add(tf.keras.layers.Dense(10, activation = 'relu'))\n",
        "model1.compile(optimizer=\"adam\",loss='categorical_crossentropy',metrics=['accuracy'])"
      ],
      "execution_count": 0,
      "outputs": []
    },
    {
      "cell_type": "code",
      "metadata": {
        "id": "4X-f4kzwi1qO",
        "colab_type": "code",
        "outputId": "7ec3fca3-afd1-49aa-9120-f22d3569acc5",
        "colab": {
          "base_uri": "https://localhost:8080/",
          "height": 731
        }
      },
      "source": [
        "model1.fit(X_train,Y_train,\n",
        "         validation_data = (X_test, Y_test),\n",
        "         epochs = 20,\n",
        "         batch_size = 32)"
      ],
      "execution_count": 0,
      "outputs": [
        {
          "output_type": "stream",
          "text": [
            "Train on 50000 samples, validate on 10000 samples\n",
            "Epoch 1/20\n",
            "50000/50000 [==============================] - 7s 148us/sample - loss: 2.2106 - acc: 0.2575 - val_loss: 1.9751 - val_acc: 0.3061\n",
            "Epoch 2/20\n",
            "50000/50000 [==============================] - 7s 141us/sample - loss: 2.0275 - acc: 0.2756 - val_loss: 2.0067 - val_acc: 0.2626\n",
            "Epoch 3/20\n",
            "50000/50000 [==============================] - 7s 144us/sample - loss: 1.9831 - acc: 0.3120 - val_loss: 2.0605 - val_acc: 0.2525\n",
            "Epoch 4/20\n",
            "50000/50000 [==============================] - 7s 142us/sample - loss: 1.9921 - acc: 0.2964 - val_loss: 1.8760 - val_acc: 0.3633\n",
            "Epoch 5/20\n",
            "50000/50000 [==============================] - 7s 143us/sample - loss: 1.9360 - acc: 0.3365 - val_loss: 1.8231 - val_acc: 0.3739\n",
            "Epoch 6/20\n",
            "50000/50000 [==============================] - 7s 141us/sample - loss: 1.8653 - acc: 0.3550 - val_loss: 1.7710 - val_acc: 0.3984\n",
            "Epoch 7/20\n",
            "50000/50000 [==============================] - 7s 140us/sample - loss: 1.8381 - acc: 0.3609 - val_loss: 1.7363 - val_acc: 0.4047\n",
            "Epoch 8/20\n",
            "50000/50000 [==============================] - 7s 141us/sample - loss: 1.8002 - acc: 0.3735 - val_loss: 1.8742 - val_acc: 0.3701\n",
            "Epoch 9/20\n",
            "50000/50000 [==============================] - 7s 141us/sample - loss: 1.7793 - acc: 0.3875 - val_loss: 1.6638 - val_acc: 0.4258\n",
            "Epoch 10/20\n",
            "50000/50000 [==============================] - 7s 141us/sample - loss: 1.7308 - acc: 0.4002 - val_loss: 1.6225 - val_acc: 0.4383\n",
            "Epoch 11/20\n",
            "50000/50000 [==============================] - 7s 141us/sample - loss: 1.7009 - acc: 0.4129 - val_loss: 1.6185 - val_acc: 0.4455\n",
            "Epoch 12/20\n",
            "50000/50000 [==============================] - 7s 141us/sample - loss: 1.6863 - acc: 0.4201 - val_loss: 1.6342 - val_acc: 0.4516\n",
            "Epoch 13/20\n",
            "50000/50000 [==============================] - 7s 142us/sample - loss: 1.6768 - acc: 0.4233 - val_loss: 1.5886 - val_acc: 0.4565\n",
            "Epoch 14/20\n",
            "50000/50000 [==============================] - 7s 142us/sample - loss: 1.6593 - acc: 0.4325 - val_loss: 1.6137 - val_acc: 0.4552\n",
            "Epoch 15/20\n",
            "50000/50000 [==============================] - 7s 142us/sample - loss: 1.6362 - acc: 0.4364 - val_loss: 1.5627 - val_acc: 0.4683\n",
            "Epoch 16/20\n",
            "50000/50000 [==============================] - 7s 140us/sample - loss: 1.6290 - acc: 0.4389 - val_loss: 1.5664 - val_acc: 0.4633\n",
            "Epoch 17/20\n",
            "50000/50000 [==============================] - 7s 141us/sample - loss: 1.6398 - acc: 0.4314 - val_loss: 1.5931 - val_acc: 0.4577\n",
            "Epoch 18/20\n",
            "50000/50000 [==============================] - 7s 140us/sample - loss: 1.6166 - acc: 0.4406 - val_loss: 1.5629 - val_acc: 0.4666\n",
            "Epoch 19/20\n",
            "50000/50000 [==============================] - 7s 140us/sample - loss: 1.6159 - acc: 0.4403 - val_loss: 1.5657 - val_acc: 0.4712\n",
            "Epoch 20/20\n",
            "50000/50000 [==============================] - 7s 140us/sample - loss: 1.6023 - acc: 0.4444 - val_loss: 1.5392 - val_acc: 0.4764\n"
          ],
          "name": "stdout"
        },
        {
          "output_type": "execute_result",
          "data": {
            "text/plain": [
              "<tensorflow.python.keras.callbacks.History at 0x7fef11fc7668>"
            ]
          },
          "metadata": {
            "tags": []
          },
          "execution_count": 83
        }
      ]
    },
    {
      "cell_type": "code",
      "metadata": {
        "id": "aPnRxj8si1qT",
        "colab_type": "code",
        "colab": {}
      },
      "source": [
        ""
      ],
      "execution_count": 0,
      "outputs": []
    }
  ]
}