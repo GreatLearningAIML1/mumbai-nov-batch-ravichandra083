{
 "cells": [
  {
   "cell_type": "markdown",
   "metadata": {
    "colab_type": "text",
    "id": "IgJNvpw9SnZq"
   },
   "source": [
    "#### In this problem we use \"Transfer Learning\" of an Object Detector model to detect any object according to the problem in hand.\n",
    "\n",
    "Here, We are particularly interested in detecting faces in a given image.\n",
    "\n",
    "#### To use the model first, we need to import the model and its supporting files for the model to function. \n",
    "\n",
    "We see the below steps to import the model."
   ]
  },
  {
   "cell_type": "markdown",
   "metadata": {
    "colab_type": "text",
    "id": "HtnH8CujQfxM"
   },
   "source": [
    "### Import MobileNet model given in file `mn_model.py`"
   ]
  },
  {
   "cell_type": "code",
   "execution_count": 0,
   "metadata": {
    "colab": {},
    "colab_type": "code",
    "id": "9jxgJufmuAD8"
   },
   "outputs": [],
   "source": [
    "import warnings\n",
    "warnings.filterwarnings(\"ignore\")"
   ]
  },
  {
   "cell_type": "code",
   "execution_count": 2,
   "metadata": {
    "colab": {
     "base_uri": "https://localhost:8080/",
     "height": 122
    },
    "colab_type": "code",
    "executionInfo": {
     "elapsed": 23478,
     "status": "ok",
     "timestamp": 1566627747908,
     "user": {
      "displayName": "kiran amuda",
      "photoUrl": "",
      "userId": "12629111601310051395"
     },
     "user_tz": -330
    },
    "id": "M0uVjWKSrG1j",
    "outputId": "9ff1a255-3dbb-4e15-ed7f-b1dfeb42df7d"
   },
   "outputs": [
    {
     "name": "stdout",
     "output_type": "stream",
     "text": [
      "Go to this URL in a browser: https://accounts.google.com/o/oauth2/auth?client_id=947318989803-6bn6qk8qdgf4n4g3pfee6491hc0brc4i.apps.googleusercontent.com&redirect_uri=urn%3Aietf%3Awg%3Aoauth%3A2.0%3Aoob&scope=email%20https%3A%2F%2Fwww.googleapis.com%2Fauth%2Fdocs.test%20https%3A%2F%2Fwww.googleapis.com%2Fauth%2Fdrive%20https%3A%2F%2Fwww.googleapis.com%2Fauth%2Fdrive.photos.readonly%20https%3A%2F%2Fwww.googleapis.com%2Fauth%2Fpeopleapi.readonly&response_type=code\n",
      "\n",
      "Enter your authorization code:\n",
      "··········\n",
      "Mounted at /content/drive\n"
     ]
    }
   ],
   "source": [
    "from google.colab import drive\n",
    "drive.mount('/content/drive')\n",
    "\n"
   ]
  },
  {
   "cell_type": "code",
   "execution_count": 0,
   "metadata": {
    "colab": {},
    "colab_type": "code",
    "id": "KM1QVQ2pduPE"
   },
   "outputs": [],
   "source": [
    "project_path='/content/drive/My Drive/Computer Vision/ACN/'\n",
    "\n",
    "import sys\n",
    "sys.path.append(project_path)"
   ]
  },
  {
   "cell_type": "code",
   "execution_count": 3,
   "metadata": {
    "colab": {
     "base_uri": "https://localhost:8080/",
     "height": 34
    },
    "colab_type": "code",
    "executionInfo": {
     "elapsed": 2468,
     "status": "ok",
     "timestamp": 1566631821005,
     "user": {
      "displayName": "kiran amuda",
      "photoUrl": "",
      "userId": "12629111601310051395"
     },
     "user_tz": -330
    },
    "id": "FtnDz1qkQESM",
    "outputId": "d1de0ef9-e991-4beb-fce8-02984063b3f7"
   },
   "outputs": [
    {
     "name": "stderr",
     "output_type": "stream",
     "text": [
      "Using TensorFlow backend.\n"
     ]
    }
   ],
   "source": [
    "### Import MobileNet model given in file `mn_model.py`\n",
    "from mn_model import mn_model"
   ]
  },
  {
   "cell_type": "markdown",
   "metadata": {
    "colab_type": "text",
    "id": "dwNy4u8zQk1H"
   },
   "source": [
    "### Import the BatchGenerator and SSDLoss functions in given files `face_generator.py`, `keras_ssd_loss` and `ssd_box_encode_decode_utils.py` as well, used in MobileNet model"
   ]
  },
  {
   "cell_type": "code",
   "execution_count": 0,
   "metadata": {
    "colab": {},
    "colab_type": "code",
    "id": "3gVMOicwQlg_"
   },
   "outputs": [],
   "source": [
    "#### Import the BatchGenerator and SSDLoss functions as well, used in MobileNet model\n",
    "\n",
    "from face_generator import BatchGenerator\n",
    "from keras_ssd_loss import SSDLoss\n",
    "from ssd_box_encode_decode_utils import SSDBoxEncoder, decode_y, decode_y2"
   ]
  },
  {
   "cell_type": "code",
   "execution_count": 0,
   "metadata": {
    "colab": {},
    "colab_type": "code",
    "id": "tkzbMq9UeuCM"
   },
   "outputs": [],
   "source": [
    "\n",
    "import warnings\n",
    "warnings.filterwarnings(\"ignore\")\n",
    "\n",
    "from keras.optimizers import Adam, SGD, Nadam\n",
    "from keras.callbacks import ModelCheckpoint, EarlyStopping, ReduceLROnPlateau, TensorBoard, LearningRateScheduler\n",
    "from keras.callbacks import Callback\n",
    "from keras import backend as K \n",
    "from keras.models import load_model\n",
    "from math import ceil \n",
    "import numpy as np \n",
    "from termcolor import colored\n",
    "\n",
    "from mn_model import mn_model\n",
    "from face_generator import BatchGenerator\n",
    "from keras_ssd_loss import SSDLoss\n",
    "from ssd_box_encode_decode_utils import SSDBoxEncoder, decode_y, decode_y2\n",
    "\n",
    "# training parameters\n",
    "from keras import backend as K\n",
    "import scipy.misc as sm\n"
   ]
  },
  {
   "cell_type": "markdown",
   "metadata": {
    "colab_type": "text",
    "id": "UqyWOSGJRB18"
   },
   "source": [
    "## Set the parameters for the model\n",
    "\n",
    "#### We need to customize the model parameters according to our problem as given below.\n",
    "\n",
    "#### Set n_classes (no.of classes) = 2, as we are interested in only face detection. \n",
    "#### `Face` will be one class and everything else comes under other class (we can call it as `background`)\n",
    "\n",
    "#### Set class_names = [\"background\", \"face\"]"
   ]
  },
  {
   "cell_type": "code",
   "execution_count": 0,
   "metadata": {
    "colab": {},
    "colab_type": "code",
    "id": "bcoBM5wlfHgZ"
   },
   "outputs": [],
   "source": [
    "img_height =512\n",
    "img_width = 512\n",
    "\n",
    "img_channels = 3\n",
    "\n",
    "n_classes =2 \n",
    "class_names = [\"background\",\"face\"]\n",
    "\n",
    "scales = [0.07, 0.15, 0.33, 0.51, 0.69, 0.87, 1.05] # anchorboxes for coco dataset\n",
    "aspect_ratios = [[0.5, 1.0, 2.0],\n",
    "                 [1.0/3.0, 0.5, 1.0, 2.0, 3.0],\n",
    "                 [1.0/3.0, 0.5, 1.0, 2.0, 3.0],\n",
    "                 [1.0/3.0, 0.5, 1.0, 2.0, 3.0],\n",
    "                 [0.5, 1.0, 2.0],\n",
    "                 [0.5, 1.0, 2.0]] # The anchor box aspect ratios used in the original SSD300\n",
    "two_boxes_for_ar1 = True\n",
    "limit_boxes = True # Whether or not you want to limit the anchor boxes to lie entirely within the image boundaries\n",
    "variances = [0.1, 0.1, 0.2, 0.2] # The variances by which the encoded target coordinates are scaled as in the original implementation\n",
    "coords = 'centroids' # Whether the box coordinates to be used as targets for the model should be in the 'centroids' or 'minmax' format, see documentation\n",
    "normalize_coords = True\n",
    "\n",
    "det_model_path = \"./\""
   ]
  },
  {
   "cell_type": "markdown",
   "metadata": {
    "colab_type": "text",
    "id": "z7vX1GJjTg0v"
   },
   "source": [
    "### Now, we have imported the model and its dependencies. The next thing is to import the dataset for the model to train on. For this, we are using the WIDER FACE dataset. \n",
    "\n",
    "#### To make the dataset available follow the steps given below.\n",
    "\n",
    "\n",
    "1. Create a folder in your google drive for this project. \n",
    "\n",
    "2. Download the train and test dataset files given in .zip format into your drive folder you created for the project in step-1.\n",
    "\n",
    "3. Set the project path variable according to the folders you created to use for this project in your google drive. \n",
    "\n",
    "      `project_path = \"/content/drive/My Drive/DLCP/\"`\n",
    "\n",
    "4. Now, as we mount the drive the images will be available to use for training and testing but in zip format.\n",
    "\n",
    "5. So, lets extract the images from the zipfiles by using the code given of zipfile module.\n",
    "\n",
    "\n",
    "\n",
    "\n",
    "\n"
   ]
  },
  {
   "cell_type": "code",
   "execution_count": 0,
   "metadata": {
    "colab": {},
    "colab_type": "code",
    "id": "F-pOMEK8pCPS"
   },
   "outputs": [],
   "source": [
    "train_images_path = project_path + 'WIDER_train.zip'\n",
    "test_images_path = project_path + 'WIDER_val.zip'"
   ]
  },
  {
   "cell_type": "code",
   "execution_count": 0,
   "metadata": {
    "colab": {},
    "colab_type": "code",
    "id": "5uIDTr5ApCR7"
   },
   "outputs": [],
   "source": [
    "import zipfile\n",
    "archive = zipfile.ZipFile(train_images_path, 'r')\n",
    "archive.extractall()"
   ]
  },
  {
   "cell_type": "code",
   "execution_count": 0,
   "metadata": {
    "colab": {},
    "colab_type": "code",
    "id": "BhqDPEEfpCUr"
   },
   "outputs": [],
   "source": [
    "archive = zipfile.ZipFile(test_images_path, 'r')\n",
    "archive.extractall()"
   ]
  },
  {
   "cell_type": "markdown",
   "metadata": {
    "colab_type": "text",
    "id": "-iCibT8AYiJ7"
   },
   "source": [
    "### Now, the images are available. The next thing we need is to get the labels for these images, so that we can use this information while training for detecting faces with the given model using transfer learning. \n",
    "\n",
    "#### Follow the below steps to get those labels available.\n",
    "\n",
    "\n",
    "Load the  '' `wider_train_small.npy`'' file given to check the information given about the dataset. In this file you can see the information about each image in the dataset in a list with following elemets:\n",
    "      \n",
    "\n",
    "        1.   Image filename (str)\n",
    "        2.   Image filename (str)\n",
    "        3.   Image size (list) [height, width]\n",
    "        4.   List of bounding box co-ordinates and Class label (list) [[a,b,c,d], Class label, ...]\n",
    "        \n",
    "        where,\n",
    "        a,b,c,d are the four co-ordinates of the bounding box\n",
    "        Class label is the position of object as mentioned in `class_names` list above."
   ]
  },
  {
   "cell_type": "markdown",
   "metadata": {
    "colab_type": "text",
    "id": "SJHPFpr3YEt1"
   },
   "source": [
    "### Handle the below error using below snippet\n",
    "\"Object arrays cannot be loaded when allow_pickle=False\""
   ]
  },
  {
   "cell_type": "code",
   "execution_count": 0,
   "metadata": {
    "colab": {},
    "colab_type": "code",
    "id": "rZhWQfaVa7ZM"
   },
   "outputs": [],
   "source": [
    "np.load.__defaults__=(None, True, True, 'ASCII')"
   ]
  },
  {
   "cell_type": "code",
   "execution_count": 0,
   "metadata": {
    "colab": {},
    "colab_type": "code",
    "id": "nub3I0LPmlfk"
   },
   "outputs": [],
   "source": [
    "data = np.load(project_path +'wider_train_small.npy').item()"
   ]
  },
  {
   "cell_type": "code",
   "execution_count": 11,
   "metadata": {
    "colab": {
     "base_uri": "https://localhost:8080/",
     "height": 71
    },
    "colab_type": "code",
    "executionInfo": {
     "elapsed": 1267,
     "status": "ok",
     "timestamp": 1566631865392,
     "user": {
      "displayName": "kiran amuda",
      "photoUrl": "",
      "userId": "12629111601310051395"
     },
     "user_tz": -330
    },
    "id": "Q2Fd8RY3pCJS",
    "outputId": "fbbe3e71-62f5-45e4-e570-c92a313532eb"
   },
   "outputs": [
    {
     "name": "stdout",
     "output_type": "stream",
     "text": [
      "52--Photographers/52_Photographers_photographertakingphoto_52_582.jpg\n",
      "['WIDER_train/images/52--Photographers/52_Photographers_photographertakingphoto_52_582.jpg', 'WIDER_train/images/52--Photographers/52_Photographers_photographertakingphoto_52_582.jpg', [300, 300], [[21, 667, 9, 655], 1]]\n"
     ]
    }
   ],
   "source": [
    "### Printed first element to check the above given information.\n",
    "\n",
    "for key in data:\n",
    "    print key\n",
    "    print data[key]\n",
    "    break"
   ]
  },
  {
   "cell_type": "markdown",
   "metadata": {
    "colab_type": "text",
    "id": "vlTpXziHZwws"
   },
   "source": [
    " As we can see from the above output all the information mentioned above is there for all the images."
   ]
  },
  {
   "cell_type": "markdown",
   "metadata": {
    "colab_type": "text",
    "id": "m2NBAZGqaec9"
   },
   "source": [
    "### Now, load the files `wider_trian.npy` and `wider_val.npy`"
   ]
  },
  {
   "cell_type": "code",
   "execution_count": 0,
   "metadata": {
    "colab": {},
    "colab_type": "code",
    "id": "_kfX49vXas4f"
   },
   "outputs": [],
   "source": [
    "train_data = project_path + 'wider_train_small.npy'\n",
    "test_data = project_path + 'wider_val_small.npy'\n",
    "\n",
    "x = np.load(train_data)"
   ]
  },
  {
   "cell_type": "code",
   "execution_count": 0,
   "metadata": {
    "colab": {},
    "colab_type": "code",
    "id": "UuPzT2kqbHOF"
   },
   "outputs": [],
   "source": [
    "#np.load.__defaults__=(None, False, True, 'ASCII')"
   ]
  },
  {
   "cell_type": "markdown",
   "metadata": {
    "colab_type": "text",
    "id": "v2KdmbvGblC3"
   },
   "source": [
    "### Now, call the imported model with the given parameters and freeze all the layers in the model with names not having ''`detection`'' word as prefix.\n",
    "\n",
    "As we are not training the model from scratch, we are freezing all the above layers in the model having only last few layers while training to update their weights according to the problem in hand. This is called as **Transfer Learning**."
   ]
  },
  {
   "cell_type": "code",
   "execution_count": 16,
   "metadata": {
    "colab": {
     "base_uri": "https://localhost:8080/",
     "height": 292
    },
    "colab_type": "code",
    "executionInfo": {
     "elapsed": 6892,
     "status": "ok",
     "timestamp": 1566631923729,
     "user": {
      "displayName": "kiran amuda",
      "photoUrl": "",
      "userId": "12629111601310051395"
     },
     "user_tz": -330
    },
    "id": "cHwplT2ggR-1",
    "outputId": "fb0440b1-cc03-4d8b-e83e-5aebc67bfbb5"
   },
   "outputs": [
    {
     "name": "stderr",
     "output_type": "stream",
     "text": [
      "WARNING: Logging before flag parsing goes to stderr.\n",
      "W0824 07:31:57.022378 140427428218752 deprecation_wrapper.py:119] From /usr/local/lib/python2.7/dist-packages/keras/backend/tensorflow_backend.py:95: The name tf.reset_default_graph is deprecated. Please use tf.compat.v1.reset_default_graph instead.\n",
      "\n",
      "W0824 07:31:57.023837 140427428218752 deprecation_wrapper.py:119] From /usr/local/lib/python2.7/dist-packages/keras/backend/tensorflow_backend.py:98: The name tf.placeholder_with_default is deprecated. Please use tf.compat.v1.placeholder_with_default instead.\n",
      "\n",
      "W0824 07:31:57.038124 140427428218752 deprecation_wrapper.py:119] From /usr/local/lib/python2.7/dist-packages/keras/backend/tensorflow_backend.py:102: The name tf.get_default_graph is deprecated. Please use tf.compat.v1.get_default_graph instead.\n",
      "\n",
      "W0824 07:31:57.039498 140427428218752 deprecation_wrapper.py:119] From /usr/local/lib/python2.7/dist-packages/keras/backend/tensorflow_backend.py:517: The name tf.placeholder is deprecated. Please use tf.compat.v1.placeholder instead.\n",
      "\n",
      "W0824 07:31:57.044203 140427428218752 deprecation_wrapper.py:119] From /usr/local/lib/python2.7/dist-packages/keras/backend/tensorflow_backend.py:4138: The name tf.random_uniform is deprecated. Please use tf.random.uniform instead.\n",
      "\n"
     ]
    },
    {
     "name": "stdout",
     "output_type": "stream",
     "text": [
      "====> Model Specific data\n",
      "====> Height, Width, Channels : 512 512 3\n"
     ]
    },
    {
     "name": "stderr",
     "output_type": "stream",
     "text": [
      "W0824 07:31:57.757567 140427428218752 deprecation_wrapper.py:119] From /usr/local/lib/python2.7/dist-packages/keras/backend/tensorflow_backend.py:1834: The name tf.nn.fused_batch_norm is deprecated. Please use tf.compat.v1.nn.fused_batch_norm instead.\n",
      "\n"
     ]
    }
   ],
   "source": [
    "# build the keras model\n",
    "# this model is not retrained, we are doing it from scratch \n",
    "\n",
    "K.clear_session()\n",
    "model, model_layer, img_input, predictor_sizes = mn_model(image_size=(img_height, img_width, img_channels), \n",
    "                                                                      n_classes = n_classes,\n",
    "                                                                      min_scale = None, \n",
    "                                                                      max_scale = None, \n",
    "                                                                      scales = scales, \n",
    "                                                                      aspect_ratios_global = None, \n",
    "                                                                      aspect_ratios_per_layer = aspect_ratios, \n",
    "                                                                      two_boxes_for_ar1= two_boxes_for_ar1, \n",
    "                                                                      limit_boxes=limit_boxes, \n",
    "                                                                      variances= variances, \n",
    "                                                                      coords=coords, \n",
    "                                                                      normalize_coords=normalize_coords)"
   ]
  },
  {
   "cell_type": "markdown",
   "metadata": {
    "colab_type": "text",
    "id": "FfC4yNb_uCdT"
   },
   "source": [
    "#### Write code to freeze all the layers in the above model with names not having ''`detection`'' word as prefix."
   ]
  },
  {
   "cell_type": "code",
   "execution_count": 17,
   "metadata": {
    "colab": {
     "base_uri": "https://localhost:8080/",
     "height": 1000
    },
    "colab_type": "code",
    "executionInfo": {
     "elapsed": 1374,
     "status": "ok",
     "timestamp": 1566631928544,
     "user": {
      "displayName": "kiran amuda",
      "photoUrl": "",
      "userId": "12629111601310051395"
     },
     "user_tz": -330
    },
    "id": "snOulB0wt7_t",
    "outputId": "d39ec457-f560-4d3c-830a-498ceda801f8"
   },
   "outputs": [
    {
     "name": "stdout",
     "output_type": "stream",
     "text": [
      "__________________________________________________________________________________________________\n",
      "Layer (type)                    Output Shape         Param #     Connected to                     \n",
      "==================================================================================================\n",
      "input_1 (InputLayer)            (None, 512, 512, 3)  0                                            \n",
      "__________________________________________________________________________________________________\n",
      "lambda1 (Lambda)                (None, 512, 512, 3)  0           input_1[0][0]                    \n",
      "__________________________________________________________________________________________________\n",
      "lambda2 (Lambda)                (None, 512, 512, 3)  0           lambda1[0][0]                    \n",
      "__________________________________________________________________________________________________\n",
      "lambda3 (Lambda)                (None, 512, 512, 3)  0           lambda2[0][0]                    \n",
      "__________________________________________________________________________________________________\n",
      "conv1 (Conv2D)                  (None, 256, 256, 32) 864         lambda3[0][0]                    \n",
      "__________________________________________________________________________________________________\n",
      "conv1_bn (BatchNormalization)   (None, 256, 256, 32) 128         conv1[0][0]                      \n",
      "__________________________________________________________________________________________________\n",
      "conv1_relu (Activation)         (None, 256, 256, 32) 0           conv1_bn[0][0]                   \n",
      "__________________________________________________________________________________________________\n",
      "conv_dw_1 (DepthwiseConv2D)     (None, 256, 256, 32) 288         conv1_relu[0][0]                 \n",
      "__________________________________________________________________________________________________\n",
      "conv_dw_1_bn (BatchNormalizatio (None, 256, 256, 32) 128         conv_dw_1[0][0]                  \n",
      "__________________________________________________________________________________________________\n",
      "conv_dw_1_relu (Activation)     (None, 256, 256, 32) 0           conv_dw_1_bn[0][0]               \n",
      "__________________________________________________________________________________________________\n",
      "conv_pw_1 (Conv2D)              (None, 256, 256, 64) 2048        conv_dw_1_relu[0][0]             \n",
      "__________________________________________________________________________________________________\n",
      "conv_pw_1_bn (BatchNormalizatio (None, 256, 256, 64) 256         conv_pw_1[0][0]                  \n",
      "__________________________________________________________________________________________________\n",
      "conv_pw_1_relu (Activation)     (None, 256, 256, 64) 0           conv_pw_1_bn[0][0]               \n",
      "__________________________________________________________________________________________________\n",
      "conv_dw_2 (DepthwiseConv2D)     (None, 128, 128, 64) 576         conv_pw_1_relu[0][0]             \n",
      "__________________________________________________________________________________________________\n",
      "conv_dw_2_bn (BatchNormalizatio (None, 128, 128, 64) 256         conv_dw_2[0][0]                  \n",
      "__________________________________________________________________________________________________\n",
      "conv_dw_2_relu (Activation)     (None, 128, 128, 64) 0           conv_dw_2_bn[0][0]               \n",
      "__________________________________________________________________________________________________\n",
      "conv_pw_2 (Conv2D)              (None, 128, 128, 128 8192        conv_dw_2_relu[0][0]             \n",
      "__________________________________________________________________________________________________\n",
      "conv_pw_2_bn (BatchNormalizatio (None, 128, 128, 128 512         conv_pw_2[0][0]                  \n",
      "__________________________________________________________________________________________________\n",
      "conv_pw_2_relu (Activation)     (None, 128, 128, 128 0           conv_pw_2_bn[0][0]               \n",
      "__________________________________________________________________________________________________\n",
      "conv_dw_3 (DepthwiseConv2D)     (None, 128, 128, 128 1152        conv_pw_2_relu[0][0]             \n",
      "__________________________________________________________________________________________________\n",
      "conv_dw_3_bn (BatchNormalizatio (None, 128, 128, 128 512         conv_dw_3[0][0]                  \n",
      "__________________________________________________________________________________________________\n",
      "conv_dw_3_relu (Activation)     (None, 128, 128, 128 0           conv_dw_3_bn[0][0]               \n",
      "__________________________________________________________________________________________________\n",
      "conv_pw_3 (Conv2D)              (None, 128, 128, 128 16384       conv_dw_3_relu[0][0]             \n",
      "__________________________________________________________________________________________________\n",
      "conv_pw_3_bn (BatchNormalizatio (None, 128, 128, 128 512         conv_pw_3[0][0]                  \n",
      "__________________________________________________________________________________________________\n",
      "conv_pw_3_relu (Activation)     (None, 128, 128, 128 0           conv_pw_3_bn[0][0]               \n",
      "__________________________________________________________________________________________________\n",
      "conv_dw_4 (DepthwiseConv2D)     (None, 64, 64, 128)  1152        conv_pw_3_relu[0][0]             \n",
      "__________________________________________________________________________________________________\n",
      "conv_dw_4_bn (BatchNormalizatio (None, 64, 64, 128)  512         conv_dw_4[0][0]                  \n",
      "__________________________________________________________________________________________________\n",
      "conv_dw_4_relu (Activation)     (None, 64, 64, 128)  0           conv_dw_4_bn[0][0]               \n",
      "__________________________________________________________________________________________________\n",
      "conv_pw_4 (Conv2D)              (None, 64, 64, 256)  32768       conv_dw_4_relu[0][0]             \n",
      "__________________________________________________________________________________________________\n",
      "conv_pw_4_bn (BatchNormalizatio (None, 64, 64, 256)  1024        conv_pw_4[0][0]                  \n",
      "__________________________________________________________________________________________________\n",
      "conv_pw_4_relu (Activation)     (None, 64, 64, 256)  0           conv_pw_4_bn[0][0]               \n",
      "__________________________________________________________________________________________________\n",
      "conv_dw_5 (DepthwiseConv2D)     (None, 64, 64, 256)  2304        conv_pw_4_relu[0][0]             \n",
      "__________________________________________________________________________________________________\n",
      "conv_dw_5_bn (BatchNormalizatio (None, 64, 64, 256)  1024        conv_dw_5[0][0]                  \n",
      "__________________________________________________________________________________________________\n",
      "conv_dw_5_relu (Activation)     (None, 64, 64, 256)  0           conv_dw_5_bn[0][0]               \n",
      "__________________________________________________________________________________________________\n",
      "conv_pw_5 (Conv2D)              (None, 64, 64, 256)  65536       conv_dw_5_relu[0][0]             \n",
      "__________________________________________________________________________________________________\n",
      "conv_pw_5_bn (BatchNormalizatio (None, 64, 64, 256)  1024        conv_pw_5[0][0]                  \n",
      "__________________________________________________________________________________________________\n",
      "conv_pw_5_relu (Activation)     (None, 64, 64, 256)  0           conv_pw_5_bn[0][0]               \n",
      "__________________________________________________________________________________________________\n",
      "conv_dw_6 (DepthwiseConv2D)     (None, 32, 32, 256)  2304        conv_pw_5_relu[0][0]             \n",
      "__________________________________________________________________________________________________\n",
      "conv_dw_6_bn (BatchNormalizatio (None, 32, 32, 256)  1024        conv_dw_6[0][0]                  \n",
      "__________________________________________________________________________________________________\n",
      "conv_dw_6_relu (Activation)     (None, 32, 32, 256)  0           conv_dw_6_bn[0][0]               \n",
      "__________________________________________________________________________________________________\n",
      "conv_pw_6 (Conv2D)              (None, 32, 32, 512)  131072      conv_dw_6_relu[0][0]             \n",
      "__________________________________________________________________________________________________\n",
      "conv_pw_6_bn (BatchNormalizatio (None, 32, 32, 512)  2048        conv_pw_6[0][0]                  \n",
      "__________________________________________________________________________________________________\n",
      "conv_pw_6_relu (Activation)     (None, 32, 32, 512)  0           conv_pw_6_bn[0][0]               \n",
      "__________________________________________________________________________________________________\n",
      "conv_dw_7 (DepthwiseConv2D)     (None, 32, 32, 512)  4608        conv_pw_6_relu[0][0]             \n",
      "__________________________________________________________________________________________________\n",
      "conv_dw_7_bn (BatchNormalizatio (None, 32, 32, 512)  2048        conv_dw_7[0][0]                  \n",
      "__________________________________________________________________________________________________\n",
      "conv_dw_7_relu (Activation)     (None, 32, 32, 512)  0           conv_dw_7_bn[0][0]               \n",
      "__________________________________________________________________________________________________\n",
      "conv_pw_7 (Conv2D)              (None, 32, 32, 512)  262144      conv_dw_7_relu[0][0]             \n",
      "__________________________________________________________________________________________________\n",
      "conv_pw_7_bn (BatchNormalizatio (None, 32, 32, 512)  2048        conv_pw_7[0][0]                  \n",
      "__________________________________________________________________________________________________\n",
      "conv_pw_7_relu (Activation)     (None, 32, 32, 512)  0           conv_pw_7_bn[0][0]               \n",
      "__________________________________________________________________________________________________\n",
      "conv_dw_8 (DepthwiseConv2D)     (None, 32, 32, 512)  4608        conv_pw_7_relu[0][0]             \n",
      "__________________________________________________________________________________________________\n",
      "conv_dw_8_bn (BatchNormalizatio (None, 32, 32, 512)  2048        conv_dw_8[0][0]                  \n",
      "__________________________________________________________________________________________________\n",
      "conv_dw_8_relu (Activation)     (None, 32, 32, 512)  0           conv_dw_8_bn[0][0]               \n",
      "__________________________________________________________________________________________________\n",
      "conv_pw_8 (Conv2D)              (None, 32, 32, 512)  262144      conv_dw_8_relu[0][0]             \n",
      "__________________________________________________________________________________________________\n",
      "conv_pw_8_bn (BatchNormalizatio (None, 32, 32, 512)  2048        conv_pw_8[0][0]                  \n",
      "__________________________________________________________________________________________________\n",
      "conv_pw_8_relu (Activation)     (None, 32, 32, 512)  0           conv_pw_8_bn[0][0]               \n",
      "__________________________________________________________________________________________________\n",
      "conv_dw_9 (DepthwiseConv2D)     (None, 32, 32, 512)  4608        conv_pw_8_relu[0][0]             \n",
      "__________________________________________________________________________________________________\n",
      "conv_dw_9_bn (BatchNormalizatio (None, 32, 32, 512)  2048        conv_dw_9[0][0]                  \n",
      "__________________________________________________________________________________________________\n",
      "conv_dw_9_relu (Activation)     (None, 32, 32, 512)  0           conv_dw_9_bn[0][0]               \n",
      "__________________________________________________________________________________________________\n",
      "conv_pw_9 (Conv2D)              (None, 32, 32, 512)  262144      conv_dw_9_relu[0][0]             \n",
      "__________________________________________________________________________________________________\n",
      "conv_pw_9_bn (BatchNormalizatio (None, 32, 32, 512)  2048        conv_pw_9[0][0]                  \n",
      "__________________________________________________________________________________________________\n",
      "conv_pw_9_relu (Activation)     (None, 32, 32, 512)  0           conv_pw_9_bn[0][0]               \n",
      "__________________________________________________________________________________________________\n",
      "conv_dw_10 (DepthwiseConv2D)    (None, 32, 32, 512)  4608        conv_pw_9_relu[0][0]             \n",
      "__________________________________________________________________________________________________\n",
      "conv_dw_10_bn (BatchNormalizati (None, 32, 32, 512)  2048        conv_dw_10[0][0]                 \n",
      "__________________________________________________________________________________________________\n",
      "conv_dw_10_relu (Activation)    (None, 32, 32, 512)  0           conv_dw_10_bn[0][0]              \n",
      "__________________________________________________________________________________________________\n",
      "conv_pw_10 (Conv2D)             (None, 32, 32, 512)  262144      conv_dw_10_relu[0][0]            \n",
      "__________________________________________________________________________________________________\n",
      "conv_pw_10_bn (BatchNormalizati (None, 32, 32, 512)  2048        conv_pw_10[0][0]                 \n",
      "__________________________________________________________________________________________________\n",
      "conv_pw_10_relu (Activation)    (None, 32, 32, 512)  0           conv_pw_10_bn[0][0]              \n",
      "__________________________________________________________________________________________________\n",
      "conv_dw_11 (DepthwiseConv2D)    (None, 32, 32, 512)  4608        conv_pw_10_relu[0][0]            \n",
      "__________________________________________________________________________________________________\n",
      "conv_dw_11_bn (BatchNormalizati (None, 32, 32, 512)  2048        conv_dw_11[0][0]                 \n",
      "__________________________________________________________________________________________________\n",
      "conv_dw_11_relu (Activation)    (None, 32, 32, 512)  0           conv_dw_11_bn[0][0]              \n",
      "__________________________________________________________________________________________________\n",
      "conv_pw_11 (Conv2D)             (None, 32, 32, 512)  262144      conv_dw_11_relu[0][0]            \n",
      "__________________________________________________________________________________________________\n",
      "conv_pw_11_bn (BatchNormalizati (None, 32, 32, 512)  2048        conv_pw_11[0][0]                 \n",
      "__________________________________________________________________________________________________\n",
      "conv_pw_11_relu (Activation)    (None, 32, 32, 512)  0           conv_pw_11_bn[0][0]              \n",
      "__________________________________________________________________________________________________\n",
      "conv_dw_12 (DepthwiseConv2D)    (None, 16, 16, 512)  4608        conv_pw_11_relu[0][0]            \n",
      "__________________________________________________________________________________________________\n",
      "conv_dw_12_bn (BatchNormalizati (None, 16, 16, 512)  2048        conv_dw_12[0][0]                 \n",
      "__________________________________________________________________________________________________\n",
      "conv_dw_12_relu (Activation)    (None, 16, 16, 512)  0           conv_dw_12_bn[0][0]              \n",
      "__________________________________________________________________________________________________\n",
      "conv_pw_12 (Conv2D)             (None, 16, 16, 1024) 524288      conv_dw_12_relu[0][0]            \n",
      "__________________________________________________________________________________________________\n",
      "conv_pw_12_bn (BatchNormalizati (None, 16, 16, 1024) 4096        conv_pw_12[0][0]                 \n",
      "__________________________________________________________________________________________________\n",
      "conv_pw_12_relu (Activation)    (None, 16, 16, 1024) 0           conv_pw_12_bn[0][0]              \n",
      "__________________________________________________________________________________________________\n",
      "conv_dw_13 (DepthwiseConv2D)    (None, 16, 16, 1024) 9216        conv_pw_12_relu[0][0]            \n",
      "__________________________________________________________________________________________________\n",
      "conv_dw_13_bn (BatchNormalizati (None, 16, 16, 1024) 4096        conv_dw_13[0][0]                 \n",
      "__________________________________________________________________________________________________\n",
      "conv_dw_13_relu (Activation)    (None, 16, 16, 1024) 0           conv_dw_13_bn[0][0]              \n",
      "__________________________________________________________________________________________________\n",
      "conv_pw_13 (Conv2D)             (None, 16, 16, 1024) 1048576     conv_dw_13_relu[0][0]            \n",
      "__________________________________________________________________________________________________\n",
      "conv_pw_13_bn (BatchNormalizati (None, 16, 16, 1024) 4096        conv_pw_13[0][0]                 \n",
      "__________________________________________________________________________________________________\n",
      "conv_pw_13_relu (Activation)    (None, 16, 16, 1024) 0           conv_pw_13_bn[0][0]              \n",
      "__________________________________________________________________________________________________\n",
      "detection_conv6_1 (Conv2D)      (None, 16, 16, 256)  262400      conv_pw_13_relu[0][0]            \n",
      "__________________________________________________________________________________________________\n",
      "detection_conv6_1_bn (BatchNorm (None, 16, 16, 256)  1024        detection_conv6_1[0][0]          \n",
      "__________________________________________________________________________________________________\n",
      "detection_conv6_1_nonlin (Lambd (None, 16, 16, 256)  0           detection_conv6_1_bn[0][0]       \n",
      "__________________________________________________________________________________________________\n",
      "detection_conv6_2_conv_dw_1 (De (None, 8, 8, 256)    2304        detection_conv6_1_nonlin[0][0]   \n",
      "__________________________________________________________________________________________________\n",
      "detection_conv6_2_conv_dw_1_bn  (None, 8, 8, 256)    1024        detection_conv6_2_conv_dw_1[0][0]\n",
      "__________________________________________________________________________________________________\n",
      "detection_conv6_2_conv_dw_1_rel (None, 8, 8, 256)    0           detection_conv6_2_conv_dw_1_bn[0]\n",
      "__________________________________________________________________________________________________\n",
      "detection_conv6_2_conv_pw_1 (Co (None, 8, 8, 512)    131072      detection_conv6_2_conv_dw_1_relu[\n",
      "__________________________________________________________________________________________________\n",
      "detection_conv6_2_conv_pw_1_bn  (None, 8, 8, 512)    2048        detection_conv6_2_conv_pw_1[0][0]\n",
      "__________________________________________________________________________________________________\n",
      "detection_conv6_2_conv_pw_1_rel (None, 8, 8, 512)    0           detection_conv6_2_conv_pw_1_bn[0]\n",
      "__________________________________________________________________________________________________\n",
      "detection_conv7_1 (Conv2D)      (None, 8, 8, 128)    65664       detection_conv6_2_conv_pw_1_relu[\n",
      "__________________________________________________________________________________________________\n",
      "detection_conv7_1_bn (BatchNorm (None, 8, 8, 128)    512         detection_conv7_1[0][0]          \n",
      "__________________________________________________________________________________________________\n",
      "detection_conv7_1_nonlin (Lambd (None, 8, 8, 128)    0           detection_conv7_1_bn[0][0]       \n",
      "__________________________________________________________________________________________________\n",
      "detection_conv7_2_conv_dw_2 (De (None, 4, 4, 128)    1152        detection_conv7_1_nonlin[0][0]   \n",
      "__________________________________________________________________________________________________\n",
      "detection_conv7_2_conv_dw_2_bn  (None, 4, 4, 128)    512         detection_conv7_2_conv_dw_2[0][0]\n",
      "__________________________________________________________________________________________________\n",
      "detection_conv7_2_conv_dw_2_rel (None, 4, 4, 128)    0           detection_conv7_2_conv_dw_2_bn[0]\n",
      "__________________________________________________________________________________________________\n",
      "detection_conv7_2_conv_pw_2 (Co (None, 4, 4, 256)    32768       detection_conv7_2_conv_dw_2_relu[\n",
      "__________________________________________________________________________________________________\n",
      "detection_conv7_2_conv_pw_2_bn  (None, 4, 4, 256)    1024        detection_conv7_2_conv_pw_2[0][0]\n",
      "__________________________________________________________________________________________________\n",
      "detection_conv7_2_conv_pw_2_rel (None, 4, 4, 256)    0           detection_conv7_2_conv_pw_2_bn[0]\n",
      "__________________________________________________________________________________________________\n",
      "detection_conv8_1 (Conv2D)      (None, 4, 4, 128)    32896       detection_conv7_2_conv_pw_2_relu[\n",
      "__________________________________________________________________________________________________\n",
      "detection_conv8_1_bn (BatchNorm (None, 4, 4, 128)    512         detection_conv8_1[0][0]          \n",
      "__________________________________________________________________________________________________\n",
      "detection_conv8_1_nonlin (Lambd (None, 4, 4, 128)    0           detection_conv8_1_bn[0][0]       \n",
      "__________________________________________________________________________________________________\n",
      "detection_conv8_2_conv_dw_3 (De (None, 2, 2, 128)    1152        detection_conv8_1_nonlin[0][0]   \n",
      "__________________________________________________________________________________________________\n",
      "detection_conv8_2_conv_dw_3_bn  (None, 2, 2, 128)    512         detection_conv8_2_conv_dw_3[0][0]\n",
      "__________________________________________________________________________________________________\n",
      "detection_conv8_2_conv_dw_3_rel (None, 2, 2, 128)    0           detection_conv8_2_conv_dw_3_bn[0]\n",
      "__________________________________________________________________________________________________\n",
      "detection_conv8_2_conv_pw_3 (Co (None, 2, 2, 256)    32768       detection_conv8_2_conv_dw_3_relu[\n",
      "__________________________________________________________________________________________________\n",
      "detection_conv8_2_conv_pw_3_bn  (None, 2, 2, 256)    1024        detection_conv8_2_conv_pw_3[0][0]\n",
      "__________________________________________________________________________________________________\n",
      "detection_conv8_2_conv_pw_3_rel (None, 2, 2, 256)    0           detection_conv8_2_conv_pw_3_bn[0]\n",
      "__________________________________________________________________________________________________\n",
      "detection_conv9_1 (Conv2D)      (None, 2, 2, 64)     16448       detection_conv8_2_conv_pw_3_relu[\n",
      "__________________________________________________________________________________________________\n",
      "detection_conv9_1_bn (BatchNorm (None, 2, 2, 64)     256         detection_conv9_1[0][0]          \n",
      "__________________________________________________________________________________________________\n",
      "detection_conv9_1_nonlin (Lambd (None, 2, 2, 64)     0           detection_conv9_1_bn[0][0]       \n",
      "__________________________________________________________________________________________________\n",
      "detection_conv9_2_conv_dw_4 (De (None, 1, 1, 64)     576         detection_conv9_1_nonlin[0][0]   \n",
      "__________________________________________________________________________________________________\n",
      "detection_conv9_2_conv_dw_4_bn  (None, 1, 1, 64)     256         detection_conv9_2_conv_dw_4[0][0]\n",
      "__________________________________________________________________________________________________\n",
      "detection_conv9_2_conv_dw_4_rel (None, 1, 1, 64)     0           detection_conv9_2_conv_dw_4_bn[0]\n",
      "__________________________________________________________________________________________________\n",
      "detection_conv9_2_conv_pw_4 (Co (None, 1, 1, 256)    16384       detection_conv9_2_conv_dw_4_relu[\n",
      "__________________________________________________________________________________________________\n",
      "detection_conv9_2_conv_pw_4_bn  (None, 1, 1, 256)    1024        detection_conv9_2_conv_pw_4[0][0]\n",
      "__________________________________________________________________________________________________\n",
      "detection_conv4_3_norm (L2Norma (None, 32, 32, 512)  512         conv_pw_11_relu[0][0]            \n",
      "__________________________________________________________________________________________________\n",
      "detection_conv9_2_conv_pw_4_rel (None, 1, 1, 256)    0           detection_conv9_2_conv_pw_4_bn[0]\n",
      "__________________________________________________________________________________________________\n",
      "detection_conv4_3_norm_mbox_con (None, 32, 32, 512)  4608        detection_conv4_3_norm[0][0]     \n",
      "__________________________________________________________________________________________________\n",
      "detection_fc7_mbox_conf_conv_dw (None, 16, 16, 1024) 9216        conv_pw_13_relu[0][0]            \n",
      "__________________________________________________________________________________________________\n",
      "detection_conv6_2_mbox_conf_con (None, 8, 8, 512)    4608        detection_conv6_2_conv_pw_1_relu[\n",
      "__________________________________________________________________________________________________\n",
      "detection_conv7_2_mbox_conf_con (None, 4, 4, 256)    2304        detection_conv7_2_conv_pw_2_relu[\n",
      "__________________________________________________________________________________________________\n",
      "detection_conv8_2_mbox_conf_con (None, 2, 2, 256)    2304        detection_conv8_2_conv_pw_3_relu[\n",
      "__________________________________________________________________________________________________\n",
      "detection_conv9_2_mbox_conf_con (None, 1, 1, 256)    2304        detection_conv9_2_conv_pw_4_relu[\n",
      "__________________________________________________________________________________________________\n",
      "detection_conv4_3_norm_mbox_con (None, 32, 32, 512)  2048        detection_conv4_3_norm_mbox_conf_\n",
      "__________________________________________________________________________________________________\n",
      "detection_fc7_mbox_conf_conv_dw (None, 16, 16, 1024) 4096        detection_fc7_mbox_conf_conv_dw_2\n",
      "__________________________________________________________________________________________________\n",
      "detection_conv6_2_mbox_conf_con (None, 8, 8, 512)    2048        detection_conv6_2_mbox_conf_conv_\n",
      "__________________________________________________________________________________________________\n",
      "detection_conv7_2_mbox_conf_con (None, 4, 4, 256)    1024        detection_conv7_2_mbox_conf_conv_\n",
      "__________________________________________________________________________________________________\n",
      "detection_conv8_2_mbox_conf_con (None, 2, 2, 256)    1024        detection_conv8_2_mbox_conf_conv_\n",
      "__________________________________________________________________________________________________\n",
      "detection_conv9_2_mbox_conf_con (None, 1, 1, 256)    1024        detection_conv9_2_mbox_conf_conv_\n",
      "__________________________________________________________________________________________________\n",
      "detection_conv4_3_norm_mbox_loc (None, 32, 32, 512)  4608        detection_conv4_3_norm[0][0]     \n",
      "__________________________________________________________________________________________________\n",
      "detection_fc7_mbox_loc_conv_dw_ (None, 16, 16, 1024) 9216        conv_pw_13_relu[0][0]            \n",
      "__________________________________________________________________________________________________\n",
      "detection_conv6_2_mbox_loc_conv (None, 8, 8, 512)    4608        detection_conv6_2_conv_pw_1_relu[\n",
      "__________________________________________________________________________________________________\n",
      "detection_conv7_2_mbox_loc_conv (None, 4, 4, 256)    2304        detection_conv7_2_conv_pw_2_relu[\n",
      "__________________________________________________________________________________________________\n",
      "detection_conv8_2_mbox_loc_conv (None, 2, 2, 256)    2304        detection_conv8_2_conv_pw_3_relu[\n",
      "__________________________________________________________________________________________________\n",
      "detection_conv9_2_mbox_loc_conv (None, 1, 1, 256)    2304        detection_conv9_2_conv_pw_4_relu[\n",
      "__________________________________________________________________________________________________\n",
      "detection_conv4_3_norm_mbox_con (None, 32, 32, 512)  0           detection_conv4_3_norm_mbox_conf_\n",
      "__________________________________________________________________________________________________\n",
      "detection_fc7_mbox_conf_conv_dw (None, 16, 16, 1024) 0           detection_fc7_mbox_conf_conv_dw_2\n",
      "__________________________________________________________________________________________________\n",
      "detection_conv6_2_mbox_conf_con (None, 8, 8, 512)    0           detection_conv6_2_mbox_conf_conv_\n",
      "__________________________________________________________________________________________________\n",
      "detection_conv7_2_mbox_conf_con (None, 4, 4, 256)    0           detection_conv7_2_mbox_conf_conv_\n",
      "__________________________________________________________________________________________________\n",
      "detection_conv8_2_mbox_conf_con (None, 2, 2, 256)    0           detection_conv8_2_mbox_conf_conv_\n",
      "__________________________________________________________________________________________________\n",
      "detection_conv9_2_mbox_conf_con (None, 1, 1, 256)    0           detection_conv9_2_mbox_conf_conv_\n",
      "__________________________________________________________________________________________________\n",
      "detection_conv4_3_norm_mbox_loc (None, 32, 32, 512)  2048        detection_conv4_3_norm_mbox_loc_c\n",
      "__________________________________________________________________________________________________\n",
      "detection_fc7_mbox_loc_conv_dw_ (None, 16, 16, 1024) 4096        detection_fc7_mbox_loc_conv_dw_2[\n",
      "__________________________________________________________________________________________________\n",
      "detection_conv6_2_mbox_loc_conv (None, 8, 8, 512)    2048        detection_conv6_2_mbox_loc_conv_d\n",
      "__________________________________________________________________________________________________\n",
      "detection_conv7_2_mbox_loc_conv (None, 4, 4, 256)    1024        detection_conv7_2_mbox_loc_conv_d\n",
      "__________________________________________________________________________________________________\n",
      "detection_conv8_2_mbox_loc_conv (None, 2, 2, 256)    1024        detection_conv8_2_mbox_loc_conv_d\n",
      "__________________________________________________________________________________________________\n",
      "detection_conv9_2_mbox_loc_conv (None, 1, 1, 256)    1024        detection_conv9_2_mbox_loc_conv_d\n",
      "__________________________________________________________________________________________________\n",
      "detection_conv4_3_norm_mbox_con (None, 32, 32, 8)    4096        detection_conv4_3_norm_mbox_conf_\n",
      "__________________________________________________________________________________________________\n",
      "detection_fc7_mbox_conf_conv_pw (None, 16, 16, 12)   12288       detection_fc7_mbox_conf_conv_dw_2\n",
      "__________________________________________________________________________________________________\n",
      "detection_conv6_2_mbox_conf_con (None, 8, 8, 12)     6144        detection_conv6_2_mbox_conf_conv_\n",
      "__________________________________________________________________________________________________\n",
      "detection_conv7_2_mbox_conf_con (None, 4, 4, 12)     3072        detection_conv7_2_mbox_conf_conv_\n",
      "__________________________________________________________________________________________________\n",
      "detection_conv8_2_mbox_conf_con (None, 2, 2, 8)      2048        detection_conv8_2_mbox_conf_conv_\n",
      "__________________________________________________________________________________________________\n",
      "detection_conv9_2_mbox_conf_con (None, 1, 1, 8)      2048        detection_conv9_2_mbox_conf_conv_\n",
      "__________________________________________________________________________________________________\n",
      "detection_conv4_3_norm_mbox_loc (None, 32, 32, 512)  0           detection_conv4_3_norm_mbox_loc_c\n",
      "__________________________________________________________________________________________________\n",
      "detection_fc7_mbox_loc_conv_dw_ (None, 16, 16, 1024) 0           detection_fc7_mbox_loc_conv_dw_2_\n",
      "__________________________________________________________________________________________________\n",
      "detection_conv6_2_mbox_loc_conv (None, 8, 8, 512)    0           detection_conv6_2_mbox_loc_conv_d\n",
      "__________________________________________________________________________________________________\n",
      "detection_conv7_2_mbox_loc_conv (None, 4, 4, 256)    0           detection_conv7_2_mbox_loc_conv_d\n",
      "__________________________________________________________________________________________________\n",
      "detection_conv8_2_mbox_loc_conv (None, 2, 2, 256)    0           detection_conv8_2_mbox_loc_conv_d\n",
      "__________________________________________________________________________________________________\n",
      "detection_conv9_2_mbox_loc_conv (None, 1, 1, 256)    0           detection_conv9_2_mbox_loc_conv_d\n",
      "__________________________________________________________________________________________________\n",
      "detection_conv4_3_norm_mbox_con (None, 32, 32, 8)    32          detection_conv4_3_norm_mbox_conf_\n",
      "__________________________________________________________________________________________________\n",
      "detection_fc7_mbox_conf_conv_pw (None, 16, 16, 12)   48          detection_fc7_mbox_conf_conv_pw_2\n",
      "__________________________________________________________________________________________________\n",
      "detection_conv6_2_mbox_conf_con (None, 8, 8, 12)     48          detection_conv6_2_mbox_conf_conv_\n",
      "__________________________________________________________________________________________________\n",
      "detection_conv7_2_mbox_conf_con (None, 4, 4, 12)     48          detection_conv7_2_mbox_conf_conv_\n",
      "__________________________________________________________________________________________________\n",
      "detection_conv8_2_mbox_conf_con (None, 2, 2, 8)      32          detection_conv8_2_mbox_conf_conv_\n",
      "__________________________________________________________________________________________________\n",
      "detection_conv9_2_mbox_conf_con (None, 1, 1, 8)      32          detection_conv9_2_mbox_conf_conv_\n",
      "__________________________________________________________________________________________________\n",
      "detection_conv4_3_norm_mbox_loc (None, 32, 32, 16)   8192        detection_conv4_3_norm_mbox_loc_c\n",
      "__________________________________________________________________________________________________\n",
      "detection_fc7_mbox_loc_conv_pw_ (None, 16, 16, 24)   24576       detection_fc7_mbox_loc_conv_dw_2_\n",
      "__________________________________________________________________________________________________\n",
      "detection_conv6_2_mbox_loc_conv (None, 8, 8, 24)     12288       detection_conv6_2_mbox_loc_conv_d\n",
      "__________________________________________________________________________________________________\n",
      "detection_conv7_2_mbox_loc_conv (None, 4, 4, 24)     6144        detection_conv7_2_mbox_loc_conv_d\n",
      "__________________________________________________________________________________________________\n",
      "detection_conv8_2_mbox_loc_conv (None, 2, 2, 16)     4096        detection_conv8_2_mbox_loc_conv_d\n",
      "__________________________________________________________________________________________________\n",
      "detection_conv9_2_mbox_loc_conv (None, 1, 1, 16)     4096        detection_conv9_2_mbox_loc_conv_d\n",
      "__________________________________________________________________________________________________\n",
      "detection_conv4_3_norm_mbox_con (None, 32, 32, 8)    0           detection_conv4_3_norm_mbox_conf_\n",
      "__________________________________________________________________________________________________\n",
      "detection_fc7_mbox_conf_conv_pw (None, 16, 16, 12)   0           detection_fc7_mbox_conf_conv_pw_2\n",
      "__________________________________________________________________________________________________\n",
      "detection_conv6_2_mbox_conf_con (None, 8, 8, 12)     0           detection_conv6_2_mbox_conf_conv_\n",
      "__________________________________________________________________________________________________\n",
      "detection_conv7_2_mbox_conf_con (None, 4, 4, 12)     0           detection_conv7_2_mbox_conf_conv_\n",
      "__________________________________________________________________________________________________\n",
      "detection_conv8_2_mbox_conf_con (None, 2, 2, 8)      0           detection_conv8_2_mbox_conf_conv_\n",
      "__________________________________________________________________________________________________\n",
      "detection_conv9_2_mbox_conf_con (None, 1, 1, 8)      0           detection_conv9_2_mbox_conf_conv_\n",
      "__________________________________________________________________________________________________\n",
      "detection_conv4_3_norm_mbox_loc (None, 32, 32, 16)   64          detection_conv4_3_norm_mbox_loc_c\n",
      "__________________________________________________________________________________________________\n",
      "detection_fc7_mbox_loc_conv_pw_ (None, 16, 16, 24)   96          detection_fc7_mbox_loc_conv_pw_2[\n",
      "__________________________________________________________________________________________________\n",
      "detection_conv6_2_mbox_loc_conv (None, 8, 8, 24)     96          detection_conv6_2_mbox_loc_conv_p\n",
      "__________________________________________________________________________________________________\n",
      "detection_conv7_2_mbox_loc_conv (None, 4, 4, 24)     96          detection_conv7_2_mbox_loc_conv_p\n",
      "__________________________________________________________________________________________________\n",
      "detection_conv8_2_mbox_loc_conv (None, 2, 2, 16)     64          detection_conv8_2_mbox_loc_conv_p\n",
      "__________________________________________________________________________________________________\n",
      "detection_conv9_2_mbox_loc_conv (None, 1, 1, 16)     64          detection_conv9_2_mbox_loc_conv_p\n",
      "__________________________________________________________________________________________________\n",
      "detection_conv4_3_norm_mbox_con (None, 4096, 2)      0           detection_conv4_3_norm_mbox_conf_\n",
      "__________________________________________________________________________________________________\n",
      "detection_fc7_mbox_conf_reshape (None, 1536, 2)      0           detection_fc7_mbox_conf_conv_pw_2\n",
      "__________________________________________________________________________________________________\n",
      "detection_conv6_2_mbox_conf_res (None, 384, 2)       0           detection_conv6_2_mbox_conf_conv_\n",
      "__________________________________________________________________________________________________\n",
      "detection_conv7_2_mbox_conf_res (None, 96, 2)        0           detection_conv7_2_mbox_conf_conv_\n",
      "__________________________________________________________________________________________________\n",
      "detection_conv8_2_mbox_conf_res (None, 16, 2)        0           detection_conv8_2_mbox_conf_conv_\n",
      "__________________________________________________________________________________________________\n",
      "detection_conv9_2_mbox_conf_res (None, 4, 2)         0           detection_conv9_2_mbox_conf_conv_\n",
      "__________________________________________________________________________________________________\n",
      "detection_conv4_3_norm_mbox_loc (None, 32, 32, 16)   0           detection_conv4_3_norm_mbox_loc_c\n",
      "__________________________________________________________________________________________________\n",
      "detection_fc7_mbox_loc_conv_pw_ (None, 16, 16, 24)   0           detection_fc7_mbox_loc_conv_pw_2_\n",
      "__________________________________________________________________________________________________\n",
      "detection_conv6_2_mbox_loc_conv (None, 8, 8, 24)     0           detection_conv6_2_mbox_loc_conv_p\n",
      "__________________________________________________________________________________________________\n",
      "detection_conv7_2_mbox_loc_conv (None, 4, 4, 24)     0           detection_conv7_2_mbox_loc_conv_p\n",
      "__________________________________________________________________________________________________\n",
      "detection_conv8_2_mbox_loc_conv (None, 2, 2, 16)     0           detection_conv8_2_mbox_loc_conv_p\n",
      "__________________________________________________________________________________________________\n",
      "detection_conv9_2_mbox_loc_conv (None, 1, 1, 16)     0           detection_conv9_2_mbox_loc_conv_p\n",
      "__________________________________________________________________________________________________\n",
      "detection_conv4_3_norm_mbox_pri (None, 32, 32, 4, 8) 0           detection_conv4_3_norm[0][0]     \n",
      "__________________________________________________________________________________________________\n",
      "detection_fc7_mbox_priorbox (An (None, 16, 16, 6, 8) 0           conv_pw_13_relu[0][0]            \n",
      "__________________________________________________________________________________________________\n",
      "detection_conv6_2_mbox_priorbox (None, 8, 8, 6, 8)   0           detection_conv6_2_conv_pw_1_relu[\n",
      "__________________________________________________________________________________________________\n",
      "detection_conv7_2_mbox_priorbox (None, 4, 4, 6, 8)   0           detection_conv7_2_conv_pw_2_relu[\n",
      "__________________________________________________________________________________________________\n",
      "detection_conv8_2_mbox_priorbox (None, 2, 2, 4, 8)   0           detection_conv8_2_conv_pw_3_relu[\n",
      "__________________________________________________________________________________________________\n",
      "detection_conv9_2_mbox_priorbox (None, 1, 1, 4, 8)   0           detection_conv9_2_conv_pw_4_relu[\n",
      "__________________________________________________________________________________________________\n",
      "detection_mbox_conf (Concatenat (None, 6132, 2)      0           detection_conv4_3_norm_mbox_conf_\n",
      "                                                                 detection_fc7_mbox_conf_reshape[0\n",
      "                                                                 detection_conv6_2_mbox_conf_resha\n",
      "                                                                 detection_conv7_2_mbox_conf_resha\n",
      "                                                                 detection_conv8_2_mbox_conf_resha\n",
      "                                                                 detection_conv9_2_mbox_conf_resha\n",
      "__________________________________________________________________________________________________\n",
      "detection_conv4_3_norm_mbox_loc (None, 4096, 4)      0           detection_conv4_3_norm_mbox_loc_c\n",
      "__________________________________________________________________________________________________\n",
      "detection_fc7_mbox_loc_reshape  (None, 1536, 4)      0           detection_fc7_mbox_loc_conv_pw_2_\n",
      "__________________________________________________________________________________________________\n",
      "detection_conv6_2_mbox_loc_resh (None, 384, 4)       0           detection_conv6_2_mbox_loc_conv_p\n",
      "__________________________________________________________________________________________________\n",
      "detection_conv7_2_mbox_loc_resh (None, 96, 4)        0           detection_conv7_2_mbox_loc_conv_p\n",
      "__________________________________________________________________________________________________\n",
      "detection_conv8_2_mbox_loc_resh (None, 16, 4)        0           detection_conv8_2_mbox_loc_conv_p\n",
      "__________________________________________________________________________________________________\n",
      "detection_conv9_2_mbox_loc_resh (None, 4, 4)         0           detection_conv9_2_mbox_loc_conv_p\n",
      "__________________________________________________________________________________________________\n",
      "detection_conv4_3_norm_mbox_pri (None, 4096, 8)      0           detection_conv4_3_norm_mbox_prior\n",
      "__________________________________________________________________________________________________\n",
      "detection_fc7_mbox_priorbox_res (None, 1536, 8)      0           detection_fc7_mbox_priorbox[0][0]\n",
      "__________________________________________________________________________________________________\n",
      "detection_conv6_2_mbox_priorbox (None, 384, 8)       0           detection_conv6_2_mbox_priorbox[0\n",
      "__________________________________________________________________________________________________\n",
      "detection_conv7_2_mbox_priorbox (None, 96, 8)        0           detection_conv7_2_mbox_priorbox[0\n",
      "__________________________________________________________________________________________________\n",
      "detection_conv8_2_mbox_priorbox (None, 16, 8)        0           detection_conv8_2_mbox_priorbox[0\n",
      "__________________________________________________________________________________________________\n",
      "detection_conv9_2_mbox_priorbox (None, 4, 8)         0           detection_conv9_2_mbox_priorbox[0\n",
      "__________________________________________________________________________________________________\n",
      "detection_mbox_conf_softmax (Ac (None, 6132, 2)      0           detection_mbox_conf[0][0]        \n",
      "__________________________________________________________________________________________________\n",
      "detection_mbox_loc (Concatenate (None, 6132, 4)      0           detection_conv4_3_norm_mbox_loc_r\n",
      "                                                                 detection_fc7_mbox_loc_reshape[0]\n",
      "                                                                 detection_conv6_2_mbox_loc_reshap\n",
      "                                                                 detection_conv7_2_mbox_loc_reshap\n",
      "                                                                 detection_conv8_2_mbox_loc_reshap\n",
      "                                                                 detection_conv9_2_mbox_loc_reshap\n",
      "__________________________________________________________________________________________________\n",
      "detection_mbox_priorbox (Concat (None, 6132, 8)      0           detection_conv4_3_norm_mbox_prior\n",
      "                                                                 detection_fc7_mbox_priorbox_resha\n",
      "                                                                 detection_conv6_2_mbox_priorbox_r\n",
      "                                                                 detection_conv7_2_mbox_priorbox_r\n",
      "                                                                 detection_conv8_2_mbox_priorbox_r\n",
      "                                                                 detection_conv9_2_mbox_priorbox_r\n",
      "__________________________________________________________________________________________________\n",
      "detection_predictions (Concaten (None, 6132, 14)     0           detection_mbox_conf_softmax[0][0]\n",
      "                                                                 detection_mbox_loc[0][0]         \n",
      "                                                                 detection_mbox_priorbox[0][0]    \n",
      "==================================================================================================\n",
      "Total params: 3,997,712\n",
      "Trainable params: 3,959,336\n",
      "Non-trainable params: 38,376\n",
      "__________________________________________________________________________________________________\n"
     ]
    }
   ],
   "source": [
    "model.summary()"
   ]
  },
  {
   "cell_type": "code",
   "execution_count": 0,
   "metadata": {
    "colab": {},
    "colab_type": "code",
    "id": "o4_jCRAZZAYl"
   },
   "outputs": [],
   "source": [
    "i = 0\n",
    "for layer in model.layers[:]:\n",
    "  if(not layer.name.startswith(\"detection\")):\n",
    "    layer.trainable = False\n",
    "    i = i+1"
   ]
  },
  {
   "cell_type": "code",
   "execution_count": 19,
   "metadata": {
    "colab": {
     "base_uri": "https://localhost:8080/",
     "height": 34
    },
    "colab_type": "code",
    "executionInfo": {
     "elapsed": 1263,
     "status": "ok",
     "timestamp": 1566631935642,
     "user": {
      "displayName": "kiran amuda",
      "photoUrl": "",
      "userId": "12629111601310051395"
     },
     "user_tz": -330
    },
    "id": "w043EVwCZCt2",
    "outputId": "a31c7976-8d8f-45a1-e75c-7904777680c3"
   },
   "outputs": [
    {
     "name": "stdout",
     "output_type": "stream",
     "text": [
      "85\n"
     ]
    }
   ],
   "source": [
    "print(i)"
   ]
  },
  {
   "cell_type": "markdown",
   "metadata": {
    "colab_type": "text",
    "id": "n1IIGWM2c3x-"
   },
   "source": [
    "### After making the model ready for transfer learning, load the weights of the model given in file ''`mobilenet_1_0_224_tf.h5`''"
   ]
  },
  {
   "cell_type": "code",
   "execution_count": 0,
   "metadata": {
    "colab": {},
    "colab_type": "code",
    "id": "lmCmRr2Rc2Sv"
   },
   "outputs": [],
   "source": [
    "model.load_weights(project_path + \"mobilenet_1_0_224_tf.h5\",by_name=True)"
   ]
  },
  {
   "cell_type": "markdown",
   "metadata": {
    "colab_type": "text",
    "id": "73KNzDSCf6Rh"
   },
   "source": [
    "#### Using the functions given in the model, we are trying to divide the dataset into train and validation samples. Run the below code."
   ]
  },
  {
   "cell_type": "code",
   "execution_count": 21,
   "metadata": {
    "colab": {
     "base_uri": "https://localhost:8080/",
     "height": 221
    },
    "colab_type": "code",
    "executionInfo": {
     "elapsed": 3499,
     "status": "ok",
     "timestamp": 1566631948058,
     "user": {
      "displayName": "kiran amuda",
      "photoUrl": "",
      "userId": "12629111601310051395"
     },
     "user_tz": -330
    },
    "id": "4_pZEU8TfBoR",
    "outputId": "a3c45448-f3f2-42cc-e4b3-1a7cf940cc22"
   },
   "outputs": [
    {
     "name": "stdout",
     "output_type": "stream",
     "text": [
      "==>TRAINING DATA\n",
      "==> Parsing XML files ...\n",
      "==>Parsing XML Finished.\n",
      "==>Generate training batches...\n",
      "==>Training batch generation complete\n",
      "==>Total number of training samples = 128\n",
      "==>VALIDATION\n",
      "==> Parsing XML files ...\n",
      "==>Parsing XML Finished.\n",
      "==>Generate training batches...\n",
      "==>Training batch generation complete\n",
      "==>Total number of validation samples = 60\n"
     ]
    }
   ],
   "source": [
    "\n",
    "batch_size = 32\n",
    "ssd_box_encoder = SSDBoxEncoder(img_height=img_height,\n",
    "                                img_width=img_width,\n",
    "                                n_classes=n_classes, \n",
    "                                predictor_sizes=predictor_sizes,\n",
    "                                min_scale=None,\n",
    "                                max_scale=None,\n",
    "                                scales=scales,\n",
    "                                aspect_ratios_global=None,\n",
    "                                aspect_ratios_per_layer=aspect_ratios,\n",
    "                                two_boxes_for_ar1=two_boxes_for_ar1,\n",
    "                                limit_boxes=limit_boxes,\n",
    "                                variances=variances,\n",
    "                                pos_iou_threshold=0.5,\n",
    "                                neg_iou_threshold=0.2,\n",
    "                                coords=coords,\n",
    "                                normalize_coords=normalize_coords)\n",
    "\n",
    "train_dataset = BatchGenerator(images_path=train_data, \n",
    "                include_classes='all', \n",
    "                box_output_format = ['class_id', 'xmin', 'xmax', 'ymin', 'ymax'])\n",
    "\n",
    "print (\"==>TRAINING DATA\")\n",
    "print (\"==> Parsing XML files ...\")\n",
    "\n",
    "train_dataset.parse_xml(\n",
    "                  annotations_path=train_data,\n",
    "                  image_set_path='None',\n",
    "                  image_set='None',\n",
    "                  classes = class_names, \n",
    "                  exclude_truncated=False,\n",
    "                  exclude_difficult=False,\n",
    "                  ret=False, \n",
    "                  debug = False)\n",
    "print(\"==>Parsing XML Finished.\")\n",
    "\n",
    "print (\"==>Generate training batches...\")\n",
    "train_generator = train_dataset.generate(\n",
    "                 batch_size=batch_size,\n",
    "                 train=True,\n",
    "                 ssd_box_encoder=ssd_box_encoder,\n",
    "                 equalize=True,\n",
    "                 brightness=(0.5,2,0.5),\n",
    "                 flip=0.5,\n",
    "                 translate=((0, 20), (0, 30), 0.5),\n",
    "                 scale=(0.75, 1.2, 0.5),\n",
    "                 crop=False,\n",
    "                 #random_crop = (img_height,img_width,1,3), \n",
    "                 random_crop=False,\n",
    "                 resize=(img_height, img_width),\n",
    "                 #resize=False,\n",
    "                 gray=False,\n",
    "                 limit_boxes=True,\n",
    "                 include_thresh=0.4,\n",
    "                 diagnostics=False)\n",
    "\n",
    "print (\"==>Training batch generation complete\")\n",
    "\n",
    "n_train_samples = train_dataset.get_n_samples()\n",
    "\n",
    "print (\"==>Total number of training samples = {}\".format(n_train_samples))\n",
    "\n",
    "# Now repeat above steps for validation data \n",
    "\n",
    "print (\"==>VALIDATION\")\n",
    "\n",
    "val_dataset = BatchGenerator(images_path=test_data, include_classes='all', \n",
    "                box_output_format = ['class_id', 'xmin', 'xmax', 'ymin', 'ymax'])\n",
    "\n",
    "print (\"==> Parsing XML files ...\")\n",
    "\n",
    "\n",
    "val_dataset.parse_xml(\n",
    "                  annotations_path=test_data,\n",
    "                  image_set_path='None',\n",
    "                  image_set='None',\n",
    "                  classes = class_names, \n",
    "                  exclude_truncated=False,\n",
    "                  exclude_difficult=False,\n",
    "                  ret=False, \n",
    "                  debug = False)\n",
    "\n",
    "\n",
    "print(\"==>Parsing XML Finished.\")\n",
    "\n",
    "\n",
    "print (\"==>Generate training batches...\")\n",
    "val_generator = val_dataset.generate(\n",
    "                 batch_size=batch_size,\n",
    "                 train=True,\n",
    "                 ssd_box_encoder=ssd_box_encoder,\n",
    "                 equalize=False,\n",
    "                 brightness=False,\n",
    "                 flip=False,\n",
    "                 translate=False,\n",
    "                 scale=False,\n",
    "                 crop=False,\n",
    "                 #random_crop = (img_height,img_width,1,3), \n",
    "                 random_crop=False, \n",
    "                 resize=(img_height, img_width), \n",
    "                 #resize=False, \n",
    "                 gray=False,\n",
    "                 limit_boxes=True,\n",
    "                 include_thresh=0.4,\n",
    "                 diagnostics=False)\n",
    "\n",
    "\n",
    "print (\"==>Training batch generation complete\")\n",
    "\n",
    "n_val_samples = val_dataset.get_n_samples()\n",
    "\n",
    "print (\"==>Total number of validation samples = {}\".format(n_val_samples))"
   ]
  },
  {
   "cell_type": "markdown",
   "metadata": {
    "colab_type": "text",
    "id": "4KtkdFTQhKlE"
   },
   "source": [
    "### Now, lets setup things for training by initilaizing required variables like learning rate, epochs, optimizer and loss function(SSDLoss) to compile the model"
   ]
  },
  {
   "cell_type": "code",
   "execution_count": 22,
   "metadata": {
    "colab": {
     "base_uri": "https://localhost:8080/",
     "height": 224
    },
    "colab_type": "code",
    "executionInfo": {
     "elapsed": 1294,
     "status": "ok",
     "timestamp": 1566631963275,
     "user": {
      "displayName": "kiran amuda",
      "photoUrl": "",
      "userId": "12629111601310051395"
     },
     "user_tz": -330
    },
    "id": "g1-3OOPmgmxk",
    "outputId": "4e4f51e7-bdfa-4240-a9c1-f70ecf8c5ce3"
   },
   "outputs": [
    {
     "name": "stderr",
     "output_type": "stream",
     "text": [
      "W0824 07:32:42.197438 140427428218752 deprecation_wrapper.py:119] From /usr/local/lib/python2.7/dist-packages/keras/optimizers.py:790: The name tf.train.Optimizer is deprecated. Please use tf.compat.v1.train.Optimizer instead.\n",
      "\n",
      "W0824 07:32:42.214543 140427428218752 deprecation.py:323] From /content/drive/My Drive/Greatlearning_AIML/Greatlakes/Residency_Labs_Solution/Project/Deep Learning/Computer Vision/Face Detection/keras_ssd_loss.py:129: to_float (from tensorflow.python.ops.math_ops) is deprecated and will be removed in a future version.\n",
      "Instructions for updating:\n",
      "Use `tf.cast` instead.\n",
      "W0824 07:32:42.225511 140427428218752 deprecation.py:323] From /content/drive/My Drive/Greatlearning_AIML/Greatlakes/Residency_Labs_Solution/Project/Deep Learning/Computer Vision/Face Detection/keras_ssd_loss.py:76: where (from tensorflow.python.ops.array_ops) is deprecated and will be removed in a future version.\n",
      "Instructions for updating:\n",
      "Use tf.where in 2.0, which has the same broadcast rule as np.where\n",
      "W0824 07:32:42.242055 140427428218752 deprecation.py:323] From /content/drive/My Drive/Greatlearning_AIML/Greatlakes/Residency_Labs_Solution/Project/Deep Learning/Computer Vision/Face Detection/keras_ssd_loss.py:162: to_int32 (from tensorflow.python.ops.math_ops) is deprecated and will be removed in a future version.\n",
      "Instructions for updating:\n",
      "Use `tf.cast` instead.\n"
     ]
    }
   ],
   "source": [
    "# setting up training \n",
    "\n",
    "# batch_size and no.of epochs\n",
    "\n",
    "batch_size = 16\n",
    "num_epochs = 10\n",
    "\n",
    "#Learning rate\n",
    "base_lr = 0.002\n",
    "\n",
    "# Optimizer\n",
    "adam = Adam(lr=base_lr, beta_1=0.9, beta_2=0.999, epsilon=1e-6, decay = 0.0)\n",
    "\n",
    "# Loss\n",
    "ssd_loss = SSDLoss(neg_pos_ratio=2, n_neg_min=0, alpha=1.0, beta = 1.0)\n",
    "\n",
    "# Compile\n",
    "model.compile(optimizer=adam, loss=ssd_loss.compute_loss)"
   ]
  },
  {
   "cell_type": "markdown",
   "metadata": {
    "colab_type": "text",
    "id": "vt_RxSHJitPR"
   },
   "source": [
    "### Lets add early stopping and model checkpoint layers on validation loss with some patience values and using fit_generator function to train the model on data generated batch-by-batch by a Python generator, `train_generator` object as generator.\n",
    "\n",
    "\n",
    "We are using checkpoint to save the best model based on validation accuracy."
   ]
  },
  {
   "cell_type": "markdown",
   "metadata": {
    "colab_type": "text",
    "id": "ugJ68M7_vDqy"
   },
   "source": [
    "#### Write code for early_stopping and model_checkpoint layers. Using model.fit_generator train the model and save the best weight file."
   ]
  },
  {
   "cell_type": "code",
   "execution_count": 23,
   "metadata": {
    "colab": {
     "base_uri": "https://localhost:8080/",
     "height": 374
    },
    "colab_type": "code",
    "executionInfo": {
     "elapsed": 2352762,
     "status": "ok",
     "timestamp": 1566634341904,
     "user": {
      "displayName": "kiran amuda",
      "photoUrl": "",
      "userId": "12629111601310051395"
     },
     "user_tz": -330
    },
    "id": "EeO-T9jwi8be",
    "outputId": "94a3ce5c-b3ea-41ff-a394-4e19ce4c607c"
   },
   "outputs": [
    {
     "name": "stdout",
     "output_type": "stream",
     "text": [
      "Epoch 1/10\n",
      "128/128 [==============================] - 255s 2s/step - loss: 0.2316 - val_loss: 0.2277\n",
      "Epoch 2/10\n",
      "128/128 [==============================] - 233s 2s/step - loss: 0.2006 - val_loss: 0.2216\n",
      "Epoch 3/10\n",
      "128/128 [==============================] - 234s 2s/step - loss: 0.1948 - val_loss: 0.2177\n",
      "Epoch 4/10\n",
      "128/128 [==============================] - 234s 2s/step - loss: 0.1938 - val_loss: 0.2162\n",
      "Epoch 5/10\n",
      "128/128 [==============================] - 234s 2s/step - loss: 0.1909 - val_loss: 0.2171\n",
      "Epoch 6/10\n",
      "128/128 [==============================] - 232s 2s/step - loss: 0.1883 - val_loss: 0.2152\n",
      "Epoch 7/10\n",
      "128/128 [==============================] - 232s 2s/step - loss: 0.1870 - val_loss: 0.2135\n",
      "Epoch 8/10\n",
      "128/128 [==============================] - 232s 2s/step - loss: 0.1876 - val_loss: 0.2113\n",
      "Epoch 9/10\n",
      "128/128 [==============================] - 229s 2s/step - loss: 0.1862 - val_loss: 0.2120\n",
      "Epoch 10/10\n",
      "128/128 [==============================] - 232s 2s/step - loss: 0.1852 - val_loss: 0.2123\n"
     ]
    },
    {
     "data": {
      "text/plain": [
       "<keras.callbacks.History at 0x7fb77cc22f90>"
      ]
     },
     "execution_count": 23,
     "metadata": {
      "tags": []
     },
     "output_type": "execute_result"
    }
   ],
   "source": [
    "checkpoint = ModelCheckpoint(\"facedet_best.h5\", monitor='val_acc', verbose=1, save_best_only=True, save_weights_only=False, mode='auto', period=1)\n",
    "early = EarlyStopping(monitor='val_acc', min_delta=0, patience=10, verbose=1, mode='auto')\n",
    "\n",
    "model.fit_generator(\n",
    "train_generator,\n",
    "samples_per_epoch = n_train_samples,\n",
    "epochs = num_epochs,\n",
    "validation_data = val_generator,\n",
    "nb_val_samples = n_val_samples,\n",
    "callbacks = [checkpoint, early])\n"
   ]
  },
  {
   "cell_type": "markdown",
   "metadata": {
    "colab_type": "text",
    "id": "U3FHrp77jdOx"
   },
   "source": [
    "### Load the best saved model from above step and check predictions for test data using test_generator object to generate batches."
   ]
  },
  {
   "cell_type": "markdown",
   "metadata": {
    "colab_type": "text",
    "id": "S7eP30cxvcEA"
   },
   "source": [
    "#### Write code in the below cell to load best saved model in the above step."
   ]
  },
  {
   "cell_type": "code",
   "execution_count": 0,
   "metadata": {
    "colab": {},
    "colab_type": "code",
    "id": "nh7tMrxFjR4B"
   },
   "outputs": [],
   "source": [
    "model.load_weights('facedet_best.h5')"
   ]
  },
  {
   "cell_type": "markdown",
   "metadata": {
    "colab_type": "text",
    "id": "6dD7q7pzqvnh"
   },
   "source": [
    "### Use the below function to plot the boundingbox in the test image to show the predictions."
   ]
  },
  {
   "cell_type": "code",
   "execution_count": 0,
   "metadata": {
    "colab": {},
    "colab_type": "code",
    "id": "h89fe5NGqwI9"
   },
   "outputs": [],
   "source": [
    "def save_bb(path, filename, results, prediction=True):\n",
    "  \n",
    "  # print filename\n",
    "\n",
    "  img = image.load_img(filename, target_size=(img_height, img_width))\n",
    "  img = image.img_to_array(img)\n",
    "\n",
    "  filename = filename.split(\"/\")[-1]\n",
    "\n",
    "  if(not prediction):\n",
    "    filename = filename[:-4] + \"_gt\" + \".jpg\"\n",
    "\n",
    "  #fig,currentAxis = plt.subplots(1)\n",
    "  currentAxis = plt.gca()\n",
    "\n",
    " # Get detections with confidence higher than 0.6.\n",
    "  colors = plt.cm.hsv(np.linspace(0, 1, 25)).tolist()\n",
    "  color_code = min(len(results), 16)\n",
    "  print (colored(\"total number of bbs: %d\" % len(results), \"yellow\"))\n",
    "  for result in results:\n",
    "    # Parse the outputs.\n",
    "\n",
    "    if(prediction):\n",
    "      det_label = result[0]\n",
    "      det_conf = result[1]\n",
    "      det_xmin = result[2]\n",
    "      det_xmax = result[3]\n",
    "      det_ymin = result[4]\n",
    "      det_ymax = result[5]\n",
    "    else :\n",
    "      det_label = result[0]\n",
    "      det_xmin = result[1]\n",
    "      det_xmax = result[2]\n",
    "      det_ymin = result[3]\n",
    "      det_ymax = result[4]\n",
    "\n",
    "    xmin = int(det_xmin)\n",
    "    ymin = int(det_ymin)\n",
    "    xmax = int(det_xmax)\n",
    "    ymax = int(det_ymax)\n",
    "\n",
    "    if(prediction):\n",
    "      score = det_conf\n",
    "    \n",
    "    plt.imshow(img / 255.)\n",
    "    \n",
    "    label = int(int(det_label))\n",
    "    label_name = class_names[label]\n",
    "    # print label_name \n",
    "    # print label\n",
    "\n",
    "    if(prediction):\n",
    "      display_txt = '{:0.2f}'.format(score)\n",
    "    else:\n",
    "      display_txt = '{}'.format(label_name)\n",
    "\n",
    "      \n",
    "    # print (xmin, ymin, ymin, ymax)\n",
    "    coords = (xmin, ymin), (xmax-xmin), (ymax-ymin)\n",
    "    color_code = color_code-1 \n",
    "    color = colors[color_code]\n",
    "    currentAxis.add_patch(plt.Rectangle(*coords, fill=False, edgecolor=color, linewidth=2))\n",
    "    currentAxis.text(xmin, ymin, display_txt, bbox={'facecolor':color, 'alpha':0.2})\n",
    "\n",
    "  # y\n",
    "  currentAxis.axes.get_yaxis().set_visible(False)\n",
    "  # x\n",
    "  currentAxis.axes.get_xaxis().set_visible(False)\n",
    "  plt.savefig(path + filename, bbox_inches='tight')\n",
    "\n",
    "  print ('saved' , path + filename)\n",
    "\n",
    "  plt.clf()\n"
   ]
  },
  {
   "cell_type": "markdown",
   "metadata": {
    "colab_type": "text",
    "id": "RrMdNhMtwE3t"
   },
   "source": [
    "#### Run the below code to create a folder with name output_test and get the predictions for the test images using model.predict()"
   ]
  },
  {
   "cell_type": "code",
   "execution_count": 0,
   "metadata": {
    "colab": {},
    "colab_type": "code",
    "id": "1Sep0lG3vR0R"
   },
   "outputs": [],
   "source": [
    "!mkdir output_test"
   ]
  },
  {
   "cell_type": "code",
   "execution_count": 29,
   "metadata": {
    "colab": {
     "base_uri": "https://localhost:8080/",
     "height": 1000
    },
    "colab_type": "code",
    "executionInfo": {
     "elapsed": 14739,
     "status": "error",
     "timestamp": 1566636036234,
     "user": {
      "displayName": "kiran amuda",
      "photoUrl": "",
      "userId": "12629111601310051395"
     },
     "user_tz": -330
    },
    "id": "70s6RPuInpqo",
    "outputId": "79d37e69-bf60-44e6-fc92-c8cad7457c9d"
   },
   "outputs": [
    {
     "name": "stdout",
     "output_type": "stream",
     "text": [
      "\u001b[32mdone.\u001b[0m\n",
      "\u001b[33mnow predicting...\u001b[0m\n",
      "\u001b[33mtotal number of bbs: 1\u001b[0m\n",
      "('saved', './output_test/35_Basketball_playingbasketball_35_362.jpg')\n",
      "\u001b[33mtotal number of bbs: 3\u001b[0m\n",
      "('saved', './output_test/35_Basketball_playingbasketball_35_362_gt.jpg')\n",
      "\u001b[33mtotal number of bbs: 4\u001b[0m\n",
      "('saved', './output_test/12_Group_Team_Organized_Group_12_Group_Team_Organized_Group_12_83.jpg')\n",
      "\u001b[33mtotal number of bbs: 16\u001b[0m\n",
      "('saved', './output_test/12_Group_Team_Organized_Group_12_Group_Team_Organized_Group_12_83_gt.jpg')\n",
      "\u001b[33mtotal number of bbs: 2\u001b[0m\n",
      "('saved', './output_test/2_Demonstration_Political_Rally_2_800.jpg')\n",
      "\u001b[33mtotal number of bbs: 1\u001b[0m\n",
      "('saved', './output_test/2_Demonstration_Political_Rally_2_800_gt.jpg')\n",
      "\u001b[33mtotal number of bbs: 3\u001b[0m\n",
      "('saved', './output_test/30_Surgeons_Surgeons_30_533.jpg')\n",
      "\u001b[33mtotal number of bbs: 1\u001b[0m\n",
      "('saved', './output_test/30_Surgeons_Surgeons_30_533_gt.jpg')\n",
      "\u001b[33mtotal number of bbs: 3\u001b[0m\n",
      "('saved', './output_test/2_Demonstration_Demonstration_Or_Protest_2_306.jpg')\n",
      "\u001b[33mtotal number of bbs: 10\u001b[0m\n",
      "('saved', './output_test/2_Demonstration_Demonstration_Or_Protest_2_306_gt.jpg')\n",
      "\u001b[33mtotal number of bbs: 0\u001b[0m\n",
      "('saved', './output_test/25_Soldier_Patrol_Soldier_Patrol_25_515.jpg')\n",
      "\u001b[33mtotal number of bbs: 6\u001b[0m\n",
      "('saved', './output_test/25_Soldier_Patrol_Soldier_Patrol_25_515_gt.jpg')\n",
      "\u001b[33mtotal number of bbs: 2\u001b[0m\n",
      "('saved', './output_test/2_Demonstration_Political_Rally_2_219.jpg')\n",
      "\u001b[33mtotal number of bbs: 1\u001b[0m\n",
      "('saved', './output_test/2_Demonstration_Political_Rally_2_219_gt.jpg')\n",
      "\u001b[33mtotal number of bbs: 5\u001b[0m\n",
      "('saved', './output_test/2_Demonstration_Protesters_2_646.jpg')\n",
      "\u001b[33mtotal number of bbs: 14\u001b[0m\n",
      "('saved', './output_test/2_Demonstration_Protesters_2_646_gt.jpg')\n",
      "\u001b[33mtotal number of bbs: 0\u001b[0m\n",
      "('saved', './output_test/25_Soldier_Patrol_Soldier_Patrol_25_515.jpg')\n",
      "\u001b[33mtotal number of bbs: 6\u001b[0m\n",
      "('saved', './output_test/25_Soldier_Patrol_Soldier_Patrol_25_515_gt.jpg')\n",
      "\u001b[33mtotal number of bbs: 1\u001b[0m\n",
      "('saved', './output_test/41_Swimming_Swimmer_41_376.jpg')\n",
      "\u001b[33mtotal number of bbs: 1\u001b[0m\n",
      "('saved', './output_test/41_Swimming_Swimmer_41_376_gt.jpg')\n",
      "\u001b[33mtotal number of bbs: 2\u001b[0m\n",
      "('saved', './output_test/2_Demonstration_Political_Rally_2_219.jpg')\n",
      "\u001b[33mtotal number of bbs: 1\u001b[0m\n",
      "('saved', './output_test/2_Demonstration_Political_Rally_2_219_gt.jpg')\n",
      "\u001b[33mtotal number of bbs: 4\u001b[0m\n",
      "('saved', './output_test/2_Demonstration_Political_Rally_2_187.jpg')\n",
      "\u001b[33mtotal number of bbs: 7\u001b[0m\n",
      "('saved', './output_test/2_Demonstration_Political_Rally_2_187_gt.jpg')\n",
      "\u001b[33mtotal number of bbs: 2\u001b[0m\n",
      "('saved', './output_test/58_Hockey_icehockey_puck_58_285.jpg')\n",
      "\u001b[33mtotal number of bbs: 7\u001b[0m\n",
      "('saved', './output_test/58_Hockey_icehockey_puck_58_285_gt.jpg')\n",
      "\u001b[33mtotal number of bbs: 3\u001b[0m\n",
      "('saved', './output_test/30_Surgeons_Surgeons_30_533.jpg')\n",
      "\u001b[33mtotal number of bbs: 1\u001b[0m\n",
      "('saved', './output_test/30_Surgeons_Surgeons_30_533_gt.jpg')\n",
      "\u001b[33mtotal number of bbs: 1\u001b[0m\n",
      "('saved', './output_test/18_Concerts_Concerts_18_102.jpg')\n",
      "\u001b[33mtotal number of bbs: 1\u001b[0m\n",
      "('saved', './output_test/18_Concerts_Concerts_18_102_gt.jpg')\n"
     ]
    },
    {
     "ename": "IndexError",
     "evalue": "ignored",
     "output_type": "error",
     "traceback": [
      "\u001b[0;31m\u001b[0m",
      "\u001b[0;31mIndexError\u001b[0mTraceback (most recent call last)",
      "\u001b[0;32m<ipython-input-29-58d50d612371>\u001b[0m in \u001b[0;36m<module>\u001b[0;34m()\u001b[0m\n\u001b[1;32m     45\u001b[0m     \u001b[0mnp\u001b[0m\u001b[0;34m.\u001b[0m\u001b[0mset_printoptions\u001b[0m\u001b[0;34m(\u001b[0m\u001b[0msuppress\u001b[0m\u001b[0;34m=\u001b[0m\u001b[0mTrue\u001b[0m\u001b[0;34m)\u001b[0m\u001b[0;34m\u001b[0m\u001b[0;34m\u001b[0m\u001b[0m\n\u001b[1;32m     46\u001b[0m \u001b[0;34m\u001b[0m\u001b[0m\n\u001b[0;32m---> 47\u001b[0;31m     \u001b[0msave_bb\u001b[0m\u001b[0;34m(\u001b[0m\u001b[0;34m\"./output_test/\"\u001b[0m\u001b[0;34m,\u001b[0m \u001b[0mfilenames\u001b[0m\u001b[0;34m[\u001b[0m\u001b[0mi\u001b[0m\u001b[0;34m]\u001b[0m\u001b[0;34m,\u001b[0m \u001b[0my_pred_decoded\u001b[0m\u001b[0;34m[\u001b[0m\u001b[0mi\u001b[0m\u001b[0;34m]\u001b[0m\u001b[0;34m)\u001b[0m\u001b[0;34m\u001b[0m\u001b[0;34m\u001b[0m\u001b[0m\n\u001b[0m\u001b[1;32m     48\u001b[0m     \u001b[0msave_bb\u001b[0m\u001b[0;34m(\u001b[0m\u001b[0;34m\"./output_test/\"\u001b[0m\u001b[0;34m,\u001b[0m \u001b[0mfilenames\u001b[0m\u001b[0;34m[\u001b[0m\u001b[0mi\u001b[0m\u001b[0;34m]\u001b[0m\u001b[0;34m,\u001b[0m \u001b[0my\u001b[0m\u001b[0;34m[\u001b[0m\u001b[0mi\u001b[0m\u001b[0;34m]\u001b[0m\u001b[0;34m,\u001b[0m \u001b[0mprediction\u001b[0m\u001b[0;34m=\u001b[0m\u001b[0mFalse\u001b[0m\u001b[0;34m)\u001b[0m\u001b[0;34m\u001b[0m\u001b[0;34m\u001b[0m\u001b[0m\n",
      "\u001b[0;31mIndexError\u001b[0m: list index out of range"
     ]
    },
    {
     "data": {
      "text/plain": [
       "<Figure size 432x288 with 0 Axes>"
      ]
     },
     "metadata": {
      "tags": []
     },
     "output_type": "display_data"
    }
   ],
   "source": [
    "from keras.preprocessing import image\n",
    "from matplotlib import pyplot as plt\n",
    "\n",
    "test_size = 16\n",
    "test_generator = val_dataset.generate(\n",
    "                 batch_size=test_size,\n",
    "                 train=False,\n",
    "                 ssd_box_encoder=ssd_box_encoder,\n",
    "                 equalize=False,\n",
    "                 brightness=False,\n",
    "                 flip=False,\n",
    "                 translate=False,\n",
    "                 scale=False,\n",
    "                 crop=False,\n",
    "                 #random_crop = (img_height,img_width,1,3), \n",
    "                 random_crop=False, \n",
    "                 resize=(img_height, img_width), \n",
    "                 #resize=False,\n",
    "                 gray=False,\n",
    "                 limit_boxes=True,\n",
    "                 include_thresh=0.4,\n",
    "                 diagnostics=False)\n",
    "\n",
    "print (colored(\"done.\", \"green\"))\n",
    "\n",
    "print (colored(\"now predicting...\", \"yellow\"))\n",
    "\n",
    "_CONF = 0.60 \n",
    "_IOU = 0.15\n",
    "\n",
    "for i in range(test_size):\n",
    "    X, y, filenames = next(test_generator)\n",
    "\n",
    "    y_pred = model.predict(X)\n",
    "    y_pred_decoded = decode_y2(y_pred,\n",
    "                             confidence_thresh=_CONF,\n",
    "                            iou_threshold=_IOU,\n",
    "                            top_k='all',\n",
    "                            input_coords=coords,\n",
    "                            normalize_coords=normalize_coords,\n",
    "                            img_height=img_height,\n",
    "                            img_width=img_width)\n",
    "\n",
    "\n",
    "    np.set_printoptions(suppress=True)\n",
    "\n",
    "    save_bb(\"./output_test/\", filenames[i], y_pred_decoded[i])\n",
    "    save_bb(\"./output_test/\", filenames[i], y[i], prediction=False)\n"
   ]
  },
  {
   "cell_type": "markdown",
   "metadata": {
    "colab_type": "text",
    "id": "qLKgtPCJwena"
   },
   "source": [
    "In the above step all the test images along with predictions are stored in output_test folder in this notebook environment. You can check the folder in Files section of the menu to left-side of screen in colab.\n",
    "\n",
    "Each test image is used for predictions and is stored as 2 files.\n",
    "\n",
    "one file is the original ground truth with <filename_gt.jpg>\n",
    "second file is the prediction of the model on the image. with <filename.jpg>"
   ]
  },
  {
   "cell_type": "markdown",
   "metadata": {
    "colab_type": "text",
    "id": "TFzb3Vj9kDGH"
   },
   "source": [
    "### Visualize a test image to check predictions\n",
    "\n",
    "\n",
    "#### Write code to show images: Using cv2.imshow() or matplotlib show any 3 test images and their predictions."
   ]
  },
  {
   "cell_type": "code",
   "execution_count": 30,
   "metadata": {
    "colab": {
     "base_uri": "https://localhost:8080/",
     "height": 286
    },
    "colab_type": "code",
    "executionInfo": {
     "elapsed": 2114,
     "status": "ok",
     "timestamp": 1566636227899,
     "user": {
      "displayName": "kiran amuda",
      "photoUrl": "",
      "userId": "12629111601310051395"
     },
     "user_tz": -330
    },
    "id": "zA1lMnX4-edG",
    "outputId": "fc8b4150-42bc-4bce-b0e7-75b5859b8fb1"
   },
   "outputs": [
    {
     "data": {
      "text/plain": [
       "<matplotlib.image.AxesImage at 0x7fb7576b1610>"
      ]
     },
     "execution_count": 30,
     "metadata": {
      "tags": []
     },
     "output_type": "execute_result"
    },
    {
     "data": {
      "image/png": "[encoded data removed]",
      "text/plain": [
       "<Figure size 432x288 with 1 Axes>"
      ]
     },
     "metadata": {
      "tags": []
     },
     "output_type": "display_data"
    }
   ],
   "source": [
    "import cv2\n",
    "import matplotlib.pyplot as plt\n",
    "img = cv2.imread(\"output_test/2_Demonstration_Political_Rally_2_187.jpg\")\n",
    "img.shape\n",
    "plt.imshow(img)"
   ]
  },
  {
   "cell_type": "code",
   "execution_count": 41,
   "metadata": {
    "colab": {
     "base_uri": "https://localhost:8080/",
     "height": 286
    },
    "colab_type": "code",
    "executionInfo": {
     "elapsed": 2088,
     "status": "ok",
     "timestamp": 1566636654522,
     "user": {
      "displayName": "kiran amuda",
      "photoUrl": "",
      "userId": "12629111601310051395"
     },
     "user_tz": -330
    },
    "id": "QkI6oavSzAGg",
    "outputId": "e26a5a11-ceed-46ad-a575-ead63456fa04"
   },
   "outputs": [
    {
     "data": {
      "text/plain": [
       "<matplotlib.image.AxesImage at 0x7fb75754b550>"
      ]
     },
     "execution_count": 41,
     "metadata": {
      "tags": []
     },
     "output_type": "execute_result"
    },
    {
     "data": {
      "image/png": "[encoded data removed]",
      "text/plain": [
       "<Figure size 432x288 with 1 Axes>"
      ]
     },
     "metadata": {
      "tags": []
     },
     "output_type": "display_data"
    }
   ],
   "source": [
    "img = cv2.imread(\"output_test/35_Basketball_playingbasketball_35_362_gt.jpg\")\n",
    "img.shape\n",
    "plt.imshow(img)"
   ]
  }
 ],
 "metadata": {
  "accelerator": "GPU",
  "colab": {
   "collapsed_sections": [],
   "name": "FACE_DETECTION_Questions.ipynb",
   "provenance": [],
   "version": "0.3.2"
  },
  "kernelspec": {
   "display_name": "Python 3",
   "language": "python",
   "name": "python3"
  },
  "language_info": {
   "codemirror_mode": {
    "name": "ipython",
    "version": 3
   },
   "file_extension": ".py",
   "mimetype": "text/x-python",
   "name": "python",
   "nbconvert_exporter": "python",
   "pygments_lexer": "ipython3",
   "version": "3.6.8"
  }
 },
 "nbformat": 4,
 "nbformat_minor": 1
}
